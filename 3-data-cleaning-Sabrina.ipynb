{
 "cells": [
  {
   "cell_type": "markdown",
   "id": "21e8f32b",
   "metadata": {},
   "source": [
    "# Data cleaning and merging dataframes"
   ]
  },
  {
   "cell_type": "markdown",
   "id": "4e1694f0",
   "metadata": {},
   "source": [
    "## Loading multiple datasets"
   ]
  },
  {
   "cell_type": "markdown",
   "id": "79de9439",
   "metadata": {},
   "source": [
    "### Classical way\n",
    "\n",
    "Reading file by file"
   ]
  },
  {
   "cell_type": "code",
   "execution_count": 19,
   "id": "11df155e",
   "metadata": {},
   "outputs": [],
   "source": [
    "import pandas as pd\n",
    "\n",
    "path = '../eniac-data/'\n",
    "orderlines = pd.read_csv(path + 'orderlines.csv')\n",
    "orders = pd.read_csv(path + 'orders.csv')\n",
    "brands = pd.read_csv(path + 'brands.csv')\n",
    "products = pd.read_csv(path + 'products.csv')"
   ]
  },
  {
   "cell_type": "code",
   "execution_count": 505,
   "id": "ab516cc9",
   "metadata": {},
   "outputs": [],
   "source": [
    "import pandas as pd\n",
    "\n",
    "orders = pd.read_csv(\"orders.csv\")\n",
    "orderlines = pd.read_csv(\"orderlines.csv\")\n",
    "products = pd.read_csv(\"products.csv\")\n"
   ]
  },
  {
   "cell_type": "markdown",
   "id": "8c5649d3",
   "metadata": {},
   "source": [
    "### Another way\n",
    "\n",
    "Using `os` and a loop to read all the files from a directory. It's also possible to read only files with a certain extension (like `.csv`):"
   ]
  },
  {
   "cell_type": "code",
   "execution_count": 21,
   "id": "b69d3b17",
   "metadata": {},
   "outputs": [
    {
     "name": "stdout",
     "output_type": "stream",
     "text": [
      "['products.csv', 'orders.csv', 'orderlines.csv', 'Eniac_DataFrames_exploration.ipynb', '3-empty.ipynb', 'brands.csv']\n",
      "Eniac_DataFrames_exploration.ipynb\n"
     ]
    }
   ],
   "source": [
    "import pandas as pd\n",
    "import os\n",
    "path = '../eniac-data/'\n",
    "path, dirs, files = next(os.walk(path))\n",
    "print(files)\n",
    "\n",
    "# remove non-csv files\n",
    "for file in files:\n",
    "    if not file.endswith(\"csv\"):\n",
    "        files.remove(file)\n",
    "        print(file)"
   ]
  },
  {
   "cell_type": "code",
   "execution_count": 22,
   "id": "cc0028a1",
   "metadata": {},
   "outputs": [
    {
     "ename": "ParserError",
     "evalue": "Error tokenizing data. C error: Expected 1 fields in line 4, saw 2\n",
     "output_type": "error",
     "traceback": [
      "\u001b[0;31m---------------------------------------------------------------------------\u001b[0m",
      "\u001b[0;31mParserError\u001b[0m                               Traceback (most recent call last)",
      "\u001b[0;32m<ipython-input-22-38a9c0a4a453>\u001b[0m in \u001b[0;36m<module>\u001b[0;34m\u001b[0m\n\u001b[1;32m      4\u001b[0m \u001b[0;31m# append datasets to the list\u001b[0m\u001b[0;34m\u001b[0m\u001b[0;34m\u001b[0m\u001b[0;34m\u001b[0m\u001b[0m\n\u001b[1;32m      5\u001b[0m \u001b[0;32mfor\u001b[0m \u001b[0mfile\u001b[0m \u001b[0;32min\u001b[0m \u001b[0mfiles\u001b[0m\u001b[0;34m:\u001b[0m\u001b[0;34m\u001b[0m\u001b[0;34m\u001b[0m\u001b[0m\n\u001b[0;32m----> 6\u001b[0;31m     \u001b[0mtemp_df\u001b[0m \u001b[0;34m=\u001b[0m \u001b[0mpd\u001b[0m\u001b[0;34m.\u001b[0m\u001b[0mread_csv\u001b[0m\u001b[0;34m(\u001b[0m\u001b[0mpath\u001b[0m \u001b[0;34m+\u001b[0m \u001b[0mfile\u001b[0m\u001b[0;34m,\u001b[0m \u001b[0msep\u001b[0m\u001b[0;34m=\u001b[0m\u001b[0;34m','\u001b[0m\u001b[0;34m)\u001b[0m\u001b[0;34m\u001b[0m\u001b[0;34m\u001b[0m\u001b[0m\n\u001b[0m\u001b[1;32m      7\u001b[0m     \u001b[0mdf_list\u001b[0m\u001b[0;34m.\u001b[0m\u001b[0mappend\u001b[0m\u001b[0;34m(\u001b[0m\u001b[0mtemp_df\u001b[0m\u001b[0;34m)\u001b[0m\u001b[0;34m\u001b[0m\u001b[0;34m\u001b[0m\u001b[0m\n\u001b[1;32m      8\u001b[0m \u001b[0;34m\u001b[0m\u001b[0m\n",
      "\u001b[0;32m~/opt/anaconda3/lib/python3.8/site-packages/pandas/io/parsers.py\u001b[0m in \u001b[0;36mread_csv\u001b[0;34m(filepath_or_buffer, sep, delimiter, header, names, index_col, usecols, squeeze, prefix, mangle_dupe_cols, dtype, engine, converters, true_values, false_values, skipinitialspace, skiprows, skipfooter, nrows, na_values, keep_default_na, na_filter, verbose, skip_blank_lines, parse_dates, infer_datetime_format, keep_date_col, date_parser, dayfirst, cache_dates, iterator, chunksize, compression, thousands, decimal, lineterminator, quotechar, quoting, doublequote, escapechar, comment, encoding, dialect, error_bad_lines, warn_bad_lines, delim_whitespace, low_memory, memory_map, float_precision, storage_options)\u001b[0m\n\u001b[1;32m    608\u001b[0m     \u001b[0mkwds\u001b[0m\u001b[0;34m.\u001b[0m\u001b[0mupdate\u001b[0m\u001b[0;34m(\u001b[0m\u001b[0mkwds_defaults\u001b[0m\u001b[0;34m)\u001b[0m\u001b[0;34m\u001b[0m\u001b[0;34m\u001b[0m\u001b[0m\n\u001b[1;32m    609\u001b[0m \u001b[0;34m\u001b[0m\u001b[0m\n\u001b[0;32m--> 610\u001b[0;31m     \u001b[0;32mreturn\u001b[0m \u001b[0m_read\u001b[0m\u001b[0;34m(\u001b[0m\u001b[0mfilepath_or_buffer\u001b[0m\u001b[0;34m,\u001b[0m \u001b[0mkwds\u001b[0m\u001b[0;34m)\u001b[0m\u001b[0;34m\u001b[0m\u001b[0;34m\u001b[0m\u001b[0m\n\u001b[0m\u001b[1;32m    611\u001b[0m \u001b[0;34m\u001b[0m\u001b[0m\n\u001b[1;32m    612\u001b[0m \u001b[0;34m\u001b[0m\u001b[0m\n",
      "\u001b[0;32m~/opt/anaconda3/lib/python3.8/site-packages/pandas/io/parsers.py\u001b[0m in \u001b[0;36m_read\u001b[0;34m(filepath_or_buffer, kwds)\u001b[0m\n\u001b[1;32m    466\u001b[0m \u001b[0;34m\u001b[0m\u001b[0m\n\u001b[1;32m    467\u001b[0m     \u001b[0;32mwith\u001b[0m \u001b[0mparser\u001b[0m\u001b[0;34m:\u001b[0m\u001b[0;34m\u001b[0m\u001b[0;34m\u001b[0m\u001b[0m\n\u001b[0;32m--> 468\u001b[0;31m         \u001b[0;32mreturn\u001b[0m \u001b[0mparser\u001b[0m\u001b[0;34m.\u001b[0m\u001b[0mread\u001b[0m\u001b[0;34m(\u001b[0m\u001b[0mnrows\u001b[0m\u001b[0;34m)\u001b[0m\u001b[0;34m\u001b[0m\u001b[0;34m\u001b[0m\u001b[0m\n\u001b[0m\u001b[1;32m    469\u001b[0m \u001b[0;34m\u001b[0m\u001b[0m\n\u001b[1;32m    470\u001b[0m \u001b[0;34m\u001b[0m\u001b[0m\n",
      "\u001b[0;32m~/opt/anaconda3/lib/python3.8/site-packages/pandas/io/parsers.py\u001b[0m in \u001b[0;36mread\u001b[0;34m(self, nrows)\u001b[0m\n\u001b[1;32m   1055\u001b[0m     \u001b[0;32mdef\u001b[0m \u001b[0mread\u001b[0m\u001b[0;34m(\u001b[0m\u001b[0mself\u001b[0m\u001b[0;34m,\u001b[0m \u001b[0mnrows\u001b[0m\u001b[0;34m=\u001b[0m\u001b[0;32mNone\u001b[0m\u001b[0;34m)\u001b[0m\u001b[0;34m:\u001b[0m\u001b[0;34m\u001b[0m\u001b[0;34m\u001b[0m\u001b[0m\n\u001b[1;32m   1056\u001b[0m         \u001b[0mnrows\u001b[0m \u001b[0;34m=\u001b[0m \u001b[0mvalidate_integer\u001b[0m\u001b[0;34m(\u001b[0m\u001b[0;34m\"nrows\"\u001b[0m\u001b[0;34m,\u001b[0m \u001b[0mnrows\u001b[0m\u001b[0;34m)\u001b[0m\u001b[0;34m\u001b[0m\u001b[0;34m\u001b[0m\u001b[0m\n\u001b[0;32m-> 1057\u001b[0;31m         \u001b[0mindex\u001b[0m\u001b[0;34m,\u001b[0m \u001b[0mcolumns\u001b[0m\u001b[0;34m,\u001b[0m \u001b[0mcol_dict\u001b[0m \u001b[0;34m=\u001b[0m \u001b[0mself\u001b[0m\u001b[0;34m.\u001b[0m\u001b[0m_engine\u001b[0m\u001b[0;34m.\u001b[0m\u001b[0mread\u001b[0m\u001b[0;34m(\u001b[0m\u001b[0mnrows\u001b[0m\u001b[0;34m)\u001b[0m\u001b[0;34m\u001b[0m\u001b[0;34m\u001b[0m\u001b[0m\n\u001b[0m\u001b[1;32m   1058\u001b[0m \u001b[0;34m\u001b[0m\u001b[0m\n\u001b[1;32m   1059\u001b[0m         \u001b[0;32mif\u001b[0m \u001b[0mindex\u001b[0m \u001b[0;32mis\u001b[0m \u001b[0;32mNone\u001b[0m\u001b[0;34m:\u001b[0m\u001b[0;34m\u001b[0m\u001b[0;34m\u001b[0m\u001b[0m\n",
      "\u001b[0;32m~/opt/anaconda3/lib/python3.8/site-packages/pandas/io/parsers.py\u001b[0m in \u001b[0;36mread\u001b[0;34m(self, nrows)\u001b[0m\n\u001b[1;32m   2059\u001b[0m     \u001b[0;32mdef\u001b[0m \u001b[0mread\u001b[0m\u001b[0;34m(\u001b[0m\u001b[0mself\u001b[0m\u001b[0;34m,\u001b[0m \u001b[0mnrows\u001b[0m\u001b[0;34m=\u001b[0m\u001b[0;32mNone\u001b[0m\u001b[0;34m)\u001b[0m\u001b[0;34m:\u001b[0m\u001b[0;34m\u001b[0m\u001b[0;34m\u001b[0m\u001b[0m\n\u001b[1;32m   2060\u001b[0m         \u001b[0;32mtry\u001b[0m\u001b[0;34m:\u001b[0m\u001b[0;34m\u001b[0m\u001b[0;34m\u001b[0m\u001b[0m\n\u001b[0;32m-> 2061\u001b[0;31m             \u001b[0mdata\u001b[0m \u001b[0;34m=\u001b[0m \u001b[0mself\u001b[0m\u001b[0;34m.\u001b[0m\u001b[0m_reader\u001b[0m\u001b[0;34m.\u001b[0m\u001b[0mread\u001b[0m\u001b[0;34m(\u001b[0m\u001b[0mnrows\u001b[0m\u001b[0;34m)\u001b[0m\u001b[0;34m\u001b[0m\u001b[0;34m\u001b[0m\u001b[0m\n\u001b[0m\u001b[1;32m   2062\u001b[0m         \u001b[0;32mexcept\u001b[0m \u001b[0mStopIteration\u001b[0m\u001b[0;34m:\u001b[0m\u001b[0;34m\u001b[0m\u001b[0;34m\u001b[0m\u001b[0m\n\u001b[1;32m   2063\u001b[0m             \u001b[0;32mif\u001b[0m \u001b[0mself\u001b[0m\u001b[0;34m.\u001b[0m\u001b[0m_first_chunk\u001b[0m\u001b[0;34m:\u001b[0m\u001b[0;34m\u001b[0m\u001b[0;34m\u001b[0m\u001b[0m\n",
      "\u001b[0;32mpandas/_libs/parsers.pyx\u001b[0m in \u001b[0;36mpandas._libs.parsers.TextReader.read\u001b[0;34m()\u001b[0m\n",
      "\u001b[0;32mpandas/_libs/parsers.pyx\u001b[0m in \u001b[0;36mpandas._libs.parsers.TextReader._read_low_memory\u001b[0;34m()\u001b[0m\n",
      "\u001b[0;32mpandas/_libs/parsers.pyx\u001b[0m in \u001b[0;36mpandas._libs.parsers.TextReader._read_rows\u001b[0;34m()\u001b[0m\n",
      "\u001b[0;32mpandas/_libs/parsers.pyx\u001b[0m in \u001b[0;36mpandas._libs.parsers.TextReader._tokenize_rows\u001b[0;34m()\u001b[0m\n",
      "\u001b[0;32mpandas/_libs/parsers.pyx\u001b[0m in \u001b[0;36mpandas._libs.parsers.raise_parser_error\u001b[0;34m()\u001b[0m\n",
      "\u001b[0;31mParserError\u001b[0m: Error tokenizing data. C error: Expected 1 fields in line 4, saw 2\n"
     ]
    }
   ],
   "source": [
    "# create empty list \n",
    "df_list = []\n",
    "\n",
    "# append datasets to the list\n",
    "for file in files:\n",
    "    temp_df = pd.read_csv(path + file, sep=',')\n",
    "    df_list.append(temp_df)\n",
    "\n",
    "# show results\n",
    "products, orders, orderlines, brands = df_list[0], df_list[1], df_list[2], df_list[3]"
   ]
  },
  {
   "cell_type": "markdown",
   "id": "3f23e939",
   "metadata": {},
   "source": [
    "## Data quality\n",
    "\n",
    "### Missing values"
   ]
  },
  {
   "cell_type": "code",
   "execution_count": null,
   "id": "c0c8035f",
   "metadata": {},
   "outputs": [],
   "source": [
    "def check_missing_values(data): \n",
    "    print('Missing values:' + '\\n' + str(data.isna().sum()))"
   ]
  },
  {
   "cell_type": "code",
   "execution_count": null,
   "id": "b551e4b0",
   "metadata": {},
   "outputs": [],
   "source": [
    "for i in range(len(df_list)): \n",
    "    print(f'File name: {files[i]}')\n",
    "    check_missing_values(df_list[i])\n",
    "    print('\\n')"
   ]
  },
  {
   "cell_type": "markdown",
   "id": "9ab7a58e",
   "metadata": {},
   "source": [
    "### Duplicates"
   ]
  },
  {
   "cell_type": "code",
   "execution_count": null,
   "id": "d978f721",
   "metadata": {},
   "outputs": [],
   "source": [
    "def check_duplicates(data): \n",
    "    print('Duplicated rows: ', data.duplicated().sum())"
   ]
  },
  {
   "cell_type": "code",
   "execution_count": null,
   "id": "4baa932c",
   "metadata": {},
   "outputs": [],
   "source": [
    "for i in range(len(df_list)): \n",
    "    print(f'File name: {files[i]}')\n",
    "    check_missing_values(df_list[i])\n",
    "    check_duplicates(df_list[i])\n",
    "    print('\\n')"
   ]
  },
  {
   "cell_type": "markdown",
   "id": "f0e78d55",
   "metadata": {},
   "source": [
    "Based on our initial exploration we need to find a way to deal with our missing values. \n",
    "\n",
    "Do we have other problems like data inconsistency? \n",
    "\n",
    "* Example: problems with the `price` column in the `orderlines` dataframe."
   ]
  },
  {
   "cell_type": "markdown",
   "id": "ae389f33",
   "metadata": {},
   "source": [
    "### Data inconsistency"
   ]
  },
  {
   "cell_type": "code",
   "execution_count": null,
   "id": "9a300894",
   "metadata": {},
   "outputs": [],
   "source": [
    "for i in range(len(df_list)): \n",
    "    \n",
    "    print(f'File name: {files[i]}')\n",
    "    check_missing_values(df_list[i])\n",
    "    check_duplicates(df_list[i])\n",
    "    df_list[i].info()\n",
    "    print('\\n')"
   ]
  },
  {
   "cell_type": "markdown",
   "id": "0a8061d8",
   "metadata": {},
   "source": [
    "Some aspects that do not make a lot of sense:\n",
    "\n",
    "* **products**: \n",
    "    * `price` and `promo_price` are loaded as objects. They should be floats. \n",
    "    * Quite a lot of missing values: \n",
    "        * `description`: 7 missing values. Maybe that could be inferred from the product name?\n",
    "        * `price`: the missing values could be filled from the `orderlines` dataset. But first we will need to clean it. \n",
    "\n",
    "    \n",
    "* **orders**: \n",
    "    * `created_date` should have a date data type. Then, it would be a good quality check to see if the created date for `orders` mathces with the created dates for `orderlines`. \n",
    "    \n",
    "    \n",
    "* **orderlines**: \n",
    "    * `unit_price` has to be a float, something wrong there. \n",
    "    * `date` has to be transformed to a date data type. Then, as we said, check that it with matches with the `orders` dataset. \n",
    "    \n",
    "    \n",
    "* **brands**: looks fine. \n",
    "\n",
    "\n",
    "Where do we have to start? Since `orders` and `orderlines` seem very crucial to the analysis, we will start by checking that they match."
   ]
  },
  {
   "cell_type": "markdown",
   "id": "07656c82",
   "metadata": {},
   "source": [
    "## Cleaning orders"
   ]
  },
  {
   "cell_type": "code",
   "execution_count": 26,
   "id": "94109f5b",
   "metadata": {},
   "outputs": [
    {
     "name": "stdout",
     "output_type": "stream",
     "text": [
      "        order_id        created_date  total_paid            state  \\\n",
      "0         241319 2017-01-02 13:35:40       44.99        Cancelled   \n",
      "1         241423 2017-11-06 13:10:02      136.15        Completed   \n",
      "2         242832 2017-12-31 17:40:03       15.76        Completed   \n",
      "3         243330 2017-02-16 10:59:38       84.98        Completed   \n",
      "4         243784 2017-11-24 13:35:19      157.86        Cancelled   \n",
      "...          ...                 ...         ...              ...   \n",
      "226904    527397 2018-03-14 13:56:38       42.99      Place Order   \n",
      "226905    527398 2018-03-14 13:57:25       42.99  Shopping Basket   \n",
      "226906    527399 2018-03-14 13:57:34      141.58  Shopping Basket   \n",
      "226907    527400 2018-03-14 13:57:41       19.98  Shopping Basket   \n",
      "226908    527401 2018-03-14 13:58:36       18.98      Place Order   \n",
      "\n",
      "        check_orders  \n",
      "0               True  \n",
      "1               True  \n",
      "2               True  \n",
      "3               True  \n",
      "4               True  \n",
      "...              ...  \n",
      "226904          True  \n",
      "226905          True  \n",
      "226906          True  \n",
      "226907          True  \n",
      "226908          True  \n",
      "\n",
      "[204696 rows x 5 columns]\n"
     ]
    }
   ],
   "source": [
    "# change date datatype\n",
    "orders['created_date'] = pd.to_datetime(orders['created_date'])\n",
    "print(orders)"
   ]
  },
  {
   "cell_type": "markdown",
   "id": "aee64b3c",
   "metadata": {},
   "source": [
    "Some data I could extract from here to do a data quality check with `orderlines`: \n",
    "\n",
    "* the sum of `total_paid` on both datasets should be the same\n",
    "* the initial and last date should be the same"
   ]
  },
  {
   "cell_type": "code",
   "execution_count": 27,
   "id": "0f0697a9",
   "metadata": {},
   "outputs": [
    {
     "data": {
      "text/plain": [
       "Timestamp('2017-01-01 00:07:19')"
      ]
     },
     "execution_count": 27,
     "metadata": {},
     "output_type": "execute_result"
    }
   ],
   "source": [
    "min(orders['created_date'])"
   ]
  },
  {
   "cell_type": "code",
   "execution_count": 28,
   "id": "8b151e57",
   "metadata": {},
   "outputs": [
    {
     "data": {
      "text/plain": [
       "Timestamp('2018-03-14 13:58:36')"
      ]
     },
     "execution_count": 28,
     "metadata": {},
     "output_type": "execute_result"
    }
   ],
   "source": [
    "max(orders['created_date'])"
   ]
  },
  {
   "cell_type": "code",
   "execution_count": 29,
   "id": "da1d28d1",
   "metadata": {},
   "outputs": [
    {
     "data": {
      "text/plain": [
       "nan"
      ]
     },
     "execution_count": 29,
     "metadata": {},
     "output_type": "execute_result"
    }
   ],
   "source": [
    "sum(orders['total_paid'])"
   ]
  },
  {
   "cell_type": "markdown",
   "id": "7edc7d07",
   "metadata": {},
   "source": [
    "I forgot to deal with missing values on our orders dataset!"
   ]
  },
  {
   "cell_type": "code",
   "execution_count": 30,
   "id": "82ad135e",
   "metadata": {},
   "outputs": [
    {
     "data": {
      "text/plain": [
       "order_id        0\n",
       "created_date    0\n",
       "total_paid      5\n",
       "state           0\n",
       "check_orders    0\n",
       "dtype: int64"
      ]
     },
     "execution_count": 30,
     "metadata": {},
     "output_type": "execute_result"
    }
   ],
   "source": [
    "orders.isna().sum()"
   ]
  },
  {
   "cell_type": "code",
   "execution_count": 31,
   "id": "d4940c1c",
   "metadata": {},
   "outputs": [
    {
     "data": {
      "text/html": [
       "<div>\n",
       "<style scoped>\n",
       "    .dataframe tbody tr th:only-of-type {\n",
       "        vertical-align: middle;\n",
       "    }\n",
       "\n",
       "    .dataframe tbody tr th {\n",
       "        vertical-align: top;\n",
       "    }\n",
       "\n",
       "    .dataframe thead th {\n",
       "        text-align: right;\n",
       "    }\n",
       "</style>\n",
       "<table border=\"1\" class=\"dataframe\">\n",
       "  <thead>\n",
       "    <tr style=\"text-align: right;\">\n",
       "      <th></th>\n",
       "      <th>order_id</th>\n",
       "      <th>created_date</th>\n",
       "      <th>total_paid</th>\n",
       "      <th>state</th>\n",
       "      <th>check_orders</th>\n",
       "    </tr>\n",
       "  </thead>\n",
       "  <tbody>\n",
       "    <tr>\n",
       "      <th>127701</th>\n",
       "      <td>427314</td>\n",
       "      <td>2017-11-20 18:54:39</td>\n",
       "      <td>NaN</td>\n",
       "      <td>Pending</td>\n",
       "      <td>True</td>\n",
       "    </tr>\n",
       "    <tr>\n",
       "      <th>132013</th>\n",
       "      <td>431655</td>\n",
       "      <td>2017-11-22 12:15:24</td>\n",
       "      <td>NaN</td>\n",
       "      <td>Pending</td>\n",
       "      <td>True</td>\n",
       "    </tr>\n",
       "    <tr>\n",
       "      <th>147316</th>\n",
       "      <td>447411</td>\n",
       "      <td>2017-11-27 10:32:37</td>\n",
       "      <td>NaN</td>\n",
       "      <td>Pending</td>\n",
       "      <td>True</td>\n",
       "    </tr>\n",
       "    <tr>\n",
       "      <th>148833</th>\n",
       "      <td>448966</td>\n",
       "      <td>2017-11-27 18:54:15</td>\n",
       "      <td>NaN</td>\n",
       "      <td>Pending</td>\n",
       "      <td>True</td>\n",
       "    </tr>\n",
       "    <tr>\n",
       "      <th>149434</th>\n",
       "      <td>449596</td>\n",
       "      <td>2017-11-27 21:52:08</td>\n",
       "      <td>NaN</td>\n",
       "      <td>Pending</td>\n",
       "      <td>True</td>\n",
       "    </tr>\n",
       "  </tbody>\n",
       "</table>\n",
       "</div>"
      ],
      "text/plain": [
       "        order_id        created_date  total_paid    state  check_orders\n",
       "127701    427314 2017-11-20 18:54:39         NaN  Pending          True\n",
       "132013    431655 2017-11-22 12:15:24         NaN  Pending          True\n",
       "147316    447411 2017-11-27 10:32:37         NaN  Pending          True\n",
       "148833    448966 2017-11-27 18:54:15         NaN  Pending          True\n",
       "149434    449596 2017-11-27 21:52:08         NaN  Pending          True"
      ]
     },
     "execution_count": 31,
     "metadata": {},
     "output_type": "execute_result"
    }
   ],
   "source": [
    "# let's filter them out\n",
    "orders.loc[orders['total_paid'].isna()]"
   ]
  },
  {
   "cell_type": "markdown",
   "id": "5eee1066",
   "metadata": {},
   "source": [
    "These orders have a state of \"Pending\", so I can exclude them from our dataset. We are interested on the completed ones."
   ]
  },
  {
   "cell_type": "code",
   "execution_count": 32,
   "id": "5bdda057",
   "metadata": {},
   "outputs": [],
   "source": [
    "orders.dropna(inplace=True)"
   ]
  },
  {
   "cell_type": "markdown",
   "id": "735237aa",
   "metadata": {},
   "source": [
    "Now my dataset is clean. And the total paid is: "
   ]
  },
  {
   "cell_type": "code",
   "execution_count": 33,
   "id": "46d4e428",
   "metadata": {},
   "outputs": [
    {
     "data": {
      "text/plain": [
       "129130877.18"
      ]
     },
     "execution_count": 33,
     "metadata": {},
     "output_type": "execute_result"
    }
   ],
   "source": [
    "orders['total_paid'].sum()"
   ]
  },
  {
   "cell_type": "markdown",
   "id": "244a0534",
   "metadata": {},
   "source": [
    "## Cleaning orderlines"
   ]
  },
  {
   "cell_type": "markdown",
   "id": "601b301a",
   "metadata": {},
   "source": [
    "First let's transform our date time. "
   ]
  },
  {
   "cell_type": "code",
   "execution_count": 34,
   "id": "33600b3d",
   "metadata": {},
   "outputs": [],
   "source": [
    "orderlines['date'] = pd.to_datetime(orderlines['date'])"
   ]
  },
  {
   "cell_type": "code",
   "execution_count": 35,
   "id": "d785530b",
   "metadata": {},
   "outputs": [
    {
     "data": {
      "text/plain": [
       "Timestamp('2017-01-01 00:07:19')"
      ]
     },
     "execution_count": 35,
     "metadata": {},
     "output_type": "execute_result"
    }
   ],
   "source": [
    "min(orderlines['date'])\n",
    "# orders: Timestamp('2017-01-01 00:07:19')"
   ]
  },
  {
   "cell_type": "code",
   "execution_count": 36,
   "id": "358ec479",
   "metadata": {},
   "outputs": [
    {
     "data": {
      "text/plain": [
       "Timestamp('2018-03-14 13:58:36')"
      ]
     },
     "execution_count": 36,
     "metadata": {},
     "output_type": "execute_result"
    }
   ],
   "source": [
    "max(orderlines['date'])\n",
    "# orders: Timestamp('2018-03-14 13:58:36')"
   ]
  },
  {
   "cell_type": "markdown",
   "id": "d373d513",
   "metadata": {},
   "source": [
    "Yes, it seems it match. Now let's test our total_paid. \n",
    "\n",
    "To get this value, we will have to calculate a new column, total price for each row. It would be `product_quantity` * `unit_price`. I can not multiply a two different types of data. So I will have to transform the unit price to a numeric one. "
   ]
  },
  {
   "cell_type": "code",
   "execution_count": 37,
   "id": "8f6c560b",
   "metadata": {},
   "outputs": [
    {
     "ename": "ValueError",
     "evalue": "Unable to parse string \"1.137.99\" at position 6",
     "output_type": "error",
     "traceback": [
      "\u001b[0;31m---------------------------------------------------------------------------\u001b[0m",
      "\u001b[0;31mValueError\u001b[0m                                Traceback (most recent call last)",
      "\u001b[0;32mpandas/_libs/lib.pyx\u001b[0m in \u001b[0;36mpandas._libs.lib.maybe_convert_numeric\u001b[0;34m()\u001b[0m\n",
      "\u001b[0;31mValueError\u001b[0m: Unable to parse string \"1.137.99\"",
      "\nDuring handling of the above exception, another exception occurred:\n",
      "\u001b[0;31mValueError\u001b[0m                                Traceback (most recent call last)",
      "\u001b[0;32m<ipython-input-37-b7e873fbc801>\u001b[0m in \u001b[0;36m<module>\u001b[0;34m\u001b[0m\n\u001b[0;32m----> 1\u001b[0;31m \u001b[0morderlines\u001b[0m\u001b[0;34m[\u001b[0m\u001b[0;34m'product_quantity'\u001b[0m\u001b[0;34m]\u001b[0m \u001b[0;34m*\u001b[0m \u001b[0mpd\u001b[0m\u001b[0;34m.\u001b[0m\u001b[0mto_numeric\u001b[0m\u001b[0;34m(\u001b[0m\u001b[0morderlines\u001b[0m\u001b[0;34m[\u001b[0m\u001b[0;34m'unit_price'\u001b[0m\u001b[0;34m]\u001b[0m\u001b[0;34m)\u001b[0m\u001b[0;34m\u001b[0m\u001b[0;34m\u001b[0m\u001b[0m\n\u001b[0m",
      "\u001b[0;32m~/opt/anaconda3/lib/python3.8/site-packages/pandas/core/tools/numeric.py\u001b[0m in \u001b[0;36mto_numeric\u001b[0;34m(arg, errors, downcast)\u001b[0m\n\u001b[1;32m    152\u001b[0m         \u001b[0mcoerce_numeric\u001b[0m \u001b[0;34m=\u001b[0m \u001b[0merrors\u001b[0m \u001b[0;32mnot\u001b[0m \u001b[0;32min\u001b[0m \u001b[0;34m(\u001b[0m\u001b[0;34m\"ignore\"\u001b[0m\u001b[0;34m,\u001b[0m \u001b[0;34m\"raise\"\u001b[0m\u001b[0;34m)\u001b[0m\u001b[0;34m\u001b[0m\u001b[0;34m\u001b[0m\u001b[0m\n\u001b[1;32m    153\u001b[0m         \u001b[0;32mtry\u001b[0m\u001b[0;34m:\u001b[0m\u001b[0;34m\u001b[0m\u001b[0;34m\u001b[0m\u001b[0m\n\u001b[0;32m--> 154\u001b[0;31m             values = lib.maybe_convert_numeric(\n\u001b[0m\u001b[1;32m    155\u001b[0m                 \u001b[0mvalues\u001b[0m\u001b[0;34m,\u001b[0m \u001b[0mset\u001b[0m\u001b[0;34m(\u001b[0m\u001b[0;34m)\u001b[0m\u001b[0;34m,\u001b[0m \u001b[0mcoerce_numeric\u001b[0m\u001b[0;34m=\u001b[0m\u001b[0mcoerce_numeric\u001b[0m\u001b[0;34m\u001b[0m\u001b[0;34m\u001b[0m\u001b[0m\n\u001b[1;32m    156\u001b[0m             )\n",
      "\u001b[0;32mpandas/_libs/lib.pyx\u001b[0m in \u001b[0;36mpandas._libs.lib.maybe_convert_numeric\u001b[0;34m()\u001b[0m\n",
      "\u001b[0;31mValueError\u001b[0m: Unable to parse string \"1.137.99\" at position 6"
     ]
    }
   ],
   "source": [
    "orderlines['product_quantity'] * pd.to_numeric(orderlines['unit_price'])"
   ]
  },
  {
   "cell_type": "markdown",
   "id": "5dd71aa4",
   "metadata": {},
   "source": [
    "While trying to transform this column to numeric an error appears. From the error message, \"Unable to parse string \"1.137.99\" at position 6\", it seems that our dataset has some problems with the thousands separators: they were encoded as dots, and python only admits one dot per number: the _decimal_ separator!\n",
    "\n",
    "There are a lot of different ways to solve this problem. The first thing I will do is to count how many dots appear for each number using string operations. If price has more than one dot, I will consider it corrupted. "
   ]
  },
  {
   "cell_type": "code",
   "execution_count": 38,
   "id": "3095ecea",
   "metadata": {},
   "outputs": [
    {
     "data": {
      "text/html": [
       "<div>\n",
       "<style scoped>\n",
       "    .dataframe tbody tr th:only-of-type {\n",
       "        vertical-align: middle;\n",
       "    }\n",
       "\n",
       "    .dataframe tbody tr th {\n",
       "        vertical-align: top;\n",
       "    }\n",
       "\n",
       "    .dataframe thead th {\n",
       "        text-align: right;\n",
       "    }\n",
       "</style>\n",
       "<table border=\"1\" class=\"dataframe\">\n",
       "  <thead>\n",
       "    <tr style=\"text-align: right;\">\n",
       "      <th></th>\n",
       "      <th>id</th>\n",
       "      <th>id_order</th>\n",
       "      <th>product_id</th>\n",
       "      <th>product_quantity</th>\n",
       "      <th>sku</th>\n",
       "      <th>unit_price</th>\n",
       "      <th>date</th>\n",
       "      <th>dots</th>\n",
       "    </tr>\n",
       "  </thead>\n",
       "  <tbody>\n",
       "    <tr>\n",
       "      <th>6</th>\n",
       "      <td>1119115</td>\n",
       "      <td>299544</td>\n",
       "      <td>0</td>\n",
       "      <td>1</td>\n",
       "      <td>APP1582</td>\n",
       "      <td>1.137.99</td>\n",
       "      <td>2017-01-01 01:17:21</td>\n",
       "      <td>2</td>\n",
       "    </tr>\n",
       "    <tr>\n",
       "      <th>11</th>\n",
       "      <td>1119126</td>\n",
       "      <td>299549</td>\n",
       "      <td>0</td>\n",
       "      <td>1</td>\n",
       "      <td>PAC0929</td>\n",
       "      <td>2.565.99</td>\n",
       "      <td>2017-01-01 02:07:42</td>\n",
       "      <td>2</td>\n",
       "    </tr>\n",
       "    <tr>\n",
       "      <th>15</th>\n",
       "      <td>1119131</td>\n",
       "      <td>299553</td>\n",
       "      <td>0</td>\n",
       "      <td>1</td>\n",
       "      <td>APP1854</td>\n",
       "      <td>3.278.99</td>\n",
       "      <td>2017-01-01 02:14:47</td>\n",
       "      <td>2</td>\n",
       "    </tr>\n",
       "    <tr>\n",
       "      <th>43</th>\n",
       "      <td>1119195</td>\n",
       "      <td>299582</td>\n",
       "      <td>0</td>\n",
       "      <td>1</td>\n",
       "      <td>PAC0961</td>\n",
       "      <td>2.616.99</td>\n",
       "      <td>2017-01-01 08:54:00</td>\n",
       "      <td>2</td>\n",
       "    </tr>\n",
       "    <tr>\n",
       "      <th>59</th>\n",
       "      <td>1119214</td>\n",
       "      <td>299596</td>\n",
       "      <td>0</td>\n",
       "      <td>1</td>\n",
       "      <td>PAC1599</td>\n",
       "      <td>2.873.99</td>\n",
       "      <td>2017-01-01 09:53:11</td>\n",
       "      <td>2</td>\n",
       "    </tr>\n",
       "    <tr>\n",
       "      <th>...</th>\n",
       "      <td>...</td>\n",
       "      <td>...</td>\n",
       "      <td>...</td>\n",
       "      <td>...</td>\n",
       "      <td>...</td>\n",
       "      <td>...</td>\n",
       "      <td>...</td>\n",
       "      <td>...</td>\n",
       "    </tr>\n",
       "    <tr>\n",
       "      <th>293862</th>\n",
       "      <td>1649999</td>\n",
       "      <td>452946</td>\n",
       "      <td>0</td>\n",
       "      <td>1</td>\n",
       "      <td>APP2075</td>\n",
       "      <td>2.999.00</td>\n",
       "      <td>2018-03-14 13:03:33</td>\n",
       "      <td>2</td>\n",
       "    </tr>\n",
       "    <tr>\n",
       "      <th>293887</th>\n",
       "      <td>1650045</td>\n",
       "      <td>527321</td>\n",
       "      <td>0</td>\n",
       "      <td>1</td>\n",
       "      <td>PAC2148</td>\n",
       "      <td>3.497.00</td>\n",
       "      <td>2018-03-14 13:10:15</td>\n",
       "      <td>2</td>\n",
       "    </tr>\n",
       "    <tr>\n",
       "      <th>293889</th>\n",
       "      <td>1650050</td>\n",
       "      <td>527324</td>\n",
       "      <td>0</td>\n",
       "      <td>1</td>\n",
       "      <td>PAC2117</td>\n",
       "      <td>3.075.00</td>\n",
       "      <td>2018-03-14 13:10:56</td>\n",
       "      <td>2</td>\n",
       "    </tr>\n",
       "    <tr>\n",
       "      <th>293911</th>\n",
       "      <td>1650088</td>\n",
       "      <td>527342</td>\n",
       "      <td>0</td>\n",
       "      <td>1</td>\n",
       "      <td>APP2492</td>\n",
       "      <td>1.329.00</td>\n",
       "      <td>2018-03-14 13:24:51</td>\n",
       "      <td>2</td>\n",
       "    </tr>\n",
       "    <tr>\n",
       "      <th>293936</th>\n",
       "      <td>1650135</td>\n",
       "      <td>527364</td>\n",
       "      <td>0</td>\n",
       "      <td>1</td>\n",
       "      <td>APP2491</td>\n",
       "      <td>1.329.00</td>\n",
       "      <td>2018-03-14 13:36:13</td>\n",
       "      <td>2</td>\n",
       "    </tr>\n",
       "  </tbody>\n",
       "</table>\n",
       "<p>36169 rows × 8 columns</p>\n",
       "</div>"
      ],
      "text/plain": [
       "             id  id_order  product_id  product_quantity      sku unit_price  \\\n",
       "6       1119115    299544           0                 1  APP1582   1.137.99   \n",
       "11      1119126    299549           0                 1  PAC0929   2.565.99   \n",
       "15      1119131    299553           0                 1  APP1854   3.278.99   \n",
       "43      1119195    299582           0                 1  PAC0961   2.616.99   \n",
       "59      1119214    299596           0                 1  PAC1599   2.873.99   \n",
       "...         ...       ...         ...               ...      ...        ...   \n",
       "293862  1649999    452946           0                 1  APP2075   2.999.00   \n",
       "293887  1650045    527321           0                 1  PAC2148   3.497.00   \n",
       "293889  1650050    527324           0                 1  PAC2117   3.075.00   \n",
       "293911  1650088    527342           0                 1  APP2492   1.329.00   \n",
       "293936  1650135    527364           0                 1  APP2491   1.329.00   \n",
       "\n",
       "                      date  dots  \n",
       "6      2017-01-01 01:17:21     2  \n",
       "11     2017-01-01 02:07:42     2  \n",
       "15     2017-01-01 02:14:47     2  \n",
       "43     2017-01-01 08:54:00     2  \n",
       "59     2017-01-01 09:53:11     2  \n",
       "...                    ...   ...  \n",
       "293862 2018-03-14 13:03:33     2  \n",
       "293887 2018-03-14 13:10:15     2  \n",
       "293889 2018-03-14 13:10:56     2  \n",
       "293911 2018-03-14 13:24:51     2  \n",
       "293936 2018-03-14 13:36:13     2  \n",
       "\n",
       "[36169 rows x 8 columns]"
      ]
     },
     "execution_count": 38,
     "metadata": {},
     "output_type": "execute_result"
    }
   ],
   "source": [
    "# we create a copy of the dataset\n",
    "ol_temp = orderlines.copy()\n",
    "\n",
    "# create a new column with the amount of dots in the unit_price column\n",
    "ol_temp['dots'] = orderlines['unit_price'].str.count('\\.')\n",
    "\n",
    "# show the rows with more than one dot\n",
    "ol_temp.query('dots > 1')"
   ]
  },
  {
   "cell_type": "markdown",
   "id": "f3062263",
   "metadata": {},
   "source": [
    "Our theory about the thousands separators is confirmed. How can we solve this problem? \n",
    "\n",
    "My approach would be to remove all the dots for all the unit_prices, and then add a dot before the last 2 digits to all the rows. Then I will transform it into numeric values."
   ]
  },
  {
   "cell_type": "code",
   "execution_count": 39,
   "id": "7a32bb4d",
   "metadata": {},
   "outputs": [
    {
     "data": {
      "text/html": [
       "<div>\n",
       "<style scoped>\n",
       "    .dataframe tbody tr th:only-of-type {\n",
       "        vertical-align: middle;\n",
       "    }\n",
       "\n",
       "    .dataframe tbody tr th {\n",
       "        vertical-align: top;\n",
       "    }\n",
       "\n",
       "    .dataframe thead th {\n",
       "        text-align: right;\n",
       "    }\n",
       "</style>\n",
       "<table border=\"1\" class=\"dataframe\">\n",
       "  <thead>\n",
       "    <tr style=\"text-align: right;\">\n",
       "      <th></th>\n",
       "      <th>id</th>\n",
       "      <th>id_order</th>\n",
       "      <th>product_id</th>\n",
       "      <th>product_quantity</th>\n",
       "      <th>sku</th>\n",
       "      <th>unit_price</th>\n",
       "      <th>date</th>\n",
       "      <th>unit_price_nd</th>\n",
       "    </tr>\n",
       "  </thead>\n",
       "  <tbody>\n",
       "    <tr>\n",
       "      <th>0</th>\n",
       "      <td>1119109</td>\n",
       "      <td>299539</td>\n",
       "      <td>0</td>\n",
       "      <td>1</td>\n",
       "      <td>OTT0133</td>\n",
       "      <td>18.99</td>\n",
       "      <td>2017-01-01 00:07:19</td>\n",
       "      <td>1899</td>\n",
       "    </tr>\n",
       "    <tr>\n",
       "      <th>1</th>\n",
       "      <td>1119110</td>\n",
       "      <td>299540</td>\n",
       "      <td>0</td>\n",
       "      <td>1</td>\n",
       "      <td>LGE0043</td>\n",
       "      <td>399.00</td>\n",
       "      <td>2017-01-01 00:19:45</td>\n",
       "      <td>39900</td>\n",
       "    </tr>\n",
       "    <tr>\n",
       "      <th>2</th>\n",
       "      <td>1119111</td>\n",
       "      <td>299541</td>\n",
       "      <td>0</td>\n",
       "      <td>1</td>\n",
       "      <td>PAR0071</td>\n",
       "      <td>474.05</td>\n",
       "      <td>2017-01-01 00:20:57</td>\n",
       "      <td>47405</td>\n",
       "    </tr>\n",
       "    <tr>\n",
       "      <th>3</th>\n",
       "      <td>1119112</td>\n",
       "      <td>299542</td>\n",
       "      <td>0</td>\n",
       "      <td>1</td>\n",
       "      <td>WDT0315</td>\n",
       "      <td>68.39</td>\n",
       "      <td>2017-01-01 00:51:40</td>\n",
       "      <td>6839</td>\n",
       "    </tr>\n",
       "    <tr>\n",
       "      <th>4</th>\n",
       "      <td>1119113</td>\n",
       "      <td>299543</td>\n",
       "      <td>0</td>\n",
       "      <td>1</td>\n",
       "      <td>JBL0104</td>\n",
       "      <td>23.74</td>\n",
       "      <td>2017-01-01 01:06:38</td>\n",
       "      <td>2374</td>\n",
       "    </tr>\n",
       "  </tbody>\n",
       "</table>\n",
       "</div>"
      ],
      "text/plain": [
       "        id  id_order  product_id  product_quantity      sku unit_price  \\\n",
       "0  1119109    299539           0                 1  OTT0133      18.99   \n",
       "1  1119110    299540           0                 1  LGE0043     399.00   \n",
       "2  1119111    299541           0                 1  PAR0071     474.05   \n",
       "3  1119112    299542           0                 1  WDT0315      68.39   \n",
       "4  1119113    299543           0                 1  JBL0104      23.74   \n",
       "\n",
       "                 date unit_price_nd  \n",
       "0 2017-01-01 00:07:19          1899  \n",
       "1 2017-01-01 00:19:45         39900  \n",
       "2 2017-01-01 00:20:57         47405  \n",
       "3 2017-01-01 00:51:40          6839  \n",
       "4 2017-01-01 01:06:38          2374  "
      ]
     },
     "execution_count": 39,
     "metadata": {},
     "output_type": "execute_result"
    }
   ],
   "source": [
    "orderlines = orderlines.assign(unit_price_nd = orderlines['unit_price'].str.replace('\\.','', regex=True))\n",
    "orderlines.head()"
   ]
  },
  {
   "cell_type": "code",
   "execution_count": 40,
   "id": "71a69a53",
   "metadata": {},
   "outputs": [
    {
     "data": {
      "text/html": [
       "<div>\n",
       "<style scoped>\n",
       "    .dataframe tbody tr th:only-of-type {\n",
       "        vertical-align: middle;\n",
       "    }\n",
       "\n",
       "    .dataframe tbody tr th {\n",
       "        vertical-align: top;\n",
       "    }\n",
       "\n",
       "    .dataframe thead th {\n",
       "        text-align: right;\n",
       "    }\n",
       "</style>\n",
       "<table border=\"1\" class=\"dataframe\">\n",
       "  <thead>\n",
       "    <tr style=\"text-align: right;\">\n",
       "      <th></th>\n",
       "      <th>id</th>\n",
       "      <th>id_order</th>\n",
       "      <th>product_id</th>\n",
       "      <th>product_quantity</th>\n",
       "      <th>sku</th>\n",
       "      <th>unit_price</th>\n",
       "      <th>date</th>\n",
       "      <th>unit_price_nd</th>\n",
       "      <th>digits</th>\n",
       "      <th>integers</th>\n",
       "    </tr>\n",
       "  </thead>\n",
       "  <tbody>\n",
       "    <tr>\n",
       "      <th>0</th>\n",
       "      <td>1119109</td>\n",
       "      <td>299539</td>\n",
       "      <td>0</td>\n",
       "      <td>1</td>\n",
       "      <td>OTT0133</td>\n",
       "      <td>18.99</td>\n",
       "      <td>2017-01-01 00:07:19</td>\n",
       "      <td>1899</td>\n",
       "      <td>99</td>\n",
       "      <td>18</td>\n",
       "    </tr>\n",
       "    <tr>\n",
       "      <th>1</th>\n",
       "      <td>1119110</td>\n",
       "      <td>299540</td>\n",
       "      <td>0</td>\n",
       "      <td>1</td>\n",
       "      <td>LGE0043</td>\n",
       "      <td>399.00</td>\n",
       "      <td>2017-01-01 00:19:45</td>\n",
       "      <td>39900</td>\n",
       "      <td>00</td>\n",
       "      <td>399</td>\n",
       "    </tr>\n",
       "    <tr>\n",
       "      <th>2</th>\n",
       "      <td>1119111</td>\n",
       "      <td>299541</td>\n",
       "      <td>0</td>\n",
       "      <td>1</td>\n",
       "      <td>PAR0071</td>\n",
       "      <td>474.05</td>\n",
       "      <td>2017-01-01 00:20:57</td>\n",
       "      <td>47405</td>\n",
       "      <td>05</td>\n",
       "      <td>474</td>\n",
       "    </tr>\n",
       "    <tr>\n",
       "      <th>3</th>\n",
       "      <td>1119112</td>\n",
       "      <td>299542</td>\n",
       "      <td>0</td>\n",
       "      <td>1</td>\n",
       "      <td>WDT0315</td>\n",
       "      <td>68.39</td>\n",
       "      <td>2017-01-01 00:51:40</td>\n",
       "      <td>6839</td>\n",
       "      <td>39</td>\n",
       "      <td>68</td>\n",
       "    </tr>\n",
       "    <tr>\n",
       "      <th>4</th>\n",
       "      <td>1119113</td>\n",
       "      <td>299543</td>\n",
       "      <td>0</td>\n",
       "      <td>1</td>\n",
       "      <td>JBL0104</td>\n",
       "      <td>23.74</td>\n",
       "      <td>2017-01-01 01:06:38</td>\n",
       "      <td>2374</td>\n",
       "      <td>74</td>\n",
       "      <td>23</td>\n",
       "    </tr>\n",
       "  </tbody>\n",
       "</table>\n",
       "</div>"
      ],
      "text/plain": [
       "        id  id_order  product_id  product_quantity      sku unit_price  \\\n",
       "0  1119109    299539           0                 1  OTT0133      18.99   \n",
       "1  1119110    299540           0                 1  LGE0043     399.00   \n",
       "2  1119111    299541           0                 1  PAR0071     474.05   \n",
       "3  1119112    299542           0                 1  WDT0315      68.39   \n",
       "4  1119113    299543           0                 1  JBL0104      23.74   \n",
       "\n",
       "                 date unit_price_nd digits integers  \n",
       "0 2017-01-01 00:07:19          1899     99       18  \n",
       "1 2017-01-01 00:19:45         39900     00      399  \n",
       "2 2017-01-01 00:20:57         47405     05      474  \n",
       "3 2017-01-01 00:51:40          6839     39       68  \n",
       "4 2017-01-01 01:06:38          2374     74       23  "
      ]
     },
     "execution_count": 40,
     "metadata": {},
     "output_type": "execute_result"
    }
   ],
   "source": [
    "orderlines['digits'] = orderlines['unit_price_nd'].str[-2:]\n",
    "orderlines['integers'] = orderlines['unit_price_nd'].str[:-2]\n",
    "orderlines.head()"
   ]
  },
  {
   "cell_type": "code",
   "execution_count": 41,
   "id": "72a67b19",
   "metadata": {},
   "outputs": [
    {
     "data": {
      "text/html": [
       "<div>\n",
       "<style scoped>\n",
       "    .dataframe tbody tr th:only-of-type {\n",
       "        vertical-align: middle;\n",
       "    }\n",
       "\n",
       "    .dataframe tbody tr th {\n",
       "        vertical-align: top;\n",
       "    }\n",
       "\n",
       "    .dataframe thead th {\n",
       "        text-align: right;\n",
       "    }\n",
       "</style>\n",
       "<table border=\"1\" class=\"dataframe\">\n",
       "  <thead>\n",
       "    <tr style=\"text-align: right;\">\n",
       "      <th></th>\n",
       "      <th>id</th>\n",
       "      <th>id_order</th>\n",
       "      <th>product_id</th>\n",
       "      <th>product_quantity</th>\n",
       "      <th>sku</th>\n",
       "      <th>unit_price</th>\n",
       "      <th>date</th>\n",
       "      <th>unit_price_nd</th>\n",
       "      <th>digits</th>\n",
       "      <th>integers</th>\n",
       "      <th>new_unit_price</th>\n",
       "    </tr>\n",
       "  </thead>\n",
       "  <tbody>\n",
       "    <tr>\n",
       "      <th>0</th>\n",
       "      <td>1119109</td>\n",
       "      <td>299539</td>\n",
       "      <td>0</td>\n",
       "      <td>1</td>\n",
       "      <td>OTT0133</td>\n",
       "      <td>18.99</td>\n",
       "      <td>2017-01-01 00:07:19</td>\n",
       "      <td>1899</td>\n",
       "      <td>99</td>\n",
       "      <td>18</td>\n",
       "      <td>18.99</td>\n",
       "    </tr>\n",
       "    <tr>\n",
       "      <th>1</th>\n",
       "      <td>1119110</td>\n",
       "      <td>299540</td>\n",
       "      <td>0</td>\n",
       "      <td>1</td>\n",
       "      <td>LGE0043</td>\n",
       "      <td>399.00</td>\n",
       "      <td>2017-01-01 00:19:45</td>\n",
       "      <td>39900</td>\n",
       "      <td>00</td>\n",
       "      <td>399</td>\n",
       "      <td>399.00</td>\n",
       "    </tr>\n",
       "    <tr>\n",
       "      <th>2</th>\n",
       "      <td>1119111</td>\n",
       "      <td>299541</td>\n",
       "      <td>0</td>\n",
       "      <td>1</td>\n",
       "      <td>PAR0071</td>\n",
       "      <td>474.05</td>\n",
       "      <td>2017-01-01 00:20:57</td>\n",
       "      <td>47405</td>\n",
       "      <td>05</td>\n",
       "      <td>474</td>\n",
       "      <td>474.05</td>\n",
       "    </tr>\n",
       "    <tr>\n",
       "      <th>3</th>\n",
       "      <td>1119112</td>\n",
       "      <td>299542</td>\n",
       "      <td>0</td>\n",
       "      <td>1</td>\n",
       "      <td>WDT0315</td>\n",
       "      <td>68.39</td>\n",
       "      <td>2017-01-01 00:51:40</td>\n",
       "      <td>6839</td>\n",
       "      <td>39</td>\n",
       "      <td>68</td>\n",
       "      <td>68.39</td>\n",
       "    </tr>\n",
       "    <tr>\n",
       "      <th>4</th>\n",
       "      <td>1119113</td>\n",
       "      <td>299543</td>\n",
       "      <td>0</td>\n",
       "      <td>1</td>\n",
       "      <td>JBL0104</td>\n",
       "      <td>23.74</td>\n",
       "      <td>2017-01-01 01:06:38</td>\n",
       "      <td>2374</td>\n",
       "      <td>74</td>\n",
       "      <td>23</td>\n",
       "      <td>23.74</td>\n",
       "    </tr>\n",
       "  </tbody>\n",
       "</table>\n",
       "</div>"
      ],
      "text/plain": [
       "        id  id_order  product_id  product_quantity      sku unit_price  \\\n",
       "0  1119109    299539           0                 1  OTT0133      18.99   \n",
       "1  1119110    299540           0                 1  LGE0043     399.00   \n",
       "2  1119111    299541           0                 1  PAR0071     474.05   \n",
       "3  1119112    299542           0                 1  WDT0315      68.39   \n",
       "4  1119113    299543           0                 1  JBL0104      23.74   \n",
       "\n",
       "                 date unit_price_nd digits integers new_unit_price  \n",
       "0 2017-01-01 00:07:19          1899     99       18          18.99  \n",
       "1 2017-01-01 00:19:45         39900     00      399         399.00  \n",
       "2 2017-01-01 00:20:57         47405     05      474         474.05  \n",
       "3 2017-01-01 00:51:40          6839     39       68          68.39  \n",
       "4 2017-01-01 01:06:38          2374     74       23          23.74  "
      ]
     },
     "execution_count": 41,
     "metadata": {},
     "output_type": "execute_result"
    }
   ],
   "source": [
    "orderlines['new_unit_price'] = orderlines['integers'] + '.' + orderlines['digits']\n",
    "orderlines.head()"
   ]
  },
  {
   "cell_type": "code",
   "execution_count": 42,
   "id": "d1cc1b11",
   "metadata": {},
   "outputs": [
    {
     "name": "stdout",
     "output_type": "stream",
     "text": [
      "<class 'pandas.core.frame.DataFrame'>\n",
      "RangeIndex: 293983 entries, 0 to 293982\n",
      "Data columns (total 11 columns):\n",
      " #   Column            Non-Null Count   Dtype         \n",
      "---  ------            --------------   -----         \n",
      " 0   id                293983 non-null  int64         \n",
      " 1   id_order          293983 non-null  int64         \n",
      " 2   product_id        293983 non-null  int64         \n",
      " 3   product_quantity  293983 non-null  int64         \n",
      " 4   sku               293983 non-null  object        \n",
      " 5   unit_price        293983 non-null  float64       \n",
      " 6   date              293983 non-null  datetime64[ns]\n",
      " 7   unit_price_nd     293983 non-null  object        \n",
      " 8   digits            293983 non-null  object        \n",
      " 9   integers          293983 non-null  object        \n",
      " 10  new_unit_price    293983 non-null  object        \n",
      "dtypes: datetime64[ns](1), float64(1), int64(4), object(5)\n",
      "memory usage: 24.7+ MB\n"
     ]
    }
   ],
   "source": [
    "# last step is to transform it to numeric\n",
    "orderlines['unit_price'] = pd.to_numeric(orderlines['new_unit_price'])\n",
    "orderlines.info()"
   ]
  },
  {
   "cell_type": "markdown",
   "id": "0d8221b0",
   "metadata": {},
   "source": [
    "Now it is time to see if it is the same than the orders files. "
   ]
  },
  {
   "cell_type": "code",
   "execution_count": 43,
   "id": "9dbdb4d7",
   "metadata": {},
   "outputs": [
    {
     "data": {
      "text/plain": [
       "128776222.0298095"
      ]
     },
     "execution_count": 43,
     "metadata": {},
     "output_type": "execute_result"
    }
   ],
   "source": [
    "orderlines.drop(['unit_price_nd','digits','integers','new_unit_price'], axis=1, inplace=True)\n",
    "\n",
    "orderlines['total_price'] = orderlines['product_quantity'] * orderlines['unit_price']\n",
    "sum(orderlines['total_price'])\n",
    "# 129159615.07000001"
   ]
  },
  {
   "cell_type": "markdown",
   "id": "58f972d0",
   "metadata": {},
   "source": [
    "What!? After all this work the values do not match! How can we figure it out where is the problem? "
   ]
  },
  {
   "cell_type": "markdown",
   "id": "e8479ecb",
   "metadata": {},
   "source": [
    "## Matching `orders` and `orderlines`\n",
    "\n",
    "It is possible that some orders exist in one dataset but not in the other one. This would be a potential source for this price mismatch. Let's solve it!"
   ]
  },
  {
   "cell_type": "markdown",
   "id": "890b0c16",
   "metadata": {},
   "source": [
    "We first create a new column in the `orderlines` dataset using `assign`. We also use `isin()` to create a boolen value (True/False) that checks whether the `id_order` is present in the `orders` dataset:"
   ]
  },
  {
   "cell_type": "code",
   "execution_count": 80,
   "id": "eba19286",
   "metadata": {},
   "outputs": [
    {
     "data": {
      "text/html": [
       "<div>\n",
       "<style scoped>\n",
       "    .dataframe tbody tr th:only-of-type {\n",
       "        vertical-align: middle;\n",
       "    }\n",
       "\n",
       "    .dataframe tbody tr th {\n",
       "        vertical-align: top;\n",
       "    }\n",
       "\n",
       "    .dataframe thead th {\n",
       "        text-align: right;\n",
       "    }\n",
       "</style>\n",
       "<table border=\"1\" class=\"dataframe\">\n",
       "  <thead>\n",
       "    <tr style=\"text-align: right;\">\n",
       "      <th></th>\n",
       "      <th>id</th>\n",
       "      <th>id_order</th>\n",
       "      <th>product_id</th>\n",
       "      <th>product_quantity</th>\n",
       "      <th>sku</th>\n",
       "      <th>unit_price</th>\n",
       "      <th>date</th>\n",
       "      <th>total_price</th>\n",
       "      <th>check_orders</th>\n",
       "    </tr>\n",
       "  </thead>\n",
       "  <tbody>\n",
       "    <tr>\n",
       "      <th>0</th>\n",
       "      <td>1119109</td>\n",
       "      <td>299539</td>\n",
       "      <td>0</td>\n",
       "      <td>1</td>\n",
       "      <td>OTT0133</td>\n",
       "      <td>18.99</td>\n",
       "      <td>2017-01-01 00:07:19</td>\n",
       "      <td>18.99</td>\n",
       "      <td>True</td>\n",
       "    </tr>\n",
       "    <tr>\n",
       "      <th>1</th>\n",
       "      <td>1119110</td>\n",
       "      <td>299540</td>\n",
       "      <td>0</td>\n",
       "      <td>1</td>\n",
       "      <td>LGE0043</td>\n",
       "      <td>399.00</td>\n",
       "      <td>2017-01-01 00:19:45</td>\n",
       "      <td>399.00</td>\n",
       "      <td>True</td>\n",
       "    </tr>\n",
       "    <tr>\n",
       "      <th>2</th>\n",
       "      <td>1119111</td>\n",
       "      <td>299541</td>\n",
       "      <td>0</td>\n",
       "      <td>1</td>\n",
       "      <td>PAR0071</td>\n",
       "      <td>474.05</td>\n",
       "      <td>2017-01-01 00:20:57</td>\n",
       "      <td>474.05</td>\n",
       "      <td>True</td>\n",
       "    </tr>\n",
       "    <tr>\n",
       "      <th>3</th>\n",
       "      <td>1119112</td>\n",
       "      <td>299542</td>\n",
       "      <td>0</td>\n",
       "      <td>1</td>\n",
       "      <td>WDT0315</td>\n",
       "      <td>68.39</td>\n",
       "      <td>2017-01-01 00:51:40</td>\n",
       "      <td>68.39</td>\n",
       "      <td>True</td>\n",
       "    </tr>\n",
       "    <tr>\n",
       "      <th>4</th>\n",
       "      <td>1119113</td>\n",
       "      <td>299543</td>\n",
       "      <td>0</td>\n",
       "      <td>1</td>\n",
       "      <td>JBL0104</td>\n",
       "      <td>23.74</td>\n",
       "      <td>2017-01-01 01:06:38</td>\n",
       "      <td>23.74</td>\n",
       "      <td>True</td>\n",
       "    </tr>\n",
       "    <tr>\n",
       "      <th>...</th>\n",
       "      <td>...</td>\n",
       "      <td>...</td>\n",
       "      <td>...</td>\n",
       "      <td>...</td>\n",
       "      <td>...</td>\n",
       "      <td>...</td>\n",
       "      <td>...</td>\n",
       "      <td>...</td>\n",
       "      <td>...</td>\n",
       "    </tr>\n",
       "    <tr>\n",
       "      <th>293978</th>\n",
       "      <td>1650199</td>\n",
       "      <td>527398</td>\n",
       "      <td>0</td>\n",
       "      <td>1</td>\n",
       "      <td>JBL0122</td>\n",
       "      <td>42.99</td>\n",
       "      <td>2018-03-14 13:57:25</td>\n",
       "      <td>42.99</td>\n",
       "      <td>True</td>\n",
       "    </tr>\n",
       "    <tr>\n",
       "      <th>293979</th>\n",
       "      <td>1650200</td>\n",
       "      <td>527399</td>\n",
       "      <td>0</td>\n",
       "      <td>1</td>\n",
       "      <td>PAC0653</td>\n",
       "      <td>141.58</td>\n",
       "      <td>2018-03-14 13:57:34</td>\n",
       "      <td>141.58</td>\n",
       "      <td>True</td>\n",
       "    </tr>\n",
       "    <tr>\n",
       "      <th>293980</th>\n",
       "      <td>1650201</td>\n",
       "      <td>527400</td>\n",
       "      <td>0</td>\n",
       "      <td>2</td>\n",
       "      <td>APP0698</td>\n",
       "      <td>9.99</td>\n",
       "      <td>2018-03-14 13:57:41</td>\n",
       "      <td>19.98</td>\n",
       "      <td>True</td>\n",
       "    </tr>\n",
       "    <tr>\n",
       "      <th>293981</th>\n",
       "      <td>1650202</td>\n",
       "      <td>527388</td>\n",
       "      <td>0</td>\n",
       "      <td>1</td>\n",
       "      <td>BEZ0204</td>\n",
       "      <td>19.99</td>\n",
       "      <td>2018-03-14 13:58:01</td>\n",
       "      <td>19.99</td>\n",
       "      <td>True</td>\n",
       "    </tr>\n",
       "    <tr>\n",
       "      <th>293982</th>\n",
       "      <td>1650203</td>\n",
       "      <td>527401</td>\n",
       "      <td>0</td>\n",
       "      <td>1</td>\n",
       "      <td>APP0927</td>\n",
       "      <td>13.99</td>\n",
       "      <td>2018-03-14 13:58:36</td>\n",
       "      <td>13.99</td>\n",
       "      <td>True</td>\n",
       "    </tr>\n",
       "  </tbody>\n",
       "</table>\n",
       "<p>293743 rows × 9 columns</p>\n",
       "</div>"
      ],
      "text/plain": [
       "             id  id_order  product_id  product_quantity      sku  unit_price  \\\n",
       "0       1119109    299539           0                 1  OTT0133       18.99   \n",
       "1       1119110    299540           0                 1  LGE0043      399.00   \n",
       "2       1119111    299541           0                 1  PAR0071      474.05   \n",
       "3       1119112    299542           0                 1  WDT0315       68.39   \n",
       "4       1119113    299543           0                 1  JBL0104       23.74   \n",
       "...         ...       ...         ...               ...      ...         ...   \n",
       "293978  1650199    527398           0                 1  JBL0122       42.99   \n",
       "293979  1650200    527399           0                 1  PAC0653      141.58   \n",
       "293980  1650201    527400           0                 2  APP0698        9.99   \n",
       "293981  1650202    527388           0                 1  BEZ0204       19.99   \n",
       "293982  1650203    527401           0                 1  APP0927       13.99   \n",
       "\n",
       "                      date  total_price  check_orders  \n",
       "0      2017-01-01 00:07:19        18.99          True  \n",
       "1      2017-01-01 00:19:45       399.00          True  \n",
       "2      2017-01-01 00:20:57       474.05          True  \n",
       "3      2017-01-01 00:51:40        68.39          True  \n",
       "4      2017-01-01 01:06:38        23.74          True  \n",
       "...                    ...          ...           ...  \n",
       "293978 2018-03-14 13:57:25        42.99          True  \n",
       "293979 2018-03-14 13:57:34       141.58          True  \n",
       "293980 2018-03-14 13:57:41        19.98          True  \n",
       "293981 2018-03-14 13:58:01        19.99          True  \n",
       "293982 2018-03-14 13:58:36        13.99          True  \n",
       "\n",
       "[293743 rows x 9 columns]"
      ]
     },
     "execution_count": 80,
     "metadata": {},
     "output_type": "execute_result"
    }
   ],
   "source": [
    "(orderlines.\n",
    " assign(check_orders = orderlines.id_order.isin(orders.order_id))\n",
    ")"
   ]
  },
  {
   "cell_type": "markdown",
   "id": "8dbe0e0e",
   "metadata": {},
   "source": [
    "Then, using `.query` we select rows where the value in this new column is `False`:"
   ]
  },
  {
   "cell_type": "code",
   "execution_count": 83,
   "id": "92c7c89b",
   "metadata": {},
   "outputs": [
    {
     "data": {
      "text/html": [
       "<div>\n",
       "<style scoped>\n",
       "    .dataframe tbody tr th:only-of-type {\n",
       "        vertical-align: middle;\n",
       "    }\n",
       "\n",
       "    .dataframe tbody tr th {\n",
       "        vertical-align: top;\n",
       "    }\n",
       "\n",
       "    .dataframe thead th {\n",
       "        text-align: right;\n",
       "    }\n",
       "</style>\n",
       "<table border=\"1\" class=\"dataframe\">\n",
       "  <thead>\n",
       "    <tr style=\"text-align: right;\">\n",
       "      <th></th>\n",
       "      <th>id</th>\n",
       "      <th>id_order</th>\n",
       "      <th>product_id</th>\n",
       "      <th>product_quantity</th>\n",
       "      <th>sku</th>\n",
       "      <th>unit_price</th>\n",
       "      <th>date</th>\n",
       "      <th>total_price</th>\n",
       "      <th>check_orders</th>\n",
       "    </tr>\n",
       "  </thead>\n",
       "  <tbody>\n",
       "  </tbody>\n",
       "</table>\n",
       "</div>"
      ],
      "text/plain": [
       "Empty DataFrame\n",
       "Columns: [id, id_order, product_id, product_quantity, sku, unit_price, date, total_price, check_orders]\n",
       "Index: []"
      ]
     },
     "execution_count": 83,
     "metadata": {},
     "output_type": "execute_result"
    }
   ],
   "source": [
    "orderlines.assign(check_orders = orderlines.id_order.isin(orders.order_id)).query(\"check_orders==False\")"
   ]
  },
  {
   "cell_type": "markdown",
   "id": "f9772f49",
   "metadata": {},
   "source": [
    "It looks like 240 rows in `orderlines` come from orders not present in the `orders` dataset. This is quite inconsistent, since the `orders` dataset should be the one and only source of truth for orders: if an order is not there, it should not exist. We will try to find out why that happened, but for now, let's just remove those \"ghost\" orders:"
   ]
  },
  {
   "cell_type": "code",
   "execution_count": 75,
   "id": "ef2d6496",
   "metadata": {},
   "outputs": [
    {
     "name": "stdout",
     "output_type": "stream",
     "text": [
      "             id  id_order  product_id  product_quantity      sku  unit_price  \\\n",
      "0       1119109    299539           0                 1  OTT0133       18.99   \n",
      "1       1119110    299540           0                 1  LGE0043      399.00   \n",
      "2       1119111    299541           0                 1  PAR0071      474.05   \n",
      "3       1119112    299542           0                 1  WDT0315       68.39   \n",
      "4       1119113    299543           0                 1  JBL0104       23.74   \n",
      "...         ...       ...         ...               ...      ...         ...   \n",
      "293978  1650199    527398           0                 1  JBL0122       42.99   \n",
      "293979  1650200    527399           0                 1  PAC0653      141.58   \n",
      "293980  1650201    527400           0                 2  APP0698        9.99   \n",
      "293981  1650202    527388           0                 1  BEZ0204       19.99   \n",
      "293982  1650203    527401           0                 1  APP0927       13.99   \n",
      "\n",
      "                      date  total_price  check_orders  \n",
      "0      2017-01-01 00:07:19        18.99          True  \n",
      "1      2017-01-01 00:19:45       399.00          True  \n",
      "2      2017-01-01 00:20:57       474.05          True  \n",
      "3      2017-01-01 00:51:40        68.39          True  \n",
      "4      2017-01-01 01:06:38        23.74          True  \n",
      "...                    ...          ...           ...  \n",
      "293978 2018-03-14 13:57:25        42.99          True  \n",
      "293979 2018-03-14 13:57:34       141.58          True  \n",
      "293980 2018-03-14 13:57:41        19.98          True  \n",
      "293981 2018-03-14 13:58:01        19.99          True  \n",
      "293982 2018-03-14 13:58:36        13.99          True  \n",
      "\n",
      "[293743 rows x 9 columns]\n"
     ]
    }
   ],
   "source": [
    "orderlines = (orderlines.\n",
    "              assign(check_orders = orderlines.id_order.isin(orders.order_id)).\n",
    "              query(\"check_orders==True\")\n",
    "             )\n",
    "print(orderlines)"
   ]
  },
  {
   "cell_type": "markdown",
   "id": "383f2292",
   "metadata": {},
   "source": [
    "Now let's look at this problem in the opposite direction: are there orders in the `orders` dataset not prsent in `orderlines`?"
   ]
  },
  {
   "cell_type": "code",
   "execution_count": 85,
   "id": "953fdd47",
   "metadata": {},
   "outputs": [
    {
     "data": {
      "text/html": [
       "<div>\n",
       "<style scoped>\n",
       "    .dataframe tbody tr th:only-of-type {\n",
       "        vertical-align: middle;\n",
       "    }\n",
       "\n",
       "    .dataframe tbody tr th {\n",
       "        vertical-align: top;\n",
       "    }\n",
       "\n",
       "    .dataframe thead th {\n",
       "        text-align: right;\n",
       "    }\n",
       "</style>\n",
       "<table border=\"1\" class=\"dataframe\">\n",
       "  <thead>\n",
       "    <tr style=\"text-align: right;\">\n",
       "      <th></th>\n",
       "      <th>order_id</th>\n",
       "      <th>created_date</th>\n",
       "      <th>total_paid</th>\n",
       "      <th>state</th>\n",
       "      <th>check_orders</th>\n",
       "    </tr>\n",
       "  </thead>\n",
       "  <tbody>\n",
       "  </tbody>\n",
       "</table>\n",
       "</div>"
      ],
      "text/plain": [
       "Empty DataFrame\n",
       "Columns: [order_id, created_date, total_paid, state, check_orders]\n",
       "Index: []"
      ]
     },
     "execution_count": 85,
     "metadata": {},
     "output_type": "execute_result"
    }
   ],
   "source": [
    "(orders.\n",
    " assign(check_orders = orders.order_id.isin(orderlines.id_order)).\n",
    " query(\"check_orders==False\")\n",
    ")"
   ]
  },
  {
   "cell_type": "markdown",
   "id": "f0c3d357",
   "metadata": {},
   "source": [
    "There are more than 22000 orders in the `orders` dataset that are not present on the `orderlines` dataset!!! We can try to find out why by looking at the state of these orders:"
   ]
  },
  {
   "cell_type": "code",
   "execution_count": 58,
   "id": "2bc462c7",
   "metadata": {},
   "outputs": [
    {
     "data": {
      "text/plain": [
       "Series([], Name: state, dtype: int64)"
      ]
     },
     "execution_count": 58,
     "metadata": {},
     "output_type": "execute_result"
    }
   ],
   "source": [
    "(orders.\n",
    " assign(check_orders = orders.order_id.isin(orderlines.id_order)).\n",
    " query(\"check_orders==False\").\n",
    " state.value_counts()\n",
    ")"
   ]
  },
  {
   "cell_type": "markdown",
   "id": "3381d58a",
   "metadata": {},
   "source": [
    "It looks like most of them are orders that were not fully completed: the products were left in the shopping basket or the order was \"placed\" but maybe not paid (hence the state \"Place Order\". Some of them were \"Completed\", though. \n",
    "\n",
    "This will require further research, and we might have to come back to these orders if we have to explore consumer behaviour (e.g. why are orders left in the shopping basket?), but for now, for the sake of data quality, let's drop all of these unmatched orders:"
   ]
  },
  {
   "cell_type": "code",
   "execution_count": 57,
   "id": "f9656fb6",
   "metadata": {},
   "outputs": [
    {
     "name": "stdout",
     "output_type": "stream",
     "text": [
      "        order_id        created_date  total_paid            state  \\\n",
      "0         241319 2017-01-02 13:35:40       44.99        Cancelled   \n",
      "1         241423 2017-11-06 13:10:02      136.15        Completed   \n",
      "2         242832 2017-12-31 17:40:03       15.76        Completed   \n",
      "3         243330 2017-02-16 10:59:38       84.98        Completed   \n",
      "4         243784 2017-11-24 13:35:19      157.86        Cancelled   \n",
      "...          ...                 ...         ...              ...   \n",
      "226904    527397 2018-03-14 13:56:38       42.99      Place Order   \n",
      "226905    527398 2018-03-14 13:57:25       42.99  Shopping Basket   \n",
      "226906    527399 2018-03-14 13:57:34      141.58  Shopping Basket   \n",
      "226907    527400 2018-03-14 13:57:41       19.98  Shopping Basket   \n",
      "226908    527401 2018-03-14 13:58:36       18.98      Place Order   \n",
      "\n",
      "        check_orders  \n",
      "0               True  \n",
      "1               True  \n",
      "2               True  \n",
      "3               True  \n",
      "4               True  \n",
      "...              ...  \n",
      "226904          True  \n",
      "226905          True  \n",
      "226906          True  \n",
      "226907          True  \n",
      "226908          True  \n",
      "\n",
      "[204691 rows x 5 columns]\n"
     ]
    }
   ],
   "source": [
    "orders = (orders.\n",
    "          assign(check_orders = orders.order_id.isin(orderlines.id_order)).\n",
    "          query(\"check_orders==True\")\n",
    "         )\n",
    "print(orders)"
   ]
  },
  {
   "cell_type": "markdown",
   "id": "4c538516",
   "metadata": {},
   "source": [
    "Let's now check again if the total paid matches:"
   ]
  },
  {
   "cell_type": "code",
   "execution_count": 51,
   "id": "2322a705",
   "metadata": {},
   "outputs": [
    {
     "data": {
      "text/plain": [
       "129130877.18"
      ]
     },
     "execution_count": 51,
     "metadata": {},
     "output_type": "execute_result"
    }
   ],
   "source": [
    "orders.total_paid.sum()"
   ]
  },
  {
   "cell_type": "code",
   "execution_count": 34,
   "id": "3c1fdc3d",
   "metadata": {},
   "outputs": [
    {
     "data": {
      "text/plain": [
       "128659393.77"
      ]
     },
     "execution_count": 34,
     "metadata": {},
     "output_type": "execute_result"
    }
   ],
   "source": [
    "orderlines.total_price.sum()"
   ]
  },
  {
   "cell_type": "markdown",
   "id": "7c1ab2b5",
   "metadata": {},
   "source": [
    "STILL NOT MATCHING!!! This is outrageous. Let's keep exploring."
   ]
  },
  {
   "cell_type": "markdown",
   "id": "3a326628",
   "metadata": {},
   "source": [
    "## Solving the price mismatch\n",
    "\n",
    "Let's merge both datasets and compare, order by order, the `total_price`. We will call this new merged dataset `orders_info`.\n",
    "\n",
    "*Note: To merge `orderlines` with `orders`, we have to group and aggregate `orderlines`!"
   ]
  },
  {
   "cell_type": "code",
   "execution_count": 55,
   "id": "08a910e4",
   "metadata": {},
   "outputs": [
    {
     "data": {
      "text/html": [
       "<div>\n",
       "<style scoped>\n",
       "    .dataframe tbody tr th:only-of-type {\n",
       "        vertical-align: middle;\n",
       "    }\n",
       "\n",
       "    .dataframe tbody tr th {\n",
       "        vertical-align: top;\n",
       "    }\n",
       "\n",
       "    .dataframe thead th {\n",
       "        text-align: right;\n",
       "    }\n",
       "</style>\n",
       "<table border=\"1\" class=\"dataframe\">\n",
       "  <thead>\n",
       "    <tr style=\"text-align: right;\">\n",
       "      <th></th>\n",
       "      <th>total_price</th>\n",
       "      <th>order_id</th>\n",
       "      <th>created_date</th>\n",
       "      <th>total_paid</th>\n",
       "      <th>state</th>\n",
       "      <th>check_orders</th>\n",
       "    </tr>\n",
       "  </thead>\n",
       "  <tbody>\n",
       "    <tr>\n",
       "      <th>0</th>\n",
       "      <td>44.99</td>\n",
       "      <td>241319</td>\n",
       "      <td>2017-01-02 13:35:40</td>\n",
       "      <td>44.99</td>\n",
       "      <td>Cancelled</td>\n",
       "      <td>True</td>\n",
       "    </tr>\n",
       "    <tr>\n",
       "      <th>1</th>\n",
       "      <td>129.16</td>\n",
       "      <td>241423</td>\n",
       "      <td>2017-11-06 13:10:02</td>\n",
       "      <td>136.15</td>\n",
       "      <td>Completed</td>\n",
       "      <td>True</td>\n",
       "    </tr>\n",
       "    <tr>\n",
       "      <th>2</th>\n",
       "      <td>10.77</td>\n",
       "      <td>242832</td>\n",
       "      <td>2017-12-31 17:40:03</td>\n",
       "      <td>15.76</td>\n",
       "      <td>Completed</td>\n",
       "      <td>True</td>\n",
       "    </tr>\n",
       "    <tr>\n",
       "      <th>3</th>\n",
       "      <td>77.99</td>\n",
       "      <td>243330</td>\n",
       "      <td>2017-02-16 10:59:38</td>\n",
       "      <td>84.98</td>\n",
       "      <td>Completed</td>\n",
       "      <td>True</td>\n",
       "    </tr>\n",
       "    <tr>\n",
       "      <th>4</th>\n",
       "      <td>153.87</td>\n",
       "      <td>243784</td>\n",
       "      <td>2017-11-24 13:35:19</td>\n",
       "      <td>157.86</td>\n",
       "      <td>Cancelled</td>\n",
       "      <td>True</td>\n",
       "    </tr>\n",
       "    <tr>\n",
       "      <th>...</th>\n",
       "      <td>...</td>\n",
       "      <td>...</td>\n",
       "      <td>...</td>\n",
       "      <td>...</td>\n",
       "      <td>...</td>\n",
       "      <td>...</td>\n",
       "    </tr>\n",
       "    <tr>\n",
       "      <th>204686</th>\n",
       "      <td>42.99</td>\n",
       "      <td>527397</td>\n",
       "      <td>2018-03-14 13:56:38</td>\n",
       "      <td>42.99</td>\n",
       "      <td>Place Order</td>\n",
       "      <td>True</td>\n",
       "    </tr>\n",
       "    <tr>\n",
       "      <th>204687</th>\n",
       "      <td>42.99</td>\n",
       "      <td>527398</td>\n",
       "      <td>2018-03-14 13:57:25</td>\n",
       "      <td>42.99</td>\n",
       "      <td>Shopping Basket</td>\n",
       "      <td>True</td>\n",
       "    </tr>\n",
       "    <tr>\n",
       "      <th>204688</th>\n",
       "      <td>141.58</td>\n",
       "      <td>527399</td>\n",
       "      <td>2018-03-14 13:57:34</td>\n",
       "      <td>141.58</td>\n",
       "      <td>Shopping Basket</td>\n",
       "      <td>True</td>\n",
       "    </tr>\n",
       "    <tr>\n",
       "      <th>204689</th>\n",
       "      <td>19.98</td>\n",
       "      <td>527400</td>\n",
       "      <td>2018-03-14 13:57:41</td>\n",
       "      <td>19.98</td>\n",
       "      <td>Shopping Basket</td>\n",
       "      <td>True</td>\n",
       "    </tr>\n",
       "    <tr>\n",
       "      <th>204690</th>\n",
       "      <td>13.99</td>\n",
       "      <td>527401</td>\n",
       "      <td>2018-03-14 13:58:36</td>\n",
       "      <td>18.98</td>\n",
       "      <td>Place Order</td>\n",
       "      <td>True</td>\n",
       "    </tr>\n",
       "  </tbody>\n",
       "</table>\n",
       "<p>204691 rows × 6 columns</p>\n",
       "</div>"
      ],
      "text/plain": [
       "        total_price  order_id        created_date  total_paid  \\\n",
       "0             44.99    241319 2017-01-02 13:35:40       44.99   \n",
       "1            129.16    241423 2017-11-06 13:10:02      136.15   \n",
       "2             10.77    242832 2017-12-31 17:40:03       15.76   \n",
       "3             77.99    243330 2017-02-16 10:59:38       84.98   \n",
       "4            153.87    243784 2017-11-24 13:35:19      157.86   \n",
       "...             ...       ...                 ...         ...   \n",
       "204686        42.99    527397 2018-03-14 13:56:38       42.99   \n",
       "204687        42.99    527398 2018-03-14 13:57:25       42.99   \n",
       "204688       141.58    527399 2018-03-14 13:57:34      141.58   \n",
       "204689        19.98    527400 2018-03-14 13:57:41       19.98   \n",
       "204690        13.99    527401 2018-03-14 13:58:36       18.98   \n",
       "\n",
       "                  state  check_orders  \n",
       "0             Cancelled          True  \n",
       "1             Completed          True  \n",
       "2             Completed          True  \n",
       "3             Completed          True  \n",
       "4             Cancelled          True  \n",
       "...                 ...           ...  \n",
       "204686      Place Order          True  \n",
       "204687  Shopping Basket          True  \n",
       "204688  Shopping Basket          True  \n",
       "204689  Shopping Basket          True  \n",
       "204690      Place Order          True  \n",
       "\n",
       "[204691 rows x 6 columns]"
      ]
     },
     "execution_count": 55,
     "metadata": {},
     "output_type": "execute_result"
    }
   ],
   "source": [
    "orders_info = (\n",
    "orderlines\n",
    "    .groupby('id_order')\n",
    "    .agg({'total_price':'sum'})\n",
    "    .merge(orders, how='left', left_on='id_order', right_on='order_id')\n",
    "    \n",
    ")\n",
    "orders_info"
   ]
  },
  {
   "cell_type": "markdown",
   "id": "7f0f9389",
   "metadata": {},
   "source": [
    "Now that the `total` from both datasets is in the same dataframe, we can create a new column with the difference:"
   ]
  },
  {
   "cell_type": "code",
   "execution_count": 89,
   "id": "b4ba98fb",
   "metadata": {},
   "outputs": [
    {
     "data": {
      "text/html": [
       "<div>\n",
       "<style scoped>\n",
       "    .dataframe tbody tr th:only-of-type {\n",
       "        vertical-align: middle;\n",
       "    }\n",
       "\n",
       "    .dataframe tbody tr th {\n",
       "        vertical-align: top;\n",
       "    }\n",
       "\n",
       "    .dataframe thead th {\n",
       "        text-align: right;\n",
       "    }\n",
       "</style>\n",
       "<table border=\"1\" class=\"dataframe\">\n",
       "  <thead>\n",
       "    <tr style=\"text-align: right;\">\n",
       "      <th></th>\n",
       "      <th>total_price</th>\n",
       "      <th>order_id</th>\n",
       "      <th>created_date</th>\n",
       "      <th>total_paid</th>\n",
       "      <th>state</th>\n",
       "      <th>check_orders</th>\n",
       "      <th>price_difference</th>\n",
       "    </tr>\n",
       "  </thead>\n",
       "  <tbody>\n",
       "    <tr>\n",
       "      <th>0</th>\n",
       "      <td>44.99</td>\n",
       "      <td>241319</td>\n",
       "      <td>2017-01-02 13:35:40</td>\n",
       "      <td>44.99</td>\n",
       "      <td>Cancelled</td>\n",
       "      <td>True</td>\n",
       "      <td>0.00</td>\n",
       "    </tr>\n",
       "    <tr>\n",
       "      <th>1</th>\n",
       "      <td>129.16</td>\n",
       "      <td>241423</td>\n",
       "      <td>2017-11-06 13:10:02</td>\n",
       "      <td>136.15</td>\n",
       "      <td>Completed</td>\n",
       "      <td>True</td>\n",
       "      <td>6.99</td>\n",
       "    </tr>\n",
       "    <tr>\n",
       "      <th>2</th>\n",
       "      <td>10.77</td>\n",
       "      <td>242832</td>\n",
       "      <td>2017-12-31 17:40:03</td>\n",
       "      <td>15.76</td>\n",
       "      <td>Completed</td>\n",
       "      <td>True</td>\n",
       "      <td>4.99</td>\n",
       "    </tr>\n",
       "    <tr>\n",
       "      <th>3</th>\n",
       "      <td>77.99</td>\n",
       "      <td>243330</td>\n",
       "      <td>2017-02-16 10:59:38</td>\n",
       "      <td>84.98</td>\n",
       "      <td>Completed</td>\n",
       "      <td>True</td>\n",
       "      <td>6.99</td>\n",
       "    </tr>\n",
       "    <tr>\n",
       "      <th>4</th>\n",
       "      <td>153.87</td>\n",
       "      <td>243784</td>\n",
       "      <td>2017-11-24 13:35:19</td>\n",
       "      <td>157.86</td>\n",
       "      <td>Cancelled</td>\n",
       "      <td>True</td>\n",
       "      <td>3.99</td>\n",
       "    </tr>\n",
       "    <tr>\n",
       "      <th>...</th>\n",
       "      <td>...</td>\n",
       "      <td>...</td>\n",
       "      <td>...</td>\n",
       "      <td>...</td>\n",
       "      <td>...</td>\n",
       "      <td>...</td>\n",
       "      <td>...</td>\n",
       "    </tr>\n",
       "    <tr>\n",
       "      <th>204686</th>\n",
       "      <td>42.99</td>\n",
       "      <td>527397</td>\n",
       "      <td>2018-03-14 13:56:38</td>\n",
       "      <td>42.99</td>\n",
       "      <td>Place Order</td>\n",
       "      <td>True</td>\n",
       "      <td>0.00</td>\n",
       "    </tr>\n",
       "    <tr>\n",
       "      <th>204687</th>\n",
       "      <td>42.99</td>\n",
       "      <td>527398</td>\n",
       "      <td>2018-03-14 13:57:25</td>\n",
       "      <td>42.99</td>\n",
       "      <td>Shopping Basket</td>\n",
       "      <td>True</td>\n",
       "      <td>0.00</td>\n",
       "    </tr>\n",
       "    <tr>\n",
       "      <th>204688</th>\n",
       "      <td>141.58</td>\n",
       "      <td>527399</td>\n",
       "      <td>2018-03-14 13:57:34</td>\n",
       "      <td>141.58</td>\n",
       "      <td>Shopping Basket</td>\n",
       "      <td>True</td>\n",
       "      <td>0.00</td>\n",
       "    </tr>\n",
       "    <tr>\n",
       "      <th>204689</th>\n",
       "      <td>19.98</td>\n",
       "      <td>527400</td>\n",
       "      <td>2018-03-14 13:57:41</td>\n",
       "      <td>19.98</td>\n",
       "      <td>Shopping Basket</td>\n",
       "      <td>True</td>\n",
       "      <td>0.00</td>\n",
       "    </tr>\n",
       "    <tr>\n",
       "      <th>204690</th>\n",
       "      <td>13.99</td>\n",
       "      <td>527401</td>\n",
       "      <td>2018-03-14 13:58:36</td>\n",
       "      <td>18.98</td>\n",
       "      <td>Place Order</td>\n",
       "      <td>True</td>\n",
       "      <td>4.99</td>\n",
       "    </tr>\n",
       "  </tbody>\n",
       "</table>\n",
       "<p>204691 rows × 7 columns</p>\n",
       "</div>"
      ],
      "text/plain": [
       "        total_price  order_id        created_date  total_paid  \\\n",
       "0             44.99    241319 2017-01-02 13:35:40       44.99   \n",
       "1            129.16    241423 2017-11-06 13:10:02      136.15   \n",
       "2             10.77    242832 2017-12-31 17:40:03       15.76   \n",
       "3             77.99    243330 2017-02-16 10:59:38       84.98   \n",
       "4            153.87    243784 2017-11-24 13:35:19      157.86   \n",
       "...             ...       ...                 ...         ...   \n",
       "204686        42.99    527397 2018-03-14 13:56:38       42.99   \n",
       "204687        42.99    527398 2018-03-14 13:57:25       42.99   \n",
       "204688       141.58    527399 2018-03-14 13:57:34      141.58   \n",
       "204689        19.98    527400 2018-03-14 13:57:41       19.98   \n",
       "204690        13.99    527401 2018-03-14 13:58:36       18.98   \n",
       "\n",
       "                  state  check_orders  price_difference  \n",
       "0             Cancelled          True              0.00  \n",
       "1             Completed          True              6.99  \n",
       "2             Completed          True              4.99  \n",
       "3             Completed          True              6.99  \n",
       "4             Cancelled          True              3.99  \n",
       "...                 ...           ...               ...  \n",
       "204686      Place Order          True              0.00  \n",
       "204687  Shopping Basket          True              0.00  \n",
       "204688  Shopping Basket          True              0.00  \n",
       "204689  Shopping Basket          True              0.00  \n",
       "204690      Place Order          True              4.99  \n",
       "\n",
       "[204691 rows x 7 columns]"
      ]
     },
     "execution_count": 89,
     "metadata": {},
     "output_type": "execute_result"
    }
   ],
   "source": [
    "orders_info['price_difference'] = orders_info['total_paid'] - orders_info['total_price']\n",
    "orders_info"
   ]
  },
  {
   "cell_type": "code",
   "execution_count": 90,
   "id": "6bf4ecc4",
   "metadata": {},
   "outputs": [
    {
     "data": {
      "text/plain": [
       "count    204691.000000\n",
       "mean          2.303391\n",
       "std         297.461827\n",
       "min      -36159.900000\n",
       "25%           0.000000\n",
       "50%           0.000000\n",
       "75%           0.010000\n",
       "max       90898.610000\n",
       "Name: price_difference, dtype: float64"
      ]
     },
     "execution_count": 90,
     "metadata": {},
     "output_type": "execute_result"
    }
   ],
   "source": [
    "orders_info.price_difference.describe()"
   ]
  },
  {
   "cell_type": "markdown",
   "id": "a35b2a4d",
   "metadata": {},
   "source": [
    "Looks like the maximum and minimun price differences are huge: some orders are really corrupted. But we also see from the mean and the quartiles that the price difference is neglegible for most orders."
   ]
  },
  {
   "cell_type": "markdown",
   "id": "45897ecb",
   "metadata": {},
   "source": [
    "## Challenge: Remove outliers\n",
    "\n",
    "Decide on a criteria for removing orders whenever you cannot trust the price difference between `orders` and `orderlines`. "
   ]
  },
  {
   "cell_type": "code",
   "execution_count": 96,
   "id": "20296e7c",
   "metadata": {},
   "outputs": [
    {
     "data": {
      "text/plain": [
       "Index(['total_price', 'order_id', 'created_date', 'total_paid', 'state',\n",
       "       'check_orders', 'price_difference'],\n",
       "      dtype='object')"
      ]
     },
     "execution_count": 96,
     "metadata": {},
     "output_type": "execute_result"
    }
   ],
   "source": [
    "orders_info.columns"
   ]
  },
  {
   "cell_type": "code",
   "execution_count": 604,
   "id": "56a4bb95",
   "metadata": {},
   "outputs": [
    {
     "name": "stdout",
     "output_type": "stream",
     "text": [
      "<class 'pandas.core.frame.DataFrame'>\n",
      "Int64Index: 204691 entries, 0 to 204690\n",
      "Data columns (total 7 columns):\n",
      " #   Column            Non-Null Count   Dtype         \n",
      "---  ------            --------------   -----         \n",
      " 0   total_price       204691 non-null  float64       \n",
      " 1   order_id          204691 non-null  int64         \n",
      " 2   created_date      204691 non-null  datetime64[ns]\n",
      " 3   total_paid        204691 non-null  float64       \n",
      " 4   state             204691 non-null  object        \n",
      " 5   check_orders      204691 non-null  bool          \n",
      " 6   price_difference  204691 non-null  float64       \n",
      "dtypes: bool(1), datetime64[ns](1), float64(3), int64(1), object(1)\n",
      "memory usage: 19.2+ MB\n"
     ]
    }
   ],
   "source": [
    "orders_info.info()"
   ]
  },
  {
   "cell_type": "code",
   "execution_count": 668,
   "id": "0d56b346",
   "metadata": {},
   "outputs": [
    {
     "data": {
      "text/html": [
       "<div>\n",
       "<style scoped>\n",
       "    .dataframe tbody tr th:only-of-type {\n",
       "        vertical-align: middle;\n",
       "    }\n",
       "\n",
       "    .dataframe tbody tr th {\n",
       "        vertical-align: top;\n",
       "    }\n",
       "\n",
       "    .dataframe thead th {\n",
       "        text-align: right;\n",
       "    }\n",
       "</style>\n",
       "<table border=\"1\" class=\"dataframe\">\n",
       "  <thead>\n",
       "    <tr style=\"text-align: right;\">\n",
       "      <th></th>\n",
       "      <th>total_price</th>\n",
       "      <th>order_id</th>\n",
       "      <th>created_date</th>\n",
       "      <th>total_paid</th>\n",
       "      <th>state</th>\n",
       "      <th>check_orders</th>\n",
       "      <th>price_difference</th>\n",
       "    </tr>\n",
       "  </thead>\n",
       "  <tbody>\n",
       "    <tr>\n",
       "      <th>0</th>\n",
       "      <td>44.99</td>\n",
       "      <td>241319</td>\n",
       "      <td>2017-01-02 13:35:40</td>\n",
       "      <td>44.99</td>\n",
       "      <td>Cancelled</td>\n",
       "      <td>True</td>\n",
       "      <td>0.00</td>\n",
       "    </tr>\n",
       "    <tr>\n",
       "      <th>1</th>\n",
       "      <td>129.16</td>\n",
       "      <td>241423</td>\n",
       "      <td>2017-11-06 13:10:02</td>\n",
       "      <td>136.15</td>\n",
       "      <td>Completed</td>\n",
       "      <td>True</td>\n",
       "      <td>6.99</td>\n",
       "    </tr>\n",
       "    <tr>\n",
       "      <th>2</th>\n",
       "      <td>10.77</td>\n",
       "      <td>242832</td>\n",
       "      <td>2017-12-31 17:40:03</td>\n",
       "      <td>15.76</td>\n",
       "      <td>Completed</td>\n",
       "      <td>True</td>\n",
       "      <td>4.99</td>\n",
       "    </tr>\n",
       "    <tr>\n",
       "      <th>3</th>\n",
       "      <td>77.99</td>\n",
       "      <td>243330</td>\n",
       "      <td>2017-02-16 10:59:38</td>\n",
       "      <td>84.98</td>\n",
       "      <td>Completed</td>\n",
       "      <td>True</td>\n",
       "      <td>6.99</td>\n",
       "    </tr>\n",
       "    <tr>\n",
       "      <th>4</th>\n",
       "      <td>153.87</td>\n",
       "      <td>243784</td>\n",
       "      <td>2017-11-24 13:35:19</td>\n",
       "      <td>157.86</td>\n",
       "      <td>Cancelled</td>\n",
       "      <td>True</td>\n",
       "      <td>3.99</td>\n",
       "    </tr>\n",
       "    <tr>\n",
       "      <th>...</th>\n",
       "      <td>...</td>\n",
       "      <td>...</td>\n",
       "      <td>...</td>\n",
       "      <td>...</td>\n",
       "      <td>...</td>\n",
       "      <td>...</td>\n",
       "      <td>...</td>\n",
       "    </tr>\n",
       "    <tr>\n",
       "      <th>204686</th>\n",
       "      <td>42.99</td>\n",
       "      <td>527397</td>\n",
       "      <td>2018-03-14 13:56:38</td>\n",
       "      <td>42.99</td>\n",
       "      <td>Place Order</td>\n",
       "      <td>True</td>\n",
       "      <td>0.00</td>\n",
       "    </tr>\n",
       "    <tr>\n",
       "      <th>204687</th>\n",
       "      <td>42.99</td>\n",
       "      <td>527398</td>\n",
       "      <td>2018-03-14 13:57:25</td>\n",
       "      <td>42.99</td>\n",
       "      <td>Shopping Basket</td>\n",
       "      <td>True</td>\n",
       "      <td>0.00</td>\n",
       "    </tr>\n",
       "    <tr>\n",
       "      <th>204688</th>\n",
       "      <td>141.58</td>\n",
       "      <td>527399</td>\n",
       "      <td>2018-03-14 13:57:34</td>\n",
       "      <td>141.58</td>\n",
       "      <td>Shopping Basket</td>\n",
       "      <td>True</td>\n",
       "      <td>0.00</td>\n",
       "    </tr>\n",
       "    <tr>\n",
       "      <th>204689</th>\n",
       "      <td>19.98</td>\n",
       "      <td>527400</td>\n",
       "      <td>2018-03-14 13:57:41</td>\n",
       "      <td>19.98</td>\n",
       "      <td>Shopping Basket</td>\n",
       "      <td>True</td>\n",
       "      <td>0.00</td>\n",
       "    </tr>\n",
       "    <tr>\n",
       "      <th>204690</th>\n",
       "      <td>13.99</td>\n",
       "      <td>527401</td>\n",
       "      <td>2018-03-14 13:58:36</td>\n",
       "      <td>18.98</td>\n",
       "      <td>Place Order</td>\n",
       "      <td>True</td>\n",
       "      <td>4.99</td>\n",
       "    </tr>\n",
       "  </tbody>\n",
       "</table>\n",
       "<p>199927 rows × 7 columns</p>\n",
       "</div>"
      ],
      "text/plain": [
       "        total_price  order_id        created_date  total_paid  \\\n",
       "0             44.99    241319 2017-01-02 13:35:40       44.99   \n",
       "1            129.16    241423 2017-11-06 13:10:02      136.15   \n",
       "2             10.77    242832 2017-12-31 17:40:03       15.76   \n",
       "3             77.99    243330 2017-02-16 10:59:38       84.98   \n",
       "4            153.87    243784 2017-11-24 13:35:19      157.86   \n",
       "...             ...       ...                 ...         ...   \n",
       "204686        42.99    527397 2018-03-14 13:56:38       42.99   \n",
       "204687        42.99    527398 2018-03-14 13:57:25       42.99   \n",
       "204688       141.58    527399 2018-03-14 13:57:34      141.58   \n",
       "204689        19.98    527400 2018-03-14 13:57:41       19.98   \n",
       "204690        13.99    527401 2018-03-14 13:58:36       18.98   \n",
       "\n",
       "                  state  check_orders  price_difference  \n",
       "0             Cancelled          True              0.00  \n",
       "1             Completed          True              6.99  \n",
       "2             Completed          True              4.99  \n",
       "3             Completed          True              6.99  \n",
       "4             Cancelled          True              3.99  \n",
       "...                 ...           ...               ...  \n",
       "204686      Place Order          True              0.00  \n",
       "204687  Shopping Basket          True              0.00  \n",
       "204688  Shopping Basket          True              0.00  \n",
       "204689  Shopping Basket          True              0.00  \n",
       "204690      Place Order          True              4.99  \n",
       "\n",
       "[199927 rows x 7 columns]"
      ]
     },
     "execution_count": 668,
     "metadata": {},
     "output_type": "execute_result"
    }
   ],
   "source": [
    "orders_info =orders_info_copy.query('0<=price_difference<150')\n",
    "orders_info.drop(['float_col'], axis=1)\n"
   ]
  },
  {
   "cell_type": "code",
   "execution_count": 622,
   "id": "99487ab6",
   "metadata": {},
   "outputs": [
    {
     "name": "stdout",
     "output_type": "stream",
     "text": [
      "        total_price  order_id        created_date  total_paid  \\\n",
      "0             44.99    241319 2017-01-02 13:35:40       44.99   \n",
      "1            129.16    241423 2017-11-06 13:10:02      136.15   \n",
      "2             10.77    242832 2017-12-31 17:40:03       15.76   \n",
      "3             77.99    243330 2017-02-16 10:59:38       84.98   \n",
      "4            153.87    243784 2017-11-24 13:35:19      157.86   \n",
      "...             ...       ...                 ...         ...   \n",
      "204686        42.99    527397 2018-03-14 13:56:38       42.99   \n",
      "204687        42.99    527398 2018-03-14 13:57:25       42.99   \n",
      "204688       141.58    527399 2018-03-14 13:57:34      141.58   \n",
      "204689        19.98    527400 2018-03-14 13:57:41       19.98   \n",
      "204690        13.99    527401 2018-03-14 13:58:36       18.98   \n",
      "\n",
      "                  state  check_orders  price_difference  float_col  \n",
      "0             Cancelled          True              0.00         44  \n",
      "1             Completed          True              6.99        136  \n",
      "2             Completed          True              4.99         15  \n",
      "3             Completed          True              6.99         84  \n",
      "4             Cancelled          True              3.99        157  \n",
      "...                 ...           ...               ...        ...  \n",
      "204686      Place Order          True              0.00         42  \n",
      "204687  Shopping Basket          True              0.00         42  \n",
      "204688  Shopping Basket          True              0.00        141  \n",
      "204689  Shopping Basket          True              0.00         19  \n",
      "204690      Place Order          True              4.99         18  \n",
      "\n",
      "[199927 rows x 8 columns]\n"
     ]
    }
   ],
   "source": [
    "print(orders_info)"
   ]
  },
  {
   "cell_type": "code",
   "execution_count": 614,
   "id": "871d7264",
   "metadata": {},
   "outputs": [
    {
     "data": {
      "text/plain": [
       "count    199927.000000\n",
       "mean          1.447792\n",
       "std           3.072423\n",
       "min           0.000000\n",
       "25%           0.000000\n",
       "50%           0.000000\n",
       "75%           0.010000\n",
       "max         132.210000\n",
       "Name: price_difference, dtype: float64"
      ]
     },
     "execution_count": 614,
     "metadata": {},
     "output_type": "execute_result"
    }
   ],
   "source": [
    "orders_info.price_difference.describe()"
   ]
  },
  {
   "cell_type": "markdown",
   "id": "0554f894",
   "metadata": {},
   "source": [
    "Save the data once you are sure you can trust it!"
   ]
  },
  {
   "cell_type": "code",
   "execution_count": 39,
   "id": "1a7ae4b2",
   "metadata": {},
   "outputs": [],
   "source": [
    "orderlines.to_csv(path + 'clean/orderlines_cl.csv', index=False)\n",
    "orders.to_csv(path + 'clean/orders_cl.csv', index=False)"
   ]
  },
  {
   "cell_type": "markdown",
   "id": "f938b0d7",
   "metadata": {},
   "source": [
    "## Challenge: Cleaning products"
   ]
  },
  {
   "cell_type": "markdown",
   "id": "a9c802d4",
   "metadata": {},
   "source": [
    "Now it is time to clean the products dataset. Let's do a quick review of the things where wrong: "
   ]
  },
  {
   "cell_type": "code",
   "execution_count": 43,
   "id": "7247d09e",
   "metadata": {},
   "outputs": [
    {
     "name": "stdout",
     "output_type": "stream",
     "text": [
      "<class 'pandas.core.frame.DataFrame'>\n",
      "RangeIndex: 19326 entries, 0 to 19325\n",
      "Data columns (total 7 columns):\n",
      " #   Column       Non-Null Count  Dtype \n",
      "---  ------       --------------  ----- \n",
      " 0   sku          19326 non-null  object\n",
      " 1   name         19326 non-null  object\n",
      " 2   desc         19319 non-null  object\n",
      " 3   price        19280 non-null  object\n",
      " 4   promo_price  19326 non-null  object\n",
      " 5   in_stock     19326 non-null  int64 \n",
      " 6   type         19276 non-null  object\n",
      "dtypes: int64(1), object(6)\n",
      "memory usage: 1.0+ MB\n",
      "None\n",
      "Duplicated rows:  8746\n",
      "Missing values:\n",
      "sku             0\n",
      "name            0\n",
      "desc            7\n",
      "price          46\n",
      "promo_price     0\n",
      "in_stock        0\n",
      "type           50\n",
      "dtype: int64\n"
     ]
    }
   ],
   "source": [
    "print(products.info())\n",
    "check_duplicates(products)\n",
    "check_missing_values(products)"
   ]
  },
  {
   "cell_type": "markdown",
   "id": "6ff08d83",
   "metadata": {},
   "source": [
    "Looking at this overview, we can see that there are different things that has to be changed: \n",
    "\n",
    "* Data types: \n",
    "    * price should be a float\n",
    "    * promo price should be a float\n",
    "* Duplicated rows. They have to be removed. \n",
    "    * To accomplish this step you can use the method `pd.DataFrame.drop_duplicates()`. Be sure you drop all the duplicates based on the column **sku**, as it is the one you will use to merge with orderlines. \n",
    "* Missing values: \n",
    "    * Description may be can be infered by the name\n",
    "    * price. Is there a way we can extract the information from another table?\n",
    "    * type. Do we need this column for our analysis?\n",
    "    \n",
    "This task can be accomoplished by using all the methods you already know."
   ]
  },
  {
   "cell_type": "markdown",
   "id": "b30207c2",
   "metadata": {},
   "source": [
    "### Start of the challenge"
   ]
  },
  {
   "cell_type": "markdown",
   "id": "c74adf6f",
   "metadata": {},
   "source": [
    "* Data types:"
   ]
  },
  {
   "cell_type": "markdown",
   "id": "aaff728a",
   "metadata": {},
   "source": [
    "1.Price should be a float <br>  2.Promo price should be a float"
   ]
  },
  {
   "cell_type": "code",
   "execution_count": 669,
   "id": "745b131e",
   "metadata": {},
   "outputs": [
    {
     "data": {
      "text/html": [
       "<div>\n",
       "<style scoped>\n",
       "    .dataframe tbody tr th:only-of-type {\n",
       "        vertical-align: middle;\n",
       "    }\n",
       "\n",
       "    .dataframe tbody tr th {\n",
       "        vertical-align: top;\n",
       "    }\n",
       "\n",
       "    .dataframe thead th {\n",
       "        text-align: right;\n",
       "    }\n",
       "</style>\n",
       "<table border=\"1\" class=\"dataframe\">\n",
       "  <thead>\n",
       "    <tr style=\"text-align: right;\">\n",
       "      <th></th>\n",
       "      <th>sku</th>\n",
       "      <th>name</th>\n",
       "      <th>desc</th>\n",
       "      <th>price</th>\n",
       "      <th>promo_price</th>\n",
       "      <th>in_stock</th>\n",
       "      <th>type</th>\n",
       "    </tr>\n",
       "  </thead>\n",
       "  <tbody>\n",
       "    <tr>\n",
       "      <th>0</th>\n",
       "      <td>RAI0007</td>\n",
       "      <td>Silver Rain Design mStand Support</td>\n",
       "      <td>Aluminum support compatible with all MacBook</td>\n",
       "      <td>59.99</td>\n",
       "      <td>499.899</td>\n",
       "      <td>1</td>\n",
       "      <td>8696</td>\n",
       "    </tr>\n",
       "    <tr>\n",
       "      <th>1</th>\n",
       "      <td>APP0023</td>\n",
       "      <td>Apple Mac Keyboard Keypad Spanish</td>\n",
       "      <td>USB ultrathin keyboard Apple Mac Spanish.</td>\n",
       "      <td>59</td>\n",
       "      <td>589.996</td>\n",
       "      <td>0</td>\n",
       "      <td>13855401</td>\n",
       "    </tr>\n",
       "    <tr>\n",
       "      <th>2</th>\n",
       "      <td>APP0025</td>\n",
       "      <td>Mighty Mouse Apple Mouse for Mac</td>\n",
       "      <td>mouse Apple USB cable.</td>\n",
       "      <td>59</td>\n",
       "      <td>569.898</td>\n",
       "      <td>0</td>\n",
       "      <td>1387</td>\n",
       "    </tr>\n",
       "    <tr>\n",
       "      <th>3</th>\n",
       "      <td>APP0072</td>\n",
       "      <td>Apple Dock to USB Cable iPhone and iPod white</td>\n",
       "      <td>IPhone dock and USB Cable Apple iPod.</td>\n",
       "      <td>25</td>\n",
       "      <td>229.997</td>\n",
       "      <td>0</td>\n",
       "      <td>1230</td>\n",
       "    </tr>\n",
       "    <tr>\n",
       "      <th>4</th>\n",
       "      <td>KIN0007</td>\n",
       "      <td>Mac Memory Kingston 2GB 667MHz DDR2 SO-DIMM</td>\n",
       "      <td>2GB RAM Mac mini and iMac (2006/07) MacBook Pr...</td>\n",
       "      <td>34.99</td>\n",
       "      <td>31.99</td>\n",
       "      <td>1</td>\n",
       "      <td>1364</td>\n",
       "    </tr>\n",
       "    <tr>\n",
       "      <th>...</th>\n",
       "      <td>...</td>\n",
       "      <td>...</td>\n",
       "      <td>...</td>\n",
       "      <td>...</td>\n",
       "      <td>...</td>\n",
       "      <td>...</td>\n",
       "      <td>...</td>\n",
       "    </tr>\n",
       "    <tr>\n",
       "      <th>19321</th>\n",
       "      <td>BEL0376</td>\n",
       "      <td>Belkin Travel Support Apple Watch Black</td>\n",
       "      <td>compact and portable stand vertically or horiz...</td>\n",
       "      <td>29.99</td>\n",
       "      <td>269.903</td>\n",
       "      <td>1</td>\n",
       "      <td>12282</td>\n",
       "    </tr>\n",
       "    <tr>\n",
       "      <th>19322</th>\n",
       "      <td>THU0060</td>\n",
       "      <td>Enroute Thule 14L Backpack MacBook 13 \"Black</td>\n",
       "      <td>Backpack with capacity of 14 liter compartment...</td>\n",
       "      <td>69.95</td>\n",
       "      <td>649.903</td>\n",
       "      <td>1</td>\n",
       "      <td>1392</td>\n",
       "    </tr>\n",
       "    <tr>\n",
       "      <th>19323</th>\n",
       "      <td>THU0061</td>\n",
       "      <td>Enroute Thule 14L Backpack MacBook 13 \"Blue</td>\n",
       "      <td>Backpack with capacity of 14 liter compartment...</td>\n",
       "      <td>69.95</td>\n",
       "      <td>649.903</td>\n",
       "      <td>1</td>\n",
       "      <td>1392</td>\n",
       "    </tr>\n",
       "    <tr>\n",
       "      <th>19324</th>\n",
       "      <td>THU0062</td>\n",
       "      <td>Enroute Thule 14L Backpack MacBook 13 \"Red</td>\n",
       "      <td>Backpack with capacity of 14 liter compartment...</td>\n",
       "      <td>69.95</td>\n",
       "      <td>649.903</td>\n",
       "      <td>0</td>\n",
       "      <td>1392</td>\n",
       "    </tr>\n",
       "    <tr>\n",
       "      <th>19325</th>\n",
       "      <td>THU0063</td>\n",
       "      <td>Enroute Thule 14L Backpack MacBook 13 \"Green</td>\n",
       "      <td>Backpack with capacity of 14 liter compartment...</td>\n",
       "      <td>69.95</td>\n",
       "      <td>649.903</td>\n",
       "      <td>1</td>\n",
       "      <td>1392</td>\n",
       "    </tr>\n",
       "  </tbody>\n",
       "</table>\n",
       "<p>19326 rows × 7 columns</p>\n",
       "</div>"
      ],
      "text/plain": [
       "           sku                                           name  \\\n",
       "0      RAI0007              Silver Rain Design mStand Support   \n",
       "1      APP0023              Apple Mac Keyboard Keypad Spanish   \n",
       "2      APP0025               Mighty Mouse Apple Mouse for Mac   \n",
       "3      APP0072  Apple Dock to USB Cable iPhone and iPod white   \n",
       "4      KIN0007    Mac Memory Kingston 2GB 667MHz DDR2 SO-DIMM   \n",
       "...        ...                                            ...   \n",
       "19321  BEL0376        Belkin Travel Support Apple Watch Black   \n",
       "19322  THU0060   Enroute Thule 14L Backpack MacBook 13 \"Black   \n",
       "19323  THU0061    Enroute Thule 14L Backpack MacBook 13 \"Blue   \n",
       "19324  THU0062     Enroute Thule 14L Backpack MacBook 13 \"Red   \n",
       "19325  THU0063   Enroute Thule 14L Backpack MacBook 13 \"Green   \n",
       "\n",
       "                                                    desc  price promo_price  \\\n",
       "0           Aluminum support compatible with all MacBook  59.99     499.899   \n",
       "1              USB ultrathin keyboard Apple Mac Spanish.     59     589.996   \n",
       "2                                 mouse Apple USB cable.     59     569.898   \n",
       "3                  IPhone dock and USB Cable Apple iPod.     25     229.997   \n",
       "4      2GB RAM Mac mini and iMac (2006/07) MacBook Pr...  34.99       31.99   \n",
       "...                                                  ...    ...         ...   \n",
       "19321  compact and portable stand vertically or horiz...  29.99     269.903   \n",
       "19322  Backpack with capacity of 14 liter compartment...  69.95     649.903   \n",
       "19323  Backpack with capacity of 14 liter compartment...  69.95     649.903   \n",
       "19324  Backpack with capacity of 14 liter compartment...  69.95     649.903   \n",
       "19325  Backpack with capacity of 14 liter compartment...  69.95     649.903   \n",
       "\n",
       "       in_stock      type  \n",
       "0             1      8696  \n",
       "1             0  13855401  \n",
       "2             0      1387  \n",
       "3             0      1230  \n",
       "4             1      1364  \n",
       "...         ...       ...  \n",
       "19321         1     12282  \n",
       "19322         1      1392  \n",
       "19323         1      1392  \n",
       "19324         0      1392  \n",
       "19325         1      1392  \n",
       "\n",
       "[19326 rows x 7 columns]"
      ]
     },
     "execution_count": 669,
     "metadata": {},
     "output_type": "execute_result"
    }
   ],
   "source": [
    "products"
   ]
  },
  {
   "cell_type": "code",
   "execution_count": 670,
   "id": "8800426d",
   "metadata": {},
   "outputs": [
    {
     "data": {
      "text/plain": [
       "16710          2039\n",
       "8109           2569\n",
       "19181    35.998.952\n",
       "1202            749\n",
       "8296           2929\n",
       "8156           2209\n",
       "18266            30\n",
       "5827           3769\n",
       "5855           4069\n",
       "13284         24.99\n",
       "Name: price, dtype: object"
      ]
     },
     "execution_count": 670,
     "metadata": {},
     "output_type": "execute_result"
    }
   ],
   "source": [
    "products.price.sample(10)"
   ]
  },
  {
   "cell_type": "code",
   "execution_count": 514,
   "id": "3f32bcb3",
   "metadata": {},
   "outputs": [],
   "source": [
    "new_list_price= []\n",
    "def calculatePrice(value):\n",
    "    valueSplitted = value.split('.')\n",
    "    if(len(valueSplitted) > 1):\n",
    "        if(len(valueSplitted[-1]) > 2):\n",
    "            newValue = valueSplitted[-1][:-2]\n",
    "            valueSplitted.pop()\n",
    "            valueConcatenate = ''.join(valueSplitted)\n",
    "            value = valueConcatenate+newValue\n",
    "        else:\n",
    "            value = value.replace('.','')\n",
    "\n",
    "    return(value)\n",
    "\n",
    "\n",
    "\n",
    "\n",
    "\n",
    "      "
   ]
  },
  {
   "cell_type": "code",
   "execution_count": 523,
   "id": "13c30278",
   "metadata": {},
   "outputs": [
    {
     "name": "stderr",
     "output_type": "stream",
     "text": [
      "<ipython-input-523-03b8e046cd19>:1: FutureWarning: The default value of regex will change from True to False in a future version.\n",
      "  products = products.assign(n_p = products['price'].str.replace('\\.',''))\n",
      "<ipython-input-523-03b8e046cd19>:2: FutureWarning: The default value of regex will change from True to False in a future version.\n",
      "  products = products.assign(n_p_p = products['promo_price'].str.replace('\\.',''))\n"
     ]
    },
    {
     "data": {
      "text/html": [
       "<div>\n",
       "<style scoped>\n",
       "    .dataframe tbody tr th:only-of-type {\n",
       "        vertical-align: middle;\n",
       "    }\n",
       "\n",
       "    .dataframe tbody tr th {\n",
       "        vertical-align: top;\n",
       "    }\n",
       "\n",
       "    .dataframe thead th {\n",
       "        text-align: right;\n",
       "    }\n",
       "</style>\n",
       "<table border=\"1\" class=\"dataframe\">\n",
       "  <thead>\n",
       "    <tr style=\"text-align: right;\">\n",
       "      <th></th>\n",
       "      <th>sku</th>\n",
       "      <th>name</th>\n",
       "      <th>desc</th>\n",
       "      <th>price</th>\n",
       "      <th>promo_price</th>\n",
       "      <th>in_stock</th>\n",
       "      <th>type</th>\n",
       "      <th>n_p</th>\n",
       "      <th>n_p_p</th>\n",
       "    </tr>\n",
       "  </thead>\n",
       "  <tbody>\n",
       "    <tr>\n",
       "      <th>5144</th>\n",
       "      <td>PAC1046</td>\n",
       "      <td>Apple iMac 27 \"Core i5 3.3GHz Retina 5K | 32GB...</td>\n",
       "      <td>IMac desktop computer 27 inch 5K Retina i5 3.3...</td>\n",
       "      <td>3589</td>\n",
       "      <td>302499</td>\n",
       "      <td>0</td>\n",
       "      <td>5,74E+15</td>\n",
       "      <td>3589</td>\n",
       "      <td>302499</td>\n",
       "    </tr>\n",
       "    <tr>\n",
       "      <th>8251</th>\n",
       "      <td>PAC1580</td>\n",
       "      <td>Apple iMac 21.5 \"Core i5 3.1GHz 4K Retina | RA...</td>\n",
       "      <td>Desktop computer iMac 21.5-inch 3.1GHz Core i5...</td>\n",
       "      <td>2449</td>\n",
       "      <td>211398</td>\n",
       "      <td>0</td>\n",
       "      <td>1282</td>\n",
       "      <td>2449</td>\n",
       "      <td>211398</td>\n",
       "    </tr>\n",
       "    <tr>\n",
       "      <th>18672</th>\n",
       "      <td>WAC0232-A</td>\n",
       "      <td>Open - Wacom pen Digital Pen CTH-470S / 670s S...</td>\n",
       "      <td>Intuos digital pen refitted to Pen and Touch w...</td>\n",
       "      <td>3498</td>\n",
       "      <td>272</td>\n",
       "      <td>0</td>\n",
       "      <td>1229</td>\n",
       "      <td>3498</td>\n",
       "      <td>272</td>\n",
       "    </tr>\n",
       "    <tr>\n",
       "      <th>3164</th>\n",
       "      <td>APP1200</td>\n",
       "      <td>Apple iMac 27 \"Core i5 3.3GHz Retina 5K | 8GB ...</td>\n",
       "      <td>IMac desktop computer 27 inch 5K Retina i5 33G...</td>\n",
       "      <td>2629</td>\n",
       "      <td>220558</td>\n",
       "      <td>0</td>\n",
       "      <td>5,74E+15</td>\n",
       "      <td>2629</td>\n",
       "      <td>220558</td>\n",
       "    </tr>\n",
       "    <tr>\n",
       "      <th>4032</th>\n",
       "      <td>APP1387</td>\n",
       "      <td>Apple iMac 27 \"Core i5 3.3GHz Retina 5K | 8GB ...</td>\n",
       "      <td>IMac desktop computer 27 inch 8GB RAM 256GB Re...</td>\n",
       "      <td>2929</td>\n",
       "      <td>278958</td>\n",
       "      <td>0</td>\n",
       "      <td>5,74E+15</td>\n",
       "      <td>2929</td>\n",
       "      <td>278958</td>\n",
       "    </tr>\n",
       "    <tr>\n",
       "      <th>26</th>\n",
       "      <td>APP0280</td>\n",
       "      <td>Apple HDMI to HDMI Cable 1.8m</td>\n",
       "      <td>HMDI to HDMI Cable 1.8m.</td>\n",
       "      <td>25</td>\n",
       "      <td>2400</td>\n",
       "      <td>0</td>\n",
       "      <td>1325</td>\n",
       "      <td>25</td>\n",
       "      <td>2400</td>\n",
       "    </tr>\n",
       "    <tr>\n",
       "      <th>18817</th>\n",
       "      <td>DOD0011</td>\n",
       "      <td>Hi-Res Dodocool 24-bit stereo earphones Black</td>\n",
       "      <td>Stereo headphones with remote control and micr...</td>\n",
       "      <td>1999</td>\n",
       "      <td>1299</td>\n",
       "      <td>1</td>\n",
       "      <td>5384</td>\n",
       "      <td>1999</td>\n",
       "      <td>1299</td>\n",
       "    </tr>\n",
       "    <tr>\n",
       "      <th>14892</th>\n",
       "      <td>TUC0310</td>\n",
       "      <td>Tucano Nido Hard-Shell Case MacBook Pro 13 \"(L...</td>\n",
       "      <td>Protective cover with slip rubber feet 13 inch...</td>\n",
       "      <td>299</td>\n",
       "      <td>2499</td>\n",
       "      <td>1</td>\n",
       "      <td>13835403</td>\n",
       "      <td>299</td>\n",
       "      <td>2499</td>\n",
       "    </tr>\n",
       "    <tr>\n",
       "      <th>8449</th>\n",
       "      <td>PAC0925</td>\n",
       "      <td>Apple iMac 27 \"Core i5 3.2GHz Retina 5K | 32GB...</td>\n",
       "      <td>IMac desktop computer 27 inch Retina 5K RAM 32...</td>\n",
       "      <td>2849</td>\n",
       "      <td>229899</td>\n",
       "      <td>0</td>\n",
       "      <td>1282</td>\n",
       "      <td>2849</td>\n",
       "      <td>229899</td>\n",
       "    </tr>\n",
       "    <tr>\n",
       "      <th>16273</th>\n",
       "      <td>APP2082</td>\n",
       "      <td>Apple MacBook Pro 13 \"Core i5 with Touch Bar 3...</td>\n",
       "      <td>New MacBook Pro 13 inch Touch Bar 31 GHz Core ...</td>\n",
       "      <td>200559</td>\n",
       "      <td>188500</td>\n",
       "      <td>0</td>\n",
       "      <td>1,02E+12</td>\n",
       "      <td>200559</td>\n",
       "      <td>188500</td>\n",
       "    </tr>\n",
       "  </tbody>\n",
       "</table>\n",
       "</div>"
      ],
      "text/plain": [
       "             sku                                               name  \\\n",
       "5144     PAC1046  Apple iMac 27 \"Core i5 3.3GHz Retina 5K | 32GB...   \n",
       "8251     PAC1580  Apple iMac 21.5 \"Core i5 3.1GHz 4K Retina | RA...   \n",
       "18672  WAC0232-A  Open - Wacom pen Digital Pen CTH-470S / 670s S...   \n",
       "3164     APP1200  Apple iMac 27 \"Core i5 3.3GHz Retina 5K | 8GB ...   \n",
       "4032     APP1387  Apple iMac 27 \"Core i5 3.3GHz Retina 5K | 8GB ...   \n",
       "26       APP0280                      Apple HDMI to HDMI Cable 1.8m   \n",
       "18817    DOD0011      Hi-Res Dodocool 24-bit stereo earphones Black   \n",
       "14892    TUC0310  Tucano Nido Hard-Shell Case MacBook Pro 13 \"(L...   \n",
       "8449     PAC0925  Apple iMac 27 \"Core i5 3.2GHz Retina 5K | 32GB...   \n",
       "16273    APP2082  Apple MacBook Pro 13 \"Core i5 with Touch Bar 3...   \n",
       "\n",
       "                                                    desc   price promo_price  \\\n",
       "5144   IMac desktop computer 27 inch 5K Retina i5 3.3...    3589      302499   \n",
       "8251   Desktop computer iMac 21.5-inch 3.1GHz Core i5...    2449      211398   \n",
       "18672  Intuos digital pen refitted to Pen and Touch w...    3498         272   \n",
       "3164   IMac desktop computer 27 inch 5K Retina i5 33G...    2629      220558   \n",
       "4032   IMac desktop computer 27 inch 8GB RAM 256GB Re...    2929      278958   \n",
       "26                              HMDI to HDMI Cable 1.8m.      25        2400   \n",
       "18817  Stereo headphones with remote control and micr...    1999        1299   \n",
       "14892  Protective cover with slip rubber feet 13 inch...     299        2499   \n",
       "8449   IMac desktop computer 27 inch Retina 5K RAM 32...    2849      229899   \n",
       "16273  New MacBook Pro 13 inch Touch Bar 31 GHz Core ...  200559      188500   \n",
       "\n",
       "       in_stock      type     n_p   n_p_p  \n",
       "5144          0  5,74E+15    3589  302499  \n",
       "8251          0      1282    2449  211398  \n",
       "18672         0      1229    3498     272  \n",
       "3164          0  5,74E+15    2629  220558  \n",
       "4032          0  5,74E+15    2929  278958  \n",
       "26            0      1325      25    2400  \n",
       "18817         1      5384    1999    1299  \n",
       "14892         1  13835403     299    2499  \n",
       "8449          0      1282    2849  229899  \n",
       "16273         0  1,02E+12  200559  188500  "
      ]
     },
     "execution_count": 523,
     "metadata": {},
     "output_type": "execute_result"
    }
   ],
   "source": [
    "products = products.assign(n_p = products['price'].str.replace('\\.',''))\n",
    "products = products.assign(n_p_p = products['promo_price'].str.replace('\\.',''))\n",
    "products.sample(10)"
   ]
  },
  {
   "cell_type": "code",
   "execution_count": 558,
   "id": "a2977148",
   "metadata": {},
   "outputs": [],
   "source": [
    "def convertPrice(value):\n",
    "    valuestring = value.join('\\.')\n",
    "    newdecimals = ('00')\n",
    "    if(len(valuestring) >2):\n",
    "        newValuew = valuestring[-1][:-2]\n",
    "    else:\n",
    "        value = value.append(newdecimals)\n",
    "        \n",
    "    return(value)\n",
    "            \n"
   ]
  },
  {
   "cell_type": "code",
   "execution_count": 553,
   "id": "9fb80d02",
   "metadata": {},
   "outputs": [],
   "source": [
    "new_list_p= []\n",
    "\n",
    "for any in products['n_p']:\n",
    "    any= convertPrice(str(any))\n",
    "    new_list_p.append(any)\n"
   ]
  },
  {
   "cell_type": "code",
   "execution_count": 554,
   "id": "1ae5ee01",
   "metadata": {},
   "outputs": [],
   "source": [
    "products['n_p'] = new_list_p"
   ]
  },
  {
   "cell_type": "code",
   "execution_count": 715,
   "id": "2dc69666",
   "metadata": {},
   "outputs": [
    {
     "name": "stdout",
     "output_type": "stream",
     "text": [
      "           sku                                           name  \\\n",
      "0      RAI0007              Silver Rain Design mStand Support   \n",
      "1      APP0023              Apple Mac Keyboard Keypad Spanish   \n",
      "2      APP0025               Mighty Mouse Apple Mouse for Mac   \n",
      "3      APP0072  Apple Dock to USB Cable iPhone and iPod white   \n",
      "4      KIN0007    Mac Memory Kingston 2GB 667MHz DDR2 SO-DIMM   \n",
      "...        ...                                            ...   \n",
      "19321  BEL0376        Belkin Travel Support Apple Watch Black   \n",
      "19322  THU0060   Enroute Thule 14L Backpack MacBook 13 \"Black   \n",
      "19323  THU0061    Enroute Thule 14L Backpack MacBook 13 \"Blue   \n",
      "19324  THU0062     Enroute Thule 14L Backpack MacBook 13 \"Red   \n",
      "19325  THU0063   Enroute Thule 14L Backpack MacBook 13 \"Green   \n",
      "\n",
      "                                                    desc  price promo_price  \\\n",
      "0           Aluminum support compatible with all MacBook  59.99     499.899   \n",
      "1              USB ultrathin keyboard Apple Mac Spanish.     59     589.996   \n",
      "2                                 mouse Apple USB cable.     59     569.898   \n",
      "3                  IPhone dock and USB Cable Apple iPod.     25     229.997   \n",
      "4      2GB RAM Mac mini and iMac (2006/07) MacBook Pr...  34.99       31.99   \n",
      "...                                                  ...    ...         ...   \n",
      "19321  compact and portable stand vertically or horiz...  29.99     269.903   \n",
      "19322  Backpack with capacity of 14 liter compartment...  69.95     649.903   \n",
      "19323  Backpack with capacity of 14 liter compartment...  69.95     649.903   \n",
      "19324  Backpack with capacity of 14 liter compartment...  69.95     649.903   \n",
      "19325  Backpack with capacity of 14 liter compartment...  69.95     649.903   \n",
      "\n",
      "       in_stock      type  \n",
      "0             1      8696  \n",
      "1             0  13855401  \n",
      "2             0      1387  \n",
      "3             0      1230  \n",
      "4             1      1364  \n",
      "...         ...       ...  \n",
      "19321         1     12282  \n",
      "19322         1      1392  \n",
      "19323         1      1392  \n",
      "19324         0      1392  \n",
      "19325         1      1392  \n",
      "\n",
      "[19326 rows x 7 columns]\n"
     ]
    }
   ],
   "source": [
    "import pandas as pd\n",
    "\n",
    "products = pd.read_csv(\"products.csv\")\n",
    "print(products)"
   ]
  },
  {
   "cell_type": "code",
   "execution_count": 716,
   "id": "b7271ad1",
   "metadata": {},
   "outputs": [],
   "source": [
    "products = products[products['price'].notna()]\n"
   ]
  },
  {
   "cell_type": "code",
   "execution_count": 719,
   "id": "7f4068e7",
   "metadata": {},
   "outputs": [],
   "source": [
    "products = products[products['promo_price'].notna()]"
   ]
  },
  {
   "cell_type": "code",
   "execution_count": 717,
   "id": "82922d07",
   "metadata": {},
   "outputs": [],
   "source": [
    "products['price'] = products.price.apply(lambda x : x +'.00' if x.count('.') == 0 else x)\n",
    "products['price'] = products.price.apply(lambda x: x  + '0' if x[-2]=='.' else x)\n",
    "products['price'] = products.price.apply(lambda x: str(float(x.replace('.',''))/1000) if ( (x[-4]=='.') & (x.count('.')==2)) else x)\n",
    "products['price'] = products.price.apply(lambda x: str(float(x.replace('.',''))/10000) if ( (x[-4]=='.') & (x.count('.')==1)) else x)"
   ]
  },
  {
   "cell_type": "code",
   "execution_count": 720,
   "id": "8d8f2517",
   "metadata": {},
   "outputs": [],
   "source": [
    "products['promo_price'] = products.promo_price.apply(lambda x : x +'.00' if x.count('.') == 0 else x)\n",
    "products['promo_price'] = products.promo_price.apply(lambda x: x  + '0' if x[-2]=='.' else x)\n",
    "products['promo_price'] = products.promo_price.apply(lambda x: str(float(x.replace('.',''))/1000) if ( (x[-4]=='.') & (x.count('.')==2)) else x)\n",
    "products['promo_price'] = products.promo_price.apply(lambda x: str(float(x.replace('.',''))/10000) if ( (x[-4]=='.') & (x.count('.')==1)) else x)"
   ]
  },
  {
   "cell_type": "code",
   "execution_count": 722,
   "id": "b621129e",
   "metadata": {},
   "outputs": [],
   "source": [
    "products['price'] = products.price.astype(float)"
   ]
  },
  {
   "cell_type": "code",
   "execution_count": 723,
   "id": "0a3753d8",
   "metadata": {},
   "outputs": [],
   "source": [
    "products['price'] = products.price.round(decimals=2)"
   ]
  },
  {
   "cell_type": "code",
   "execution_count": 726,
   "id": "0f964356",
   "metadata": {},
   "outputs": [],
   "source": [
    "products['promo_price'] = products.promo_price.astype(float)"
   ]
  },
  {
   "cell_type": "code",
   "execution_count": 727,
   "id": "03cdefd0",
   "metadata": {},
   "outputs": [],
   "source": [
    "products['promo_price'] = products.promo_price.round(decimals=2)"
   ]
  },
  {
   "cell_type": "code",
   "execution_count": 728,
   "id": "8ab04c59",
   "metadata": {},
   "outputs": [
    {
     "data": {
      "text/plain": [
       "0        59.99\n",
       "1        59.00\n",
       "2        59.00\n",
       "3        25.00\n",
       "4        34.99\n",
       "         ...  \n",
       "19321    29.99\n",
       "19322    69.95\n",
       "19323    69.95\n",
       "19324    69.95\n",
       "19325    69.95\n",
       "Name: promo_price, Length: 19280, dtype: float64"
      ]
     },
     "execution_count": 728,
     "metadata": {},
     "output_type": "execute_result"
    }
   ],
   "source": [
    "products['promo_price'] "
   ]
  },
  {
   "cell_type": "code",
   "execution_count": null,
   "id": "db313bba",
   "metadata": {},
   "outputs": [],
   "source": []
  },
  {
   "cell_type": "code",
   "execution_count": 676,
   "id": "a618ffb9",
   "metadata": {},
   "outputs": [],
   "source": []
  },
  {
   "cell_type": "markdown",
   "id": "ff7ce25b",
   "metadata": {},
   "source": [
    "\n",
    "\n",
    "Duplicated rows. They have to be removed. \n",
    "    * To accomplish this step you can use the method `pd.DataFrame.drop_duplicates()`. Be sure you drop all the duplicates based on the column **sku**, as it is the one you will use to merge with orderlines. "
   ]
  },
  {
   "cell_type": "code",
   "execution_count": 680,
   "id": "46b21a3c",
   "metadata": {},
   "outputs": [
    {
     "name": "stdout",
     "output_type": "stream",
     "text": [
      "           sku                                           name  \\\n",
      "0      RAI0007              Silver Rain Design mStand Support   \n",
      "1      APP0023              Apple Mac Keyboard Keypad Spanish   \n",
      "2      APP0025               Mighty Mouse Apple Mouse for Mac   \n",
      "3      APP0072  Apple Dock to USB Cable iPhone and iPod white   \n",
      "4      KIN0007    Mac Memory Kingston 2GB 667MHz DDR2 SO-DIMM   \n",
      "...        ...                                            ...   \n",
      "19321  BEL0376        Belkin Travel Support Apple Watch Black   \n",
      "19322  THU0060   Enroute Thule 14L Backpack MacBook 13 \"Black   \n",
      "19323  THU0061    Enroute Thule 14L Backpack MacBook 13 \"Blue   \n",
      "19324  THU0062     Enroute Thule 14L Backpack MacBook 13 \"Red   \n",
      "19325  THU0063   Enroute Thule 14L Backpack MacBook 13 \"Green   \n",
      "\n",
      "                                                    desc  price promo_price  \\\n",
      "0           Aluminum support compatible with all MacBook  59.99     499.899   \n",
      "1              USB ultrathin keyboard Apple Mac Spanish.     59     589.996   \n",
      "2                                 mouse Apple USB cable.     59     569.898   \n",
      "3                  IPhone dock and USB Cable Apple iPod.     25     229.997   \n",
      "4      2GB RAM Mac mini and iMac (2006/07) MacBook Pr...  34.99       31.99   \n",
      "...                                                  ...    ...         ...   \n",
      "19321  compact and portable stand vertically or horiz...  29.99     269.903   \n",
      "19322  Backpack with capacity of 14 liter compartment...  69.95     649.903   \n",
      "19323  Backpack with capacity of 14 liter compartment...  69.95     649.903   \n",
      "19324  Backpack with capacity of 14 liter compartment...  69.95     649.903   \n",
      "19325  Backpack with capacity of 14 liter compartment...  69.95     649.903   \n",
      "\n",
      "       in_stock      type  \n",
      "0             1      8696  \n",
      "1             0  13855401  \n",
      "2             0      1387  \n",
      "3             0      1230  \n",
      "4             1      1364  \n",
      "...         ...       ...  \n",
      "19321         1     12282  \n",
      "19322         1      1392  \n",
      "19323         1      1392  \n",
      "19324         0      1392  \n",
      "19325         1      1392  \n",
      "\n",
      "[19326 rows x 7 columns]\n"
     ]
    }
   ],
   "source": [
    "print(products)"
   ]
  },
  {
   "cell_type": "code",
   "execution_count": 681,
   "id": "6ba73bed",
   "metadata": {},
   "outputs": [
    {
     "data": {
      "text/plain": [
       "8747"
      ]
     },
     "execution_count": 681,
     "metadata": {},
     "output_type": "execute_result"
    }
   ],
   "source": [
    "products.sku.duplicated().sum()"
   ]
  },
  {
   "cell_type": "code",
   "execution_count": 684,
   "id": "34f73893",
   "metadata": {},
   "outputs": [
    {
     "data": {
      "text/plain": [
       "(19326, 7)"
      ]
     },
     "execution_count": 684,
     "metadata": {},
     "output_type": "execute_result"
    }
   ],
   "source": [
    "products.shape"
   ]
  },
  {
   "cell_type": "code",
   "execution_count": 698,
   "id": "44afb5fd",
   "metadata": {},
   "outputs": [],
   "source": [
    "products = products.drop_duplicates('sku')\n"
   ]
  },
  {
   "cell_type": "code",
   "execution_count": 688,
   "id": "510b31a6",
   "metadata": {},
   "outputs": [
    {
     "data": {
      "text/plain": [
       "(10579, 7)"
      ]
     },
     "execution_count": 688,
     "metadata": {},
     "output_type": "execute_result"
    }
   ],
   "source": [
    "products.shape"
   ]
  },
  {
   "cell_type": "markdown",
   "id": "7c4c0ed4",
   "metadata": {},
   "source": [
    "Dealing with missing values"
   ]
  },
  {
   "cell_type": "code",
   "execution_count": 566,
   "id": "ceb83374",
   "metadata": {},
   "outputs": [
    {
     "data": {
      "text/plain": [
       "sku            False\n",
       "name           False\n",
       "desc            True\n",
       "price          False\n",
       "promo_price    False\n",
       "in_stock       False\n",
       "type            True\n",
       "n_p            False\n",
       "n_p_p          False\n",
       "dtype: bool"
      ]
     },
     "execution_count": 566,
     "metadata": {},
     "output_type": "execute_result"
    }
   ],
   "source": [
    "products.isna().any()"
   ]
  },
  {
   "cell_type": "code",
   "execution_count": 567,
   "id": "005f80bd",
   "metadata": {},
   "outputs": [
    {
     "data": {
      "text/plain": [
       "7"
      ]
     },
     "execution_count": 567,
     "metadata": {},
     "output_type": "execute_result"
    }
   ],
   "source": [
    "products.desc.isna().sum()"
   ]
  },
  {
   "cell_type": "code",
   "execution_count": 578,
   "id": "7d7da4f3",
   "metadata": {},
   "outputs": [
    {
     "data": {
      "text/html": [
       "<div>\n",
       "<style scoped>\n",
       "    .dataframe tbody tr th:only-of-type {\n",
       "        vertical-align: middle;\n",
       "    }\n",
       "\n",
       "    .dataframe tbody tr th {\n",
       "        vertical-align: top;\n",
       "    }\n",
       "\n",
       "    .dataframe thead th {\n",
       "        text-align: right;\n",
       "    }\n",
       "</style>\n",
       "<table border=\"1\" class=\"dataframe\">\n",
       "  <thead>\n",
       "    <tr style=\"text-align: right;\">\n",
       "      <th></th>\n",
       "      <th>name</th>\n",
       "      <th>desc</th>\n",
       "      <th>sku</th>\n",
       "    </tr>\n",
       "  </thead>\n",
       "  <tbody>\n",
       "    <tr>\n",
       "      <th>0</th>\n",
       "      <td>Silver Rain Design mStand Support</td>\n",
       "      <td>Aluminum support compatible with all MacBook</td>\n",
       "      <td>RAI0007</td>\n",
       "    </tr>\n",
       "    <tr>\n",
       "      <th>1</th>\n",
       "      <td>Apple Mac Keyboard Keypad Spanish</td>\n",
       "      <td>USB ultrathin keyboard Apple Mac Spanish.</td>\n",
       "      <td>APP0023</td>\n",
       "    </tr>\n",
       "    <tr>\n",
       "      <th>2</th>\n",
       "      <td>Mighty Mouse Apple Mouse for Mac</td>\n",
       "      <td>mouse Apple USB cable.</td>\n",
       "      <td>APP0025</td>\n",
       "    </tr>\n",
       "    <tr>\n",
       "      <th>3</th>\n",
       "      <td>Apple Dock to USB Cable iPhone and iPod white</td>\n",
       "      <td>IPhone dock and USB Cable Apple iPod.</td>\n",
       "      <td>APP0072</td>\n",
       "    </tr>\n",
       "    <tr>\n",
       "      <th>4</th>\n",
       "      <td>Mac Memory Kingston 2GB 667MHz DDR2 SO-DIMM</td>\n",
       "      <td>2GB RAM Mac mini and iMac (2006/07) MacBook Pr...</td>\n",
       "      <td>KIN0007</td>\n",
       "    </tr>\n",
       "    <tr>\n",
       "      <th>...</th>\n",
       "      <td>...</td>\n",
       "      <td>...</td>\n",
       "      <td>...</td>\n",
       "    </tr>\n",
       "    <tr>\n",
       "      <th>19321</th>\n",
       "      <td>Belkin Travel Support Apple Watch Black</td>\n",
       "      <td>compact and portable stand vertically or horiz...</td>\n",
       "      <td>BEL0376</td>\n",
       "    </tr>\n",
       "    <tr>\n",
       "      <th>19322</th>\n",
       "      <td>Enroute Thule 14L Backpack MacBook 13 \"Black</td>\n",
       "      <td>Backpack with capacity of 14 liter compartment...</td>\n",
       "      <td>THU0060</td>\n",
       "    </tr>\n",
       "    <tr>\n",
       "      <th>19323</th>\n",
       "      <td>Enroute Thule 14L Backpack MacBook 13 \"Blue</td>\n",
       "      <td>Backpack with capacity of 14 liter compartment...</td>\n",
       "      <td>THU0061</td>\n",
       "    </tr>\n",
       "    <tr>\n",
       "      <th>19324</th>\n",
       "      <td>Enroute Thule 14L Backpack MacBook 13 \"Red</td>\n",
       "      <td>Backpack with capacity of 14 liter compartment...</td>\n",
       "      <td>THU0062</td>\n",
       "    </tr>\n",
       "    <tr>\n",
       "      <th>19325</th>\n",
       "      <td>Enroute Thule 14L Backpack MacBook 13 \"Green</td>\n",
       "      <td>Backpack with capacity of 14 liter compartment...</td>\n",
       "      <td>THU0063</td>\n",
       "    </tr>\n",
       "  </tbody>\n",
       "</table>\n",
       "<p>19326 rows × 3 columns</p>\n",
       "</div>"
      ],
      "text/plain": [
       "                                                name  \\\n",
       "0                  Silver Rain Design mStand Support   \n",
       "1                  Apple Mac Keyboard Keypad Spanish   \n",
       "2                   Mighty Mouse Apple Mouse for Mac   \n",
       "3      Apple Dock to USB Cable iPhone and iPod white   \n",
       "4        Mac Memory Kingston 2GB 667MHz DDR2 SO-DIMM   \n",
       "...                                              ...   \n",
       "19321        Belkin Travel Support Apple Watch Black   \n",
       "19322   Enroute Thule 14L Backpack MacBook 13 \"Black   \n",
       "19323    Enroute Thule 14L Backpack MacBook 13 \"Blue   \n",
       "19324     Enroute Thule 14L Backpack MacBook 13 \"Red   \n",
       "19325   Enroute Thule 14L Backpack MacBook 13 \"Green   \n",
       "\n",
       "                                                    desc      sku  \n",
       "0           Aluminum support compatible with all MacBook  RAI0007  \n",
       "1              USB ultrathin keyboard Apple Mac Spanish.  APP0023  \n",
       "2                                 mouse Apple USB cable.  APP0025  \n",
       "3                  IPhone dock and USB Cable Apple iPod.  APP0072  \n",
       "4      2GB RAM Mac mini and iMac (2006/07) MacBook Pr...  KIN0007  \n",
       "...                                                  ...      ...  \n",
       "19321  compact and portable stand vertically or horiz...  BEL0376  \n",
       "19322  Backpack with capacity of 14 liter compartment...  THU0060  \n",
       "19323  Backpack with capacity of 14 liter compartment...  THU0061  \n",
       "19324  Backpack with capacity of 14 liter compartment...  THU0062  \n",
       "19325  Backpack with capacity of 14 liter compartment...  THU0063  \n",
       "\n",
       "[19326 rows x 3 columns]"
      ]
     },
     "execution_count": 578,
     "metadata": {},
     "output_type": "execute_result"
    }
   ],
   "source": [
    "\n",
    "products[['name','desc','sku']]"
   ]
  },
  {
   "cell_type": "code",
   "execution_count": 659,
   "id": "2f1c2bc9",
   "metadata": {},
   "outputs": [
    {
     "name": "stdout",
     "output_type": "stream",
     "text": [
      "           sku                                           name  \\\n",
      "0      RAI0007              Silver Rain Design mStand Support   \n",
      "1      APP0023              Apple Mac Keyboard Keypad Spanish   \n",
      "2      APP0025               Mighty Mouse Apple Mouse for Mac   \n",
      "3      APP0072  Apple Dock to USB Cable iPhone and iPod white   \n",
      "4      KIN0007    Mac Memory Kingston 2GB 667MHz DDR2 SO-DIMM   \n",
      "...        ...                                            ...   \n",
      "19321  BEL0376        Belkin Travel Support Apple Watch Black   \n",
      "19322  THU0060   Enroute Thule 14L Backpack MacBook 13 \"Black   \n",
      "19323  THU0061    Enroute Thule 14L Backpack MacBook 13 \"Blue   \n",
      "19324  THU0062     Enroute Thule 14L Backpack MacBook 13 \"Red   \n",
      "19325  THU0063   Enroute Thule 14L Backpack MacBook 13 \"Green   \n",
      "\n",
      "                                                    desc  price promo_price  \\\n",
      "0           Aluminum support compatible with all MacBook  59.99     499.899   \n",
      "1              USB ultrathin keyboard Apple Mac Spanish.     59     589.996   \n",
      "2                                 mouse Apple USB cable.     59     569.898   \n",
      "3                  IPhone dock and USB Cable Apple iPod.     25     229.997   \n",
      "4      2GB RAM Mac mini and iMac (2006/07) MacBook Pr...  34.99       31.99   \n",
      "...                                                  ...    ...         ...   \n",
      "19321  compact and portable stand vertically or horiz...  29.99     269.903   \n",
      "19322  Backpack with capacity of 14 liter compartment...  69.95     649.903   \n",
      "19323  Backpack with capacity of 14 liter compartment...  69.95     649.903   \n",
      "19324  Backpack with capacity of 14 liter compartment...  69.95     649.903   \n",
      "19325  Backpack with capacity of 14 liter compartment...  69.95     649.903   \n",
      "\n",
      "       in_stock      type  \n",
      "0             1      8696  \n",
      "1             0  13855401  \n",
      "2             0      1387  \n",
      "3             0      1230  \n",
      "4             1      1364  \n",
      "...         ...       ...  \n",
      "19321         1     12282  \n",
      "19322         1      1392  \n",
      "19323         1      1392  \n",
      "19324         0      1392  \n",
      "19325         1      1392  \n",
      "\n",
      "[19326 rows x 7 columns]\n"
     ]
    }
   ],
   "source": [
    "import pandas as pd\n",
    "\n",
    "products = pd.read_csv(\"products.csv\")\n",
    "print(products)"
   ]
  },
  {
   "cell_type": "code",
   "execution_count": 689,
   "id": "7a28fd0c",
   "metadata": {},
   "outputs": [
    {
     "name": "stderr",
     "output_type": "stream",
     "text": [
      "<ipython-input-689-03c3fff4b1d6>:1: SettingWithCopyWarning: \n",
      "A value is trying to be set on a copy of a slice from a DataFrame.\n",
      "Try using .loc[row_indexer,col_indexer] = value instead\n",
      "\n",
      "See the caveats in the documentation: https://pandas.pydata.org/pandas-docs/stable/user_guide/indexing.html#returning-a-view-versus-a-copy\n",
      "  products['new_desc'] = products.desc.fillna('See the product name')\n",
      "<ipython-input-689-03c3fff4b1d6>:2: SettingWithCopyWarning: \n",
      "A value is trying to be set on a copy of a slice from a DataFrame.\n",
      "Try using .loc[row_indexer,col_indexer] = value instead\n",
      "\n",
      "See the caveats in the documentation: https://pandas.pydata.org/pandas-docs/stable/user_guide/indexing.html#returning-a-view-versus-a-copy\n",
      "  products['desc'] = products['new_desc']\n"
     ]
    },
    {
     "data": {
      "text/html": [
       "<div>\n",
       "<style scoped>\n",
       "    .dataframe tbody tr th:only-of-type {\n",
       "        vertical-align: middle;\n",
       "    }\n",
       "\n",
       "    .dataframe tbody tr th {\n",
       "        vertical-align: top;\n",
       "    }\n",
       "\n",
       "    .dataframe thead th {\n",
       "        text-align: right;\n",
       "    }\n",
       "</style>\n",
       "<table border=\"1\" class=\"dataframe\">\n",
       "  <thead>\n",
       "    <tr style=\"text-align: right;\">\n",
       "      <th></th>\n",
       "      <th>sku</th>\n",
       "      <th>name</th>\n",
       "      <th>desc</th>\n",
       "      <th>price</th>\n",
       "      <th>promo_price</th>\n",
       "      <th>in_stock</th>\n",
       "    </tr>\n",
       "  </thead>\n",
       "  <tbody>\n",
       "    <tr>\n",
       "      <th>0</th>\n",
       "      <td>RAI0007</td>\n",
       "      <td>Silver Rain Design mStand Support</td>\n",
       "      <td>Aluminum support compatible with all MacBook</td>\n",
       "      <td>59.99</td>\n",
       "      <td>499.899</td>\n",
       "      <td>1</td>\n",
       "    </tr>\n",
       "    <tr>\n",
       "      <th>1</th>\n",
       "      <td>APP0023</td>\n",
       "      <td>Apple Mac Keyboard Keypad Spanish</td>\n",
       "      <td>USB ultrathin keyboard Apple Mac Spanish.</td>\n",
       "      <td>59</td>\n",
       "      <td>589.996</td>\n",
       "      <td>0</td>\n",
       "    </tr>\n",
       "    <tr>\n",
       "      <th>2</th>\n",
       "      <td>APP0025</td>\n",
       "      <td>Mighty Mouse Apple Mouse for Mac</td>\n",
       "      <td>mouse Apple USB cable.</td>\n",
       "      <td>59</td>\n",
       "      <td>569.898</td>\n",
       "      <td>0</td>\n",
       "    </tr>\n",
       "    <tr>\n",
       "      <th>3</th>\n",
       "      <td>APP0072</td>\n",
       "      <td>Apple Dock to USB Cable iPhone and iPod white</td>\n",
       "      <td>IPhone dock and USB Cable Apple iPod.</td>\n",
       "      <td>25</td>\n",
       "      <td>229.997</td>\n",
       "      <td>0</td>\n",
       "    </tr>\n",
       "    <tr>\n",
       "      <th>4</th>\n",
       "      <td>KIN0007</td>\n",
       "      <td>Mac Memory Kingston 2GB 667MHz DDR2 SO-DIMM</td>\n",
       "      <td>2GB RAM Mac mini and iMac (2006/07) MacBook Pr...</td>\n",
       "      <td>34.99</td>\n",
       "      <td>31.99</td>\n",
       "      <td>1</td>\n",
       "    </tr>\n",
       "    <tr>\n",
       "      <th>...</th>\n",
       "      <td>...</td>\n",
       "      <td>...</td>\n",
       "      <td>...</td>\n",
       "      <td>...</td>\n",
       "      <td>...</td>\n",
       "      <td>...</td>\n",
       "    </tr>\n",
       "    <tr>\n",
       "      <th>19321</th>\n",
       "      <td>BEL0376</td>\n",
       "      <td>Belkin Travel Support Apple Watch Black</td>\n",
       "      <td>compact and portable stand vertically or horiz...</td>\n",
       "      <td>29.99</td>\n",
       "      <td>269.903</td>\n",
       "      <td>1</td>\n",
       "    </tr>\n",
       "    <tr>\n",
       "      <th>19322</th>\n",
       "      <td>THU0060</td>\n",
       "      <td>Enroute Thule 14L Backpack MacBook 13 \"Black</td>\n",
       "      <td>Backpack with capacity of 14 liter compartment...</td>\n",
       "      <td>69.95</td>\n",
       "      <td>649.903</td>\n",
       "      <td>1</td>\n",
       "    </tr>\n",
       "    <tr>\n",
       "      <th>19323</th>\n",
       "      <td>THU0061</td>\n",
       "      <td>Enroute Thule 14L Backpack MacBook 13 \"Blue</td>\n",
       "      <td>Backpack with capacity of 14 liter compartment...</td>\n",
       "      <td>69.95</td>\n",
       "      <td>649.903</td>\n",
       "      <td>1</td>\n",
       "    </tr>\n",
       "    <tr>\n",
       "      <th>19324</th>\n",
       "      <td>THU0062</td>\n",
       "      <td>Enroute Thule 14L Backpack MacBook 13 \"Red</td>\n",
       "      <td>Backpack with capacity of 14 liter compartment...</td>\n",
       "      <td>69.95</td>\n",
       "      <td>649.903</td>\n",
       "      <td>0</td>\n",
       "    </tr>\n",
       "    <tr>\n",
       "      <th>19325</th>\n",
       "      <td>THU0063</td>\n",
       "      <td>Enroute Thule 14L Backpack MacBook 13 \"Green</td>\n",
       "      <td>Backpack with capacity of 14 liter compartment...</td>\n",
       "      <td>69.95</td>\n",
       "      <td>649.903</td>\n",
       "      <td>1</td>\n",
       "    </tr>\n",
       "  </tbody>\n",
       "</table>\n",
       "<p>10579 rows × 6 columns</p>\n",
       "</div>"
      ],
      "text/plain": [
       "           sku                                           name  \\\n",
       "0      RAI0007              Silver Rain Design mStand Support   \n",
       "1      APP0023              Apple Mac Keyboard Keypad Spanish   \n",
       "2      APP0025               Mighty Mouse Apple Mouse for Mac   \n",
       "3      APP0072  Apple Dock to USB Cable iPhone and iPod white   \n",
       "4      KIN0007    Mac Memory Kingston 2GB 667MHz DDR2 SO-DIMM   \n",
       "...        ...                                            ...   \n",
       "19321  BEL0376        Belkin Travel Support Apple Watch Black   \n",
       "19322  THU0060   Enroute Thule 14L Backpack MacBook 13 \"Black   \n",
       "19323  THU0061    Enroute Thule 14L Backpack MacBook 13 \"Blue   \n",
       "19324  THU0062     Enroute Thule 14L Backpack MacBook 13 \"Red   \n",
       "19325  THU0063   Enroute Thule 14L Backpack MacBook 13 \"Green   \n",
       "\n",
       "                                                    desc  price promo_price  \\\n",
       "0           Aluminum support compatible with all MacBook  59.99     499.899   \n",
       "1              USB ultrathin keyboard Apple Mac Spanish.     59     589.996   \n",
       "2                                 mouse Apple USB cable.     59     569.898   \n",
       "3                  IPhone dock and USB Cable Apple iPod.     25     229.997   \n",
       "4      2GB RAM Mac mini and iMac (2006/07) MacBook Pr...  34.99       31.99   \n",
       "...                                                  ...    ...         ...   \n",
       "19321  compact and portable stand vertically or horiz...  29.99     269.903   \n",
       "19322  Backpack with capacity of 14 liter compartment...  69.95     649.903   \n",
       "19323  Backpack with capacity of 14 liter compartment...  69.95     649.903   \n",
       "19324  Backpack with capacity of 14 liter compartment...  69.95     649.903   \n",
       "19325  Backpack with capacity of 14 liter compartment...  69.95     649.903   \n",
       "\n",
       "       in_stock  \n",
       "0             1  \n",
       "1             0  \n",
       "2             0  \n",
       "3             0  \n",
       "4             1  \n",
       "...         ...  \n",
       "19321         1  \n",
       "19322         1  \n",
       "19323         1  \n",
       "19324         0  \n",
       "19325         1  \n",
       "\n",
       "[10579 rows x 6 columns]"
      ]
     },
     "execution_count": 689,
     "metadata": {},
     "output_type": "execute_result"
    }
   ],
   "source": [
    "products['new_desc'] = products.desc.fillna('See the product name')\n",
    "products['desc'] = products['new_desc']\n",
    "products.drop(['new_desc','type'], axis=1)\n",
    "#products.desc.isna().sum()"
   ]
  },
  {
   "cell_type": "code",
   "execution_count": 639,
   "id": "a5bae85a",
   "metadata": {},
   "outputs": [],
   "source": [
    "import pandas as pd\n",
    "\n",
    "orderlines = pd.read_csv(\"orderlines.csv\")"
   ]
  },
  {
   "cell_type": "markdown",
   "id": "30dfdc89",
   "metadata": {},
   "source": [
    "Check prices from orderlines to products"
   ]
  },
  {
   "cell_type": "code",
   "execution_count": 690,
   "id": "7b6a5e6b",
   "metadata": {},
   "outputs": [
    {
     "data": {
      "text/plain": [
       "7850"
      ]
     },
     "execution_count": 690,
     "metadata": {},
     "output_type": "execute_result"
    }
   ],
   "source": [
    "(\n",
    "products\n",
    "    .assign(check_sku = products['sku'].isin(orderlines['sku']))\n",
    ")['check_sku'].sum()"
   ]
  },
  {
   "cell_type": "code",
   "execution_count": 691,
   "id": "3fa20f23",
   "metadata": {},
   "outputs": [
    {
     "data": {
      "text/plain": [
       "(10579, 8)"
      ]
     },
     "execution_count": 691,
     "metadata": {},
     "output_type": "execute_result"
    }
   ],
   "source": [
    "products.shape"
   ]
  },
  {
   "cell_type": "markdown",
   "id": "5e1bc9a7",
   "metadata": {},
   "source": [
    "## Brands"
   ]
  },
  {
   "cell_type": "markdown",
   "id": "06824945",
   "metadata": {},
   "source": [
    "The brands csv looks fine, so we can work together with it. "
   ]
  },
  {
   "cell_type": "code",
   "execution_count": 45,
   "id": "e33b4bae",
   "metadata": {},
   "outputs": [],
   "source": [
    "brands.to_csv(path + 'clean/brands.csv', index=False)"
   ]
  }
 ],
 "metadata": {
  "kernelspec": {
   "display_name": "Python 3",
   "language": "python",
   "name": "python3"
  },
  "language_info": {
   "codemirror_mode": {
    "name": "ipython",
    "version": 3
   },
   "file_extension": ".py",
   "mimetype": "text/x-python",
   "name": "python",
   "nbconvert_exporter": "python",
   "pygments_lexer": "ipython3",
   "version": "3.8.8"
  },
  "toc-showmarkdowntxt": false
 },
 "nbformat": 4,
 "nbformat_minor": 5
}
