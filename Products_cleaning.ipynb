{
 "cells": [
  {
   "cell_type": "markdown",
   "id": "7e17fc1f-9244-4cb7-992f-aa62330acfcb",
   "metadata": {},
   "source": [
    "<h1> <strong> PRODUCTS CLEANING </strong> <h1>"
   ]
  },
  {
   "cell_type": "markdown",
   "id": "af39da3a-abee-49a2-ab38-02dc2992ec28",
   "metadata": {},
   "source": [
    "<h2> <strong> Initial exploration  </strong>  </h2>"
   ]
  },
  {
   "cell_type": "code",
   "execution_count": 1,
   "id": "fd2d722e-91d5-4515-bf84-68bd097353b1",
   "metadata": {},
   "outputs": [
    {
     "name": "stdout",
     "output_type": "stream",
     "text": [
      "           sku                                           name  \\\n",
      "0      RAI0007              Silver Rain Design mStand Support   \n",
      "1      APP0023              Apple Mac Keyboard Keypad Spanish   \n",
      "2      APP0025               Mighty Mouse Apple Mouse for Mac   \n",
      "3      APP0072  Apple Dock to USB Cable iPhone and iPod white   \n",
      "4      KIN0007    Mac Memory Kingston 2GB 667MHz DDR2 SO-DIMM   \n",
      "...        ...                                            ...   \n",
      "19321  BEL0376        Belkin Travel Support Apple Watch Black   \n",
      "19322  THU0060   Enroute Thule 14L Backpack MacBook 13 \"Black   \n",
      "19323  THU0061    Enroute Thule 14L Backpack MacBook 13 \"Blue   \n",
      "19324  THU0062     Enroute Thule 14L Backpack MacBook 13 \"Red   \n",
      "19325  THU0063   Enroute Thule 14L Backpack MacBook 13 \"Green   \n",
      "\n",
      "                                                    desc  price promo_price  \\\n",
      "0           Aluminum support compatible with all MacBook  59.99     499.899   \n",
      "1              USB ultrathin keyboard Apple Mac Spanish.     59     589.996   \n",
      "2                                 mouse Apple USB cable.     59     569.898   \n",
      "3                  IPhone dock and USB Cable Apple iPod.     25     229.997   \n",
      "4      2GB RAM Mac mini and iMac (2006/07) MacBook Pr...  34.99       31.99   \n",
      "...                                                  ...    ...         ...   \n",
      "19321  compact and portable stand vertically or horiz...  29.99     269.903   \n",
      "19322  Backpack with capacity of 14 liter compartment...  69.95     649.903   \n",
      "19323  Backpack with capacity of 14 liter compartment...  69.95     649.903   \n",
      "19324  Backpack with capacity of 14 liter compartment...  69.95     649.903   \n",
      "19325  Backpack with capacity of 14 liter compartment...  69.95     649.903   \n",
      "\n",
      "       in_stock      type  \n",
      "0             1      8696  \n",
      "1             0  13855401  \n",
      "2             0      1387  \n",
      "3             0      1230  \n",
      "4             1      1364  \n",
      "...         ...       ...  \n",
      "19321         1     12282  \n",
      "19322         1      1392  \n",
      "19323         1      1392  \n",
      "19324         0      1392  \n",
      "19325         1      1392  \n",
      "\n",
      "[19326 rows x 7 columns]\n"
     ]
    }
   ],
   "source": [
    "import pandas as pd\n",
    "\n",
    "products = pd.read_csv(\"products.csv\")\n",
    "print(products)"
   ]
  },
  {
   "cell_type": "code",
   "execution_count": 2,
   "id": "6676cbd8-5792-4cb2-be16-e99332c23d14",
   "metadata": {},
   "outputs": [],
   "source": [
    "p = products"
   ]
  },
  {
   "cell_type": "code",
   "execution_count": 3,
   "id": "5a5f371b-7e67-4015-b219-bb3e7dff7c02",
   "metadata": {},
   "outputs": [
    {
     "name": "stdout",
     "output_type": "stream",
     "text": [
      "<class 'pandas.core.frame.DataFrame'>\n",
      "RangeIndex: 19326 entries, 0 to 19325\n",
      "Data columns (total 7 columns):\n",
      " #   Column       Non-Null Count  Dtype \n",
      "---  ------       --------------  ----- \n",
      " 0   sku          19326 non-null  object\n",
      " 1   name         19326 non-null  object\n",
      " 2   desc         19319 non-null  object\n",
      " 3   price        19280 non-null  object\n",
      " 4   promo_price  19326 non-null  object\n",
      " 5   in_stock     19326 non-null  int64 \n",
      " 6   type         19276 non-null  object\n",
      "dtypes: int64(1), object(6)\n",
      "memory usage: 1.0+ MB\n"
     ]
    }
   ],
   "source": [
    "p.info()"
   ]
  },
  {
   "cell_type": "code",
   "execution_count": 4,
   "id": "fb94e5dd-9182-4a31-a5bd-30553f6bec04",
   "metadata": {},
   "outputs": [
    {
     "data": {
      "text/html": [
       "<div>\n",
       "<style scoped>\n",
       "    .dataframe tbody tr th:only-of-type {\n",
       "        vertical-align: middle;\n",
       "    }\n",
       "\n",
       "    .dataframe tbody tr th {\n",
       "        vertical-align: top;\n",
       "    }\n",
       "\n",
       "    .dataframe thead th {\n",
       "        text-align: right;\n",
       "    }\n",
       "</style>\n",
       "<table border=\"1\" class=\"dataframe\">\n",
       "  <thead>\n",
       "    <tr style=\"text-align: right;\">\n",
       "      <th></th>\n",
       "      <th>in_stock</th>\n",
       "    </tr>\n",
       "  </thead>\n",
       "  <tbody>\n",
       "    <tr>\n",
       "      <th>count</th>\n",
       "      <td>19326.000000</td>\n",
       "    </tr>\n",
       "    <tr>\n",
       "      <th>mean</th>\n",
       "      <td>0.109593</td>\n",
       "    </tr>\n",
       "    <tr>\n",
       "      <th>std</th>\n",
       "      <td>0.312390</td>\n",
       "    </tr>\n",
       "    <tr>\n",
       "      <th>min</th>\n",
       "      <td>0.000000</td>\n",
       "    </tr>\n",
       "    <tr>\n",
       "      <th>25%</th>\n",
       "      <td>0.000000</td>\n",
       "    </tr>\n",
       "    <tr>\n",
       "      <th>50%</th>\n",
       "      <td>0.000000</td>\n",
       "    </tr>\n",
       "    <tr>\n",
       "      <th>75%</th>\n",
       "      <td>0.000000</td>\n",
       "    </tr>\n",
       "    <tr>\n",
       "      <th>max</th>\n",
       "      <td>1.000000</td>\n",
       "    </tr>\n",
       "  </tbody>\n",
       "</table>\n",
       "</div>"
      ],
      "text/plain": [
       "           in_stock\n",
       "count  19326.000000\n",
       "mean       0.109593\n",
       "std        0.312390\n",
       "min        0.000000\n",
       "25%        0.000000\n",
       "50%        0.000000\n",
       "75%        0.000000\n",
       "max        1.000000"
      ]
     },
     "execution_count": 4,
     "metadata": {},
     "output_type": "execute_result"
    }
   ],
   "source": [
    "p.describe()"
   ]
  },
  {
   "cell_type": "code",
   "execution_count": 5,
   "id": "b527862f-bb20-4d52-affc-86560f445a6b",
   "metadata": {},
   "outputs": [
    {
     "data": {
      "text/plain": [
       "(19326, 7)"
      ]
     },
     "execution_count": 5,
     "metadata": {},
     "output_type": "execute_result"
    }
   ],
   "source": [
    "p.shape"
   ]
  },
  {
   "cell_type": "code",
   "execution_count": 6,
   "id": "7279d33b-b48b-46c8-96ab-00889994bf29",
   "metadata": {},
   "outputs": [
    {
     "data": {
      "text/plain": [
       "sku             0\n",
       "name            0\n",
       "desc            7\n",
       "price          46\n",
       "promo_price     0\n",
       "in_stock        0\n",
       "type           50\n",
       "dtype: int64"
      ]
     },
     "execution_count": 6,
     "metadata": {},
     "output_type": "execute_result"
    }
   ],
   "source": [
    "p.isna().sum()"
   ]
  },
  {
   "cell_type": "code",
   "execution_count": 8,
   "id": "9fb4dc17-a041-4fe6-a3df-09ac12e5dffe",
   "metadata": {},
   "outputs": [
    {
     "data": {
      "text/plain": [
       "8746"
      ]
     },
     "execution_count": 8,
     "metadata": {},
     "output_type": "execute_result"
    }
   ],
   "source": [
    "p.duplicated().sum()"
   ]
  },
  {
   "cell_type": "markdown",
   "id": "3536ea9b-f5aa-4fce-9b93-1a6509f290eb",
   "metadata": {},
   "source": [
    "<h2> <strong> Data set  </strong>  </h2>"
   ]
  },
  {
   "cell_type": "markdown",
   "id": "6d510a71-c341-4564-8d6f-39b39ef41572",
   "metadata": {},
   "source": [
    "<p> Analyzing the data seems like  there are two crucial columns to fix: price and promo_price </p>"
   ]
  },
  {
   "cell_type": "code",
   "execution_count": 9,
   "id": "71cf3f7e-efc1-404a-92a2-5dab6b5db625",
   "metadata": {},
   "outputs": [
    {
     "data": {
      "text/html": [
       "<div>\n",
       "<style scoped>\n",
       "    .dataframe tbody tr th:only-of-type {\n",
       "        vertical-align: middle;\n",
       "    }\n",
       "\n",
       "    .dataframe tbody tr th {\n",
       "        vertical-align: top;\n",
       "    }\n",
       "\n",
       "    .dataframe thead th {\n",
       "        text-align: right;\n",
       "    }\n",
       "</style>\n",
       "<table border=\"1\" class=\"dataframe\">\n",
       "  <thead>\n",
       "    <tr style=\"text-align: right;\">\n",
       "      <th></th>\n",
       "      <th>price</th>\n",
       "      <th>promo_price</th>\n",
       "    </tr>\n",
       "  </thead>\n",
       "  <tbody>\n",
       "    <tr>\n",
       "      <th>0</th>\n",
       "      <td>59.99</td>\n",
       "      <td>499.899</td>\n",
       "    </tr>\n",
       "    <tr>\n",
       "      <th>1</th>\n",
       "      <td>59</td>\n",
       "      <td>589.996</td>\n",
       "    </tr>\n",
       "    <tr>\n",
       "      <th>2</th>\n",
       "      <td>59</td>\n",
       "      <td>569.898</td>\n",
       "    </tr>\n",
       "    <tr>\n",
       "      <th>3</th>\n",
       "      <td>25</td>\n",
       "      <td>229.997</td>\n",
       "    </tr>\n",
       "    <tr>\n",
       "      <th>4</th>\n",
       "      <td>34.99</td>\n",
       "      <td>31.99</td>\n",
       "    </tr>\n",
       "    <tr>\n",
       "      <th>...</th>\n",
       "      <td>...</td>\n",
       "      <td>...</td>\n",
       "    </tr>\n",
       "    <tr>\n",
       "      <th>19321</th>\n",
       "      <td>29.99</td>\n",
       "      <td>269.903</td>\n",
       "    </tr>\n",
       "    <tr>\n",
       "      <th>19322</th>\n",
       "      <td>69.95</td>\n",
       "      <td>649.903</td>\n",
       "    </tr>\n",
       "    <tr>\n",
       "      <th>19323</th>\n",
       "      <td>69.95</td>\n",
       "      <td>649.903</td>\n",
       "    </tr>\n",
       "    <tr>\n",
       "      <th>19324</th>\n",
       "      <td>69.95</td>\n",
       "      <td>649.903</td>\n",
       "    </tr>\n",
       "    <tr>\n",
       "      <th>19325</th>\n",
       "      <td>69.95</td>\n",
       "      <td>649.903</td>\n",
       "    </tr>\n",
       "  </tbody>\n",
       "</table>\n",
       "<p>19326 rows × 2 columns</p>\n",
       "</div>"
      ],
      "text/plain": [
       "       price promo_price\n",
       "0      59.99     499.899\n",
       "1         59     589.996\n",
       "2         59     569.898\n",
       "3         25     229.997\n",
       "4      34.99       31.99\n",
       "...      ...         ...\n",
       "19321  29.99     269.903\n",
       "19322  69.95     649.903\n",
       "19323  69.95     649.903\n",
       "19324  69.95     649.903\n",
       "19325  69.95     649.903\n",
       "\n",
       "[19326 rows x 2 columns]"
      ]
     },
     "execution_count": 9,
     "metadata": {},
     "output_type": "execute_result"
    }
   ],
   "source": [
    "p[['price', 'promo_price']]"
   ]
  },
  {
   "cell_type": "code",
   "execution_count": 11,
   "id": "3ff6f8ff-a82d-45f2-9a3f-094ed7480f8e",
   "metadata": {},
   "outputs": [],
   "source": [
    "p = p[p['price'].notna()]"
   ]
  },
  {
   "cell_type": "code",
   "execution_count": 13,
   "id": "f9dcd6f5-1421-41a6-a0f2-569d623cee57",
   "metadata": {},
   "outputs": [],
   "source": [
    "p = p[p['promo_price'].notna()]"
   ]
  },
  {
   "cell_type": "code",
   "execution_count": 14,
   "id": "3e6d7d9a-7e2a-483f-965e-1ac3f57f9621",
   "metadata": {},
   "outputs": [],
   "source": [
    "p['price'] = p.price.apply(lambda x : x +'.00' if x.count('.') == 0 else x)\n",
    "p['price'] = p.price.apply(lambda x: x  + '0' if x[-2]=='.' else x)\n",
    "p['price'] = p.price.apply(lambda x: str(float(x.replace('.',''))/1000) if ( (x[-4]=='.') & (x.count('.')==2)) else x)\n",
    "p['price'] = p.price.apply(lambda x: str(float(x.replace('.',''))/10000) if ( (x[-4]=='.') & (x.count('.')==1)) else x)"
   ]
  },
  {
   "cell_type": "code",
   "execution_count": 15,
   "id": "17be3758-2cb2-497c-ab68-6d13181996e7",
   "metadata": {},
   "outputs": [],
   "source": [
    "p['promo_price'] = p.promo_price.apply(lambda x : x +'.00' if x.count('.') == 0 else x)\n",
    "p['promo_price'] = p.promo_price.apply(lambda x: x  + '0' if x[-2]=='.' else x)\n",
    "p['promo_price'] = p.promo_price.apply(lambda x: str(float(x.replace('.',''))/1000) if ( (x[-4]=='.') & (x.count('.')==2)) else x)\n",
    "p['promo_price'] = p.promo_price.apply(lambda x: str(float(x.replace('.',''))/10000) if ( (x[-4]=='.') & (x.count('.')==1)) else x)"
   ]
  },
  {
   "cell_type": "code",
   "execution_count": 16,
   "id": "62388660-50fb-40a0-940b-4221fbb562fe",
   "metadata": {},
   "outputs": [],
   "source": [
    "p['price'] = p.price.astype(float)"
   ]
  },
  {
   "cell_type": "code",
   "execution_count": 17,
   "id": "ed856dfb-d6d5-41af-b179-2e0a8e4ceffd",
   "metadata": {},
   "outputs": [],
   "source": [
    "p['price'] = p.price.round(decimals=2)"
   ]
  },
  {
   "cell_type": "code",
   "execution_count": 21,
   "id": "e991bda6-49f8-49ac-a9c6-ae12a258c699",
   "metadata": {},
   "outputs": [],
   "source": [
    "p['promo_price'] = p.promo_price.astype(float)"
   ]
  },
  {
   "cell_type": "code",
   "execution_count": 20,
   "id": "8099c519-daf3-4198-8e6b-cc3f43a3c4d0",
   "metadata": {},
   "outputs": [],
   "source": [
    "p['promo_price'] = p.promo_price.round(decimals=2)"
   ]
  },
  {
   "cell_type": "code",
   "execution_count": 22,
   "id": "034f5a05-a12f-4ed8-86d0-c641eff65661",
   "metadata": {},
   "outputs": [
    {
     "data": {
      "text/html": [
       "<div>\n",
       "<style scoped>\n",
       "    .dataframe tbody tr th:only-of-type {\n",
       "        vertical-align: middle;\n",
       "    }\n",
       "\n",
       "    .dataframe tbody tr th {\n",
       "        vertical-align: top;\n",
       "    }\n",
       "\n",
       "    .dataframe thead th {\n",
       "        text-align: right;\n",
       "    }\n",
       "</style>\n",
       "<table border=\"1\" class=\"dataframe\">\n",
       "  <thead>\n",
       "    <tr style=\"text-align: right;\">\n",
       "      <th></th>\n",
       "      <th>price</th>\n",
       "      <th>promo_price</th>\n",
       "    </tr>\n",
       "  </thead>\n",
       "  <tbody>\n",
       "    <tr>\n",
       "      <th>0</th>\n",
       "      <td>59.99</td>\n",
       "      <td>49.99</td>\n",
       "    </tr>\n",
       "    <tr>\n",
       "      <th>1</th>\n",
       "      <td>59.00</td>\n",
       "      <td>59.00</td>\n",
       "    </tr>\n",
       "    <tr>\n",
       "      <th>2</th>\n",
       "      <td>59.00</td>\n",
       "      <td>56.99</td>\n",
       "    </tr>\n",
       "    <tr>\n",
       "      <th>3</th>\n",
       "      <td>25.00</td>\n",
       "      <td>23.00</td>\n",
       "    </tr>\n",
       "    <tr>\n",
       "      <th>4</th>\n",
       "      <td>34.99</td>\n",
       "      <td>31.99</td>\n",
       "    </tr>\n",
       "    <tr>\n",
       "      <th>...</th>\n",
       "      <td>...</td>\n",
       "      <td>...</td>\n",
       "    </tr>\n",
       "    <tr>\n",
       "      <th>19321</th>\n",
       "      <td>29.99</td>\n",
       "      <td>26.99</td>\n",
       "    </tr>\n",
       "    <tr>\n",
       "      <th>19322</th>\n",
       "      <td>69.95</td>\n",
       "      <td>64.99</td>\n",
       "    </tr>\n",
       "    <tr>\n",
       "      <th>19323</th>\n",
       "      <td>69.95</td>\n",
       "      <td>64.99</td>\n",
       "    </tr>\n",
       "    <tr>\n",
       "      <th>19324</th>\n",
       "      <td>69.95</td>\n",
       "      <td>64.99</td>\n",
       "    </tr>\n",
       "    <tr>\n",
       "      <th>19325</th>\n",
       "      <td>69.95</td>\n",
       "      <td>64.99</td>\n",
       "    </tr>\n",
       "  </tbody>\n",
       "</table>\n",
       "<p>19280 rows × 2 columns</p>\n",
       "</div>"
      ],
      "text/plain": [
       "       price  promo_price\n",
       "0      59.99        49.99\n",
       "1      59.00        59.00\n",
       "2      59.00        56.99\n",
       "3      25.00        23.00\n",
       "4      34.99        31.99\n",
       "...      ...          ...\n",
       "19321  29.99        26.99\n",
       "19322  69.95        64.99\n",
       "19323  69.95        64.99\n",
       "19324  69.95        64.99\n",
       "19325  69.95        64.99\n",
       "\n",
       "[19280 rows x 2 columns]"
      ]
     },
     "execution_count": 22,
     "metadata": {},
     "output_type": "execute_result"
    }
   ],
   "source": [
    "p[['price', 'promo_price']]"
   ]
  },
  {
   "cell_type": "markdown",
   "id": "7bce2108-fa9c-4c70-bc51-f62722e27ee5",
   "metadata": {},
   "source": [
    "<p> If we take a look at the info now, we can see our data are changed in the correct format </p>"
   ]
  },
  {
   "cell_type": "code",
   "execution_count": 23,
   "id": "fa8f698b-1faa-4814-915b-29a35a0dce5c",
   "metadata": {},
   "outputs": [
    {
     "name": "stdout",
     "output_type": "stream",
     "text": [
      "<class 'pandas.core.frame.DataFrame'>\n",
      "Int64Index: 19280 entries, 0 to 19325\n",
      "Data columns (total 7 columns):\n",
      " #   Column       Non-Null Count  Dtype  \n",
      "---  ------       --------------  -----  \n",
      " 0   sku          19280 non-null  object \n",
      " 1   name         19280 non-null  object \n",
      " 2   desc         19273 non-null  object \n",
      " 3   price        19280 non-null  float64\n",
      " 4   promo_price  19280 non-null  float64\n",
      " 5   in_stock     19280 non-null  int64  \n",
      " 6   type         19230 non-null  object \n",
      "dtypes: float64(2), int64(1), object(4)\n",
      "memory usage: 1.2+ MB\n"
     ]
    }
   ],
   "source": [
    "p.info()"
   ]
  },
  {
   "cell_type": "code",
   "execution_count": 44,
   "id": "181905e3-4c9a-495b-966f-5926e81085dc",
   "metadata": {},
   "outputs": [
    {
     "data": {
      "text/html": [
       "<div>\n",
       "<style scoped>\n",
       "    .dataframe tbody tr th:only-of-type {\n",
       "        vertical-align: middle;\n",
       "    }\n",
       "\n",
       "    .dataframe tbody tr th {\n",
       "        vertical-align: top;\n",
       "    }\n",
       "\n",
       "    .dataframe thead th {\n",
       "        text-align: right;\n",
       "    }\n",
       "</style>\n",
       "<table border=\"1\" class=\"dataframe\">\n",
       "  <thead>\n",
       "    <tr style=\"text-align: right;\">\n",
       "      <th></th>\n",
       "      <th>price</th>\n",
       "      <th>promo_price</th>\n",
       "      <th>in_stock</th>\n",
       "    </tr>\n",
       "  </thead>\n",
       "  <tbody>\n",
       "    <tr>\n",
       "      <th>count</th>\n",
       "      <td>10534.000000</td>\n",
       "      <td>10534.000000</td>\n",
       "      <td>10534.000000</td>\n",
       "    </tr>\n",
       "    <tr>\n",
       "      <th>mean</th>\n",
       "      <td>707.544139</td>\n",
       "      <td>533.531596</td>\n",
       "      <td>0.194798</td>\n",
       "    </tr>\n",
       "    <tr>\n",
       "      <th>std</th>\n",
       "      <td>1631.492640</td>\n",
       "      <td>1157.225178</td>\n",
       "      <td>0.396064</td>\n",
       "    </tr>\n",
       "    <tr>\n",
       "      <th>min</th>\n",
       "      <td>0.830000</td>\n",
       "      <td>0.380000</td>\n",
       "      <td>0.000000</td>\n",
       "    </tr>\n",
       "    <tr>\n",
       "      <th>25%</th>\n",
       "      <td>44.950000</td>\n",
       "      <td>29.990000</td>\n",
       "      <td>0.000000</td>\n",
       "    </tr>\n",
       "    <tr>\n",
       "      <th>50%</th>\n",
       "      <td>119.990000</td>\n",
       "      <td>84.990000</td>\n",
       "      <td>0.000000</td>\n",
       "    </tr>\n",
       "    <tr>\n",
       "      <th>75%</th>\n",
       "      <td>699.900000</td>\n",
       "      <td>469.000000</td>\n",
       "      <td>0.000000</td>\n",
       "    </tr>\n",
       "    <tr>\n",
       "      <th>max</th>\n",
       "      <td>35255.940000</td>\n",
       "      <td>14419.000000</td>\n",
       "      <td>1.000000</td>\n",
       "    </tr>\n",
       "  </tbody>\n",
       "</table>\n",
       "</div>"
      ],
      "text/plain": [
       "              price   promo_price      in_stock\n",
       "count  10534.000000  10534.000000  10534.000000\n",
       "mean     707.544139    533.531596      0.194798\n",
       "std     1631.492640   1157.225178      0.396064\n",
       "min        0.830000      0.380000      0.000000\n",
       "25%       44.950000     29.990000      0.000000\n",
       "50%      119.990000     84.990000      0.000000\n",
       "75%      699.900000    469.000000      0.000000\n",
       "max    35255.940000  14419.000000      1.000000"
      ]
     },
     "execution_count": 44,
     "metadata": {},
     "output_type": "execute_result"
    }
   ],
   "source": [
    "p.describe()"
   ]
  },
  {
   "cell_type": "markdown",
   "id": "600622ab-d70a-4aff-8b82-6bad75600400",
   "metadata": {},
   "source": [
    "<h2> <strong> Missing values  </strong>  </h2>"
   ]
  },
  {
   "cell_type": "code",
   "execution_count": 24,
   "id": "47983f27-2603-439b-b98e-2cd90aeccde8",
   "metadata": {},
   "outputs": [
    {
     "data": {
      "text/plain": [
       "sku             0\n",
       "name            0\n",
       "desc            7\n",
       "price           0\n",
       "promo_price     0\n",
       "in_stock        0\n",
       "type           50\n",
       "dtype: int64"
      ]
     },
     "execution_count": 24,
     "metadata": {},
     "output_type": "execute_result"
    }
   ],
   "source": [
    "p.isna().sum()"
   ]
  },
  {
   "cell_type": "markdown",
   "id": "fb2262c2-736e-4b78-bef7-360457cfb9dc",
   "metadata": {},
   "source": [
    "<p> We can notice there are missing values on desc and <strong>type</strong>. Since type it's not useful for our analysis, just drop it.While we have a different solution for desc </p>"
   ]
  },
  {
   "cell_type": "code",
   "execution_count": 30,
   "id": "974b543e-65b0-4b72-952c-a1a4fa2ce7a5",
   "metadata": {},
   "outputs": [
    {
     "data": {
      "text/html": [
       "<div>\n",
       "<style scoped>\n",
       "    .dataframe tbody tr th:only-of-type {\n",
       "        vertical-align: middle;\n",
       "    }\n",
       "\n",
       "    .dataframe tbody tr th {\n",
       "        vertical-align: top;\n",
       "    }\n",
       "\n",
       "    .dataframe thead th {\n",
       "        text-align: right;\n",
       "    }\n",
       "</style>\n",
       "<table border=\"1\" class=\"dataframe\">\n",
       "  <thead>\n",
       "    <tr style=\"text-align: right;\">\n",
       "      <th></th>\n",
       "      <th>sku</th>\n",
       "      <th>name</th>\n",
       "      <th>desc</th>\n",
       "      <th>price</th>\n",
       "      <th>promo_price</th>\n",
       "      <th>in_stock</th>\n",
       "    </tr>\n",
       "  </thead>\n",
       "  <tbody>\n",
       "    <tr>\n",
       "      <th>0</th>\n",
       "      <td>RAI0007</td>\n",
       "      <td>Silver Rain Design mStand Support</td>\n",
       "      <td>Aluminum support compatible with all MacBook</td>\n",
       "      <td>59.99</td>\n",
       "      <td>49.99</td>\n",
       "      <td>1</td>\n",
       "    </tr>\n",
       "    <tr>\n",
       "      <th>1</th>\n",
       "      <td>APP0023</td>\n",
       "      <td>Apple Mac Keyboard Keypad Spanish</td>\n",
       "      <td>USB ultrathin keyboard Apple Mac Spanish.</td>\n",
       "      <td>59.00</td>\n",
       "      <td>59.00</td>\n",
       "      <td>0</td>\n",
       "    </tr>\n",
       "    <tr>\n",
       "      <th>2</th>\n",
       "      <td>APP0025</td>\n",
       "      <td>Mighty Mouse Apple Mouse for Mac</td>\n",
       "      <td>mouse Apple USB cable.</td>\n",
       "      <td>59.00</td>\n",
       "      <td>56.99</td>\n",
       "      <td>0</td>\n",
       "    </tr>\n",
       "    <tr>\n",
       "      <th>3</th>\n",
       "      <td>APP0072</td>\n",
       "      <td>Apple Dock to USB Cable iPhone and iPod white</td>\n",
       "      <td>IPhone dock and USB Cable Apple iPod.</td>\n",
       "      <td>25.00</td>\n",
       "      <td>23.00</td>\n",
       "      <td>0</td>\n",
       "    </tr>\n",
       "    <tr>\n",
       "      <th>4</th>\n",
       "      <td>KIN0007</td>\n",
       "      <td>Mac Memory Kingston 2GB 667MHz DDR2 SO-DIMM</td>\n",
       "      <td>2GB RAM Mac mini and iMac (2006/07) MacBook Pr...</td>\n",
       "      <td>34.99</td>\n",
       "      <td>31.99</td>\n",
       "      <td>1</td>\n",
       "    </tr>\n",
       "    <tr>\n",
       "      <th>...</th>\n",
       "      <td>...</td>\n",
       "      <td>...</td>\n",
       "      <td>...</td>\n",
       "      <td>...</td>\n",
       "      <td>...</td>\n",
       "      <td>...</td>\n",
       "    </tr>\n",
       "    <tr>\n",
       "      <th>19321</th>\n",
       "      <td>BEL0376</td>\n",
       "      <td>Belkin Travel Support Apple Watch Black</td>\n",
       "      <td>compact and portable stand vertically or horiz...</td>\n",
       "      <td>29.99</td>\n",
       "      <td>26.99</td>\n",
       "      <td>1</td>\n",
       "    </tr>\n",
       "    <tr>\n",
       "      <th>19322</th>\n",
       "      <td>THU0060</td>\n",
       "      <td>Enroute Thule 14L Backpack MacBook 13 \"Black</td>\n",
       "      <td>Backpack with capacity of 14 liter compartment...</td>\n",
       "      <td>69.95</td>\n",
       "      <td>64.99</td>\n",
       "      <td>1</td>\n",
       "    </tr>\n",
       "    <tr>\n",
       "      <th>19323</th>\n",
       "      <td>THU0061</td>\n",
       "      <td>Enroute Thule 14L Backpack MacBook 13 \"Blue</td>\n",
       "      <td>Backpack with capacity of 14 liter compartment...</td>\n",
       "      <td>69.95</td>\n",
       "      <td>64.99</td>\n",
       "      <td>1</td>\n",
       "    </tr>\n",
       "    <tr>\n",
       "      <th>19324</th>\n",
       "      <td>THU0062</td>\n",
       "      <td>Enroute Thule 14L Backpack MacBook 13 \"Red</td>\n",
       "      <td>Backpack with capacity of 14 liter compartment...</td>\n",
       "      <td>69.95</td>\n",
       "      <td>64.99</td>\n",
       "      <td>0</td>\n",
       "    </tr>\n",
       "    <tr>\n",
       "      <th>19325</th>\n",
       "      <td>THU0063</td>\n",
       "      <td>Enroute Thule 14L Backpack MacBook 13 \"Green</td>\n",
       "      <td>Backpack with capacity of 14 liter compartment...</td>\n",
       "      <td>69.95</td>\n",
       "      <td>64.99</td>\n",
       "      <td>1</td>\n",
       "    </tr>\n",
       "  </tbody>\n",
       "</table>\n",
       "<p>19280 rows × 6 columns</p>\n",
       "</div>"
      ],
      "text/plain": [
       "           sku                                           name  \\\n",
       "0      RAI0007              Silver Rain Design mStand Support   \n",
       "1      APP0023              Apple Mac Keyboard Keypad Spanish   \n",
       "2      APP0025               Mighty Mouse Apple Mouse for Mac   \n",
       "3      APP0072  Apple Dock to USB Cable iPhone and iPod white   \n",
       "4      KIN0007    Mac Memory Kingston 2GB 667MHz DDR2 SO-DIMM   \n",
       "...        ...                                            ...   \n",
       "19321  BEL0376        Belkin Travel Support Apple Watch Black   \n",
       "19322  THU0060   Enroute Thule 14L Backpack MacBook 13 \"Black   \n",
       "19323  THU0061    Enroute Thule 14L Backpack MacBook 13 \"Blue   \n",
       "19324  THU0062     Enroute Thule 14L Backpack MacBook 13 \"Red   \n",
       "19325  THU0063   Enroute Thule 14L Backpack MacBook 13 \"Green   \n",
       "\n",
       "                                                    desc  price  promo_price  \\\n",
       "0           Aluminum support compatible with all MacBook  59.99        49.99   \n",
       "1              USB ultrathin keyboard Apple Mac Spanish.  59.00        59.00   \n",
       "2                                 mouse Apple USB cable.  59.00        56.99   \n",
       "3                  IPhone dock and USB Cable Apple iPod.  25.00        23.00   \n",
       "4      2GB RAM Mac mini and iMac (2006/07) MacBook Pr...  34.99        31.99   \n",
       "...                                                  ...    ...          ...   \n",
       "19321  compact and portable stand vertically or horiz...  29.99        26.99   \n",
       "19322  Backpack with capacity of 14 liter compartment...  69.95        64.99   \n",
       "19323  Backpack with capacity of 14 liter compartment...  69.95        64.99   \n",
       "19324  Backpack with capacity of 14 liter compartment...  69.95        64.99   \n",
       "19325  Backpack with capacity of 14 liter compartment...  69.95        64.99   \n",
       "\n",
       "       in_stock  \n",
       "0             1  \n",
       "1             0  \n",
       "2             0  \n",
       "3             0  \n",
       "4             1  \n",
       "...         ...  \n",
       "19321         1  \n",
       "19322         1  \n",
       "19323         1  \n",
       "19324         0  \n",
       "19325         1  \n",
       "\n",
       "[19280 rows x 6 columns]"
      ]
     },
     "execution_count": 30,
     "metadata": {},
     "output_type": "execute_result"
    }
   ],
   "source": [
    "p"
   ]
  },
  {
   "cell_type": "code",
   "execution_count": 32,
   "id": "67c23732-57ed-411f-bc43-b13737e5d54a",
   "metadata": {},
   "outputs": [],
   "source": [
    "p['desc']= p.desc.fillna('See the product name')"
   ]
  },
  {
   "cell_type": "code",
   "execution_count": 33,
   "id": "f582ea65-938d-4da7-a56e-cf1761065874",
   "metadata": {},
   "outputs": [
    {
     "data": {
      "text/plain": [
       "sku            0\n",
       "name           0\n",
       "desc           0\n",
       "price          0\n",
       "promo_price    0\n",
       "in_stock       0\n",
       "dtype: int64"
      ]
     },
     "execution_count": 33,
     "metadata": {},
     "output_type": "execute_result"
    }
   ],
   "source": [
    "p.isna().sum()"
   ]
  },
  {
   "cell_type": "markdown",
   "id": "88fccd3d-f75e-419b-a7a4-979228e8fb13",
   "metadata": {},
   "source": [
    "<h2> <strong> Duplicates  </strong>  </h2>"
   ]
  },
  {
   "cell_type": "code",
   "execution_count": 37,
   "id": "0cdc3c88-ef4e-4d19-8cd3-06cdf2b3e688",
   "metadata": {},
   "outputs": [
    {
     "data": {
      "text/plain": [
       "(19280, 6)"
      ]
     },
     "execution_count": 37,
     "metadata": {},
     "output_type": "execute_result"
    }
   ],
   "source": [
    "p.shape"
   ]
  },
  {
   "cell_type": "code",
   "execution_count": 36,
   "id": "201b95fb-9bde-4242-a904-dad7f70d413a",
   "metadata": {},
   "outputs": [
    {
     "data": {
      "text/plain": [
       "8746"
      ]
     },
     "execution_count": 36,
     "metadata": {},
     "output_type": "execute_result"
    }
   ],
   "source": [
    "p.duplicated().sum()"
   ]
  },
  {
   "cell_type": "code",
   "execution_count": 41,
   "id": "4ae323a1-bcc3-4d5d-84e3-dd1b4db1c6c8",
   "metadata": {},
   "outputs": [
    {
     "data": {
      "text/html": [
       "<div>\n",
       "<style scoped>\n",
       "    .dataframe tbody tr th:only-of-type {\n",
       "        vertical-align: middle;\n",
       "    }\n",
       "\n",
       "    .dataframe tbody tr th {\n",
       "        vertical-align: top;\n",
       "    }\n",
       "\n",
       "    .dataframe thead th {\n",
       "        text-align: right;\n",
       "    }\n",
       "</style>\n",
       "<table border=\"1\" class=\"dataframe\">\n",
       "  <thead>\n",
       "    <tr style=\"text-align: right;\">\n",
       "      <th></th>\n",
       "      <th>sku</th>\n",
       "      <th>name</th>\n",
       "      <th>desc</th>\n",
       "      <th>price</th>\n",
       "      <th>promo_price</th>\n",
       "      <th>in_stock</th>\n",
       "    </tr>\n",
       "  </thead>\n",
       "  <tbody>\n",
       "    <tr>\n",
       "      <th>0</th>\n",
       "      <td>RAI0007</td>\n",
       "      <td>Silver Rain Design mStand Support</td>\n",
       "      <td>Aluminum support compatible with all MacBook</td>\n",
       "      <td>59.99</td>\n",
       "      <td>49.99</td>\n",
       "      <td>1</td>\n",
       "    </tr>\n",
       "    <tr>\n",
       "      <th>1</th>\n",
       "      <td>APP0023</td>\n",
       "      <td>Apple Mac Keyboard Keypad Spanish</td>\n",
       "      <td>USB ultrathin keyboard Apple Mac Spanish.</td>\n",
       "      <td>59.00</td>\n",
       "      <td>59.00</td>\n",
       "      <td>0</td>\n",
       "    </tr>\n",
       "    <tr>\n",
       "      <th>2</th>\n",
       "      <td>APP0025</td>\n",
       "      <td>Mighty Mouse Apple Mouse for Mac</td>\n",
       "      <td>mouse Apple USB cable.</td>\n",
       "      <td>59.00</td>\n",
       "      <td>56.99</td>\n",
       "      <td>0</td>\n",
       "    </tr>\n",
       "    <tr>\n",
       "      <th>3</th>\n",
       "      <td>APP0072</td>\n",
       "      <td>Apple Dock to USB Cable iPhone and iPod white</td>\n",
       "      <td>IPhone dock and USB Cable Apple iPod.</td>\n",
       "      <td>25.00</td>\n",
       "      <td>23.00</td>\n",
       "      <td>0</td>\n",
       "    </tr>\n",
       "    <tr>\n",
       "      <th>4</th>\n",
       "      <td>KIN0007</td>\n",
       "      <td>Mac Memory Kingston 2GB 667MHz DDR2 SO-DIMM</td>\n",
       "      <td>2GB RAM Mac mini and iMac (2006/07) MacBook Pr...</td>\n",
       "      <td>34.99</td>\n",
       "      <td>31.99</td>\n",
       "      <td>1</td>\n",
       "    </tr>\n",
       "    <tr>\n",
       "      <th>...</th>\n",
       "      <td>...</td>\n",
       "      <td>...</td>\n",
       "      <td>...</td>\n",
       "      <td>...</td>\n",
       "      <td>...</td>\n",
       "      <td>...</td>\n",
       "    </tr>\n",
       "    <tr>\n",
       "      <th>19321</th>\n",
       "      <td>BEL0376</td>\n",
       "      <td>Belkin Travel Support Apple Watch Black</td>\n",
       "      <td>compact and portable stand vertically or horiz...</td>\n",
       "      <td>29.99</td>\n",
       "      <td>26.99</td>\n",
       "      <td>1</td>\n",
       "    </tr>\n",
       "    <tr>\n",
       "      <th>19322</th>\n",
       "      <td>THU0060</td>\n",
       "      <td>Enroute Thule 14L Backpack MacBook 13 \"Black</td>\n",
       "      <td>Backpack with capacity of 14 liter compartment...</td>\n",
       "      <td>69.95</td>\n",
       "      <td>64.99</td>\n",
       "      <td>1</td>\n",
       "    </tr>\n",
       "    <tr>\n",
       "      <th>19323</th>\n",
       "      <td>THU0061</td>\n",
       "      <td>Enroute Thule 14L Backpack MacBook 13 \"Blue</td>\n",
       "      <td>Backpack with capacity of 14 liter compartment...</td>\n",
       "      <td>69.95</td>\n",
       "      <td>64.99</td>\n",
       "      <td>1</td>\n",
       "    </tr>\n",
       "    <tr>\n",
       "      <th>19324</th>\n",
       "      <td>THU0062</td>\n",
       "      <td>Enroute Thule 14L Backpack MacBook 13 \"Red</td>\n",
       "      <td>Backpack with capacity of 14 liter compartment...</td>\n",
       "      <td>69.95</td>\n",
       "      <td>64.99</td>\n",
       "      <td>0</td>\n",
       "    </tr>\n",
       "    <tr>\n",
       "      <th>19325</th>\n",
       "      <td>THU0063</td>\n",
       "      <td>Enroute Thule 14L Backpack MacBook 13 \"Green</td>\n",
       "      <td>Backpack with capacity of 14 liter compartment...</td>\n",
       "      <td>69.95</td>\n",
       "      <td>64.99</td>\n",
       "      <td>1</td>\n",
       "    </tr>\n",
       "  </tbody>\n",
       "</table>\n",
       "<p>10534 rows × 6 columns</p>\n",
       "</div>"
      ],
      "text/plain": [
       "           sku                                           name  \\\n",
       "0      RAI0007              Silver Rain Design mStand Support   \n",
       "1      APP0023              Apple Mac Keyboard Keypad Spanish   \n",
       "2      APP0025               Mighty Mouse Apple Mouse for Mac   \n",
       "3      APP0072  Apple Dock to USB Cable iPhone and iPod white   \n",
       "4      KIN0007    Mac Memory Kingston 2GB 667MHz DDR2 SO-DIMM   \n",
       "...        ...                                            ...   \n",
       "19321  BEL0376        Belkin Travel Support Apple Watch Black   \n",
       "19322  THU0060   Enroute Thule 14L Backpack MacBook 13 \"Black   \n",
       "19323  THU0061    Enroute Thule 14L Backpack MacBook 13 \"Blue   \n",
       "19324  THU0062     Enroute Thule 14L Backpack MacBook 13 \"Red   \n",
       "19325  THU0063   Enroute Thule 14L Backpack MacBook 13 \"Green   \n",
       "\n",
       "                                                    desc  price  promo_price  \\\n",
       "0           Aluminum support compatible with all MacBook  59.99        49.99   \n",
       "1              USB ultrathin keyboard Apple Mac Spanish.  59.00        59.00   \n",
       "2                                 mouse Apple USB cable.  59.00        56.99   \n",
       "3                  IPhone dock and USB Cable Apple iPod.  25.00        23.00   \n",
       "4      2GB RAM Mac mini and iMac (2006/07) MacBook Pr...  34.99        31.99   \n",
       "...                                                  ...    ...          ...   \n",
       "19321  compact and portable stand vertically or horiz...  29.99        26.99   \n",
       "19322  Backpack with capacity of 14 liter compartment...  69.95        64.99   \n",
       "19323  Backpack with capacity of 14 liter compartment...  69.95        64.99   \n",
       "19324  Backpack with capacity of 14 liter compartment...  69.95        64.99   \n",
       "19325  Backpack with capacity of 14 liter compartment...  69.95        64.99   \n",
       "\n",
       "       in_stock  \n",
       "0             1  \n",
       "1             0  \n",
       "2             0  \n",
       "3             0  \n",
       "4             1  \n",
       "...         ...  \n",
       "19321         1  \n",
       "19322         1  \n",
       "19323         1  \n",
       "19324         0  \n",
       "19325         1  \n",
       "\n",
       "[10534 rows x 6 columns]"
      ]
     },
     "execution_count": 41,
     "metadata": {},
     "output_type": "execute_result"
    }
   ],
   "source": [
    "p = p.drop_duplicates()\n",
    "p"
   ]
  },
  {
   "cell_type": "code",
   "execution_count": 42,
   "id": "0edf2bf2-fb65-4828-ae3a-9760c787e9cf",
   "metadata": {},
   "outputs": [
    {
     "data": {
      "text/plain": [
       "(10534, 6)"
      ]
     },
     "execution_count": 42,
     "metadata": {},
     "output_type": "execute_result"
    }
   ],
   "source": [
    "p.shape"
   ]
  },
  {
   "cell_type": "markdown",
   "id": "8c45c17b-eda0-402f-a493-ee139dfe10e7",
   "metadata": {},
   "source": [
    "<h> <strong> We can save it as a new csv <strong> </h>"
   ]
  },
  {
   "cell_type": "code",
   "execution_count": 43,
   "id": "e1acfae4-1319-4d6c-b407-89a0d55ff537",
   "metadata": {},
   "outputs": [],
   "source": [
    "p.to_csv('products_cl.csv', index=False)"
   ]
  }
 ],
 "metadata": {
  "kernelspec": {
   "display_name": "Python 3",
   "language": "python",
   "name": "python3"
  },
  "language_info": {
   "codemirror_mode": {
    "name": "ipython",
    "version": 3
   },
   "file_extension": ".py",
   "mimetype": "text/x-python",
   "name": "python",
   "nbconvert_exporter": "python",
   "pygments_lexer": "ipython3",
   "version": "3.8.8"
  }
 },
 "nbformat": 4,
 "nbformat_minor": 5
}
