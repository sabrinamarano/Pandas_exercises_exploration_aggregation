{
 "cells": [
  {
   "cell_type": "markdown",
   "id": "f6b78f81-5c20-4b78-9aa8-051546537bde",
   "metadata": {},
   "source": [
    "<h1> <strong> ORDERS CLEANING </strong> <h1>"
   ]
  },
  {
   "cell_type": "markdown",
   "id": "07d92336-ea13-4651-83da-6f6884062278",
   "metadata": {},
   "source": [
    "<h2> <strong> Initial exploration  </strong>  </h2>"
   ]
  },
  {
   "cell_type": "code",
   "execution_count": 1,
   "id": "4cabc744-43a1-4c13-8329-b4bd38f57475",
   "metadata": {},
   "outputs": [
    {
     "name": "stdout",
     "output_type": "stream",
     "text": [
      "        order_id         created_date  total_paid            state\n",
      "0         241319  2017-01-02 13:35:40       44.99        Cancelled\n",
      "1         241423  2017-11-06 13:10:02      136.15        Completed\n",
      "2         242832  2017-12-31 17:40:03       15.76        Completed\n",
      "3         243330  2017-02-16 10:59:38       84.98        Completed\n",
      "4         243784  2017-11-24 13:35:19      157.86        Cancelled\n",
      "...          ...                  ...         ...              ...\n",
      "226904    527397  2018-03-14 13:56:38       42.99      Place Order\n",
      "226905    527398  2018-03-14 13:57:25       42.99  Shopping Basket\n",
      "226906    527399  2018-03-14 13:57:34      141.58  Shopping Basket\n",
      "226907    527400  2018-03-14 13:57:41       19.98  Shopping Basket\n",
      "226908    527401  2018-03-14 13:58:36       18.98      Place Order\n",
      "\n",
      "[226909 rows x 4 columns]\n"
     ]
    }
   ],
   "source": [
    "import pandas as pd\n",
    "\n",
    "orders = pd.read_csv(\"orders.csv\")\n",
    "print(orders)"
   ]
  },
  {
   "cell_type": "code",
   "execution_count": 2,
   "id": "eb3921fd-1709-4411-93e8-aef8190f6af6",
   "metadata": {},
   "outputs": [
    {
     "name": "stdout",
     "output_type": "stream",
     "text": [
      "<class 'pandas.core.frame.DataFrame'>\n",
      "RangeIndex: 226909 entries, 0 to 226908\n",
      "Data columns (total 4 columns):\n",
      " #   Column        Non-Null Count   Dtype  \n",
      "---  ------        --------------   -----  \n",
      " 0   order_id      226909 non-null  int64  \n",
      " 1   created_date  226909 non-null  object \n",
      " 2   total_paid    226904 non-null  float64\n",
      " 3   state         226909 non-null  object \n",
      "dtypes: float64(1), int64(1), object(2)\n",
      "memory usage: 6.9+ MB\n"
     ]
    }
   ],
   "source": [
    "orders.info()"
   ]
  },
  {
   "cell_type": "code",
   "execution_count": 3,
   "id": "33259b57-afa7-4335-8045-c4f0bbf8801a",
   "metadata": {},
   "outputs": [
    {
     "data": {
      "text/html": [
       "<div>\n",
       "<style scoped>\n",
       "    .dataframe tbody tr th:only-of-type {\n",
       "        vertical-align: middle;\n",
       "    }\n",
       "\n",
       "    .dataframe tbody tr th {\n",
       "        vertical-align: top;\n",
       "    }\n",
       "\n",
       "    .dataframe thead th {\n",
       "        text-align: right;\n",
       "    }\n",
       "</style>\n",
       "<table border=\"1\" class=\"dataframe\">\n",
       "  <thead>\n",
       "    <tr style=\"text-align: right;\">\n",
       "      <th></th>\n",
       "      <th>order_id</th>\n",
       "      <th>total_paid</th>\n",
       "    </tr>\n",
       "  </thead>\n",
       "  <tbody>\n",
       "    <tr>\n",
       "      <th>count</th>\n",
       "      <td>226909.000000</td>\n",
       "      <td>226904.000000</td>\n",
       "    </tr>\n",
       "    <tr>\n",
       "      <th>mean</th>\n",
       "      <td>413296.482480</td>\n",
       "      <td>569.225818</td>\n",
       "    </tr>\n",
       "    <tr>\n",
       "      <th>std</th>\n",
       "      <td>65919.250331</td>\n",
       "      <td>1761.778002</td>\n",
       "    </tr>\n",
       "    <tr>\n",
       "      <th>min</th>\n",
       "      <td>241319.000000</td>\n",
       "      <td>0.000000</td>\n",
       "    </tr>\n",
       "    <tr>\n",
       "      <th>25%</th>\n",
       "      <td>356263.000000</td>\n",
       "      <td>34.190000</td>\n",
       "    </tr>\n",
       "    <tr>\n",
       "      <th>50%</th>\n",
       "      <td>413040.000000</td>\n",
       "      <td>112.990000</td>\n",
       "    </tr>\n",
       "    <tr>\n",
       "      <th>75%</th>\n",
       "      <td>470553.000000</td>\n",
       "      <td>525.980000</td>\n",
       "    </tr>\n",
       "    <tr>\n",
       "      <th>max</th>\n",
       "      <td>527401.000000</td>\n",
       "      <td>214747.530000</td>\n",
       "    </tr>\n",
       "  </tbody>\n",
       "</table>\n",
       "</div>"
      ],
      "text/plain": [
       "            order_id     total_paid\n",
       "count  226909.000000  226904.000000\n",
       "mean   413296.482480     569.225818\n",
       "std     65919.250331    1761.778002\n",
       "min    241319.000000       0.000000\n",
       "25%    356263.000000      34.190000\n",
       "50%    413040.000000     112.990000\n",
       "75%    470553.000000     525.980000\n",
       "max    527401.000000  214747.530000"
      ]
     },
     "execution_count": 3,
     "metadata": {},
     "output_type": "execute_result"
    }
   ],
   "source": [
    "orders.describe()"
   ]
  },
  {
   "cell_type": "code",
   "execution_count": 4,
   "id": "37d1d159-60e1-4008-9d7a-9044b4b8ebb9",
   "metadata": {},
   "outputs": [
    {
     "data": {
      "text/plain": [
       "(226909, 4)"
      ]
     },
     "execution_count": 4,
     "metadata": {},
     "output_type": "execute_result"
    }
   ],
   "source": [
    "orders.shape"
   ]
  },
  {
   "cell_type": "code",
   "execution_count": 5,
   "id": "643be18c-9acf-4019-bccf-5f5558fea84e",
   "metadata": {},
   "outputs": [
    {
     "data": {
      "text/plain": [
       "order_id        False\n",
       "created_date    False\n",
       "total_paid       True\n",
       "state           False\n",
       "dtype: bool"
      ]
     },
     "execution_count": 5,
     "metadata": {},
     "output_type": "execute_result"
    }
   ],
   "source": [
    "orders.isna().any()"
   ]
  },
  {
   "cell_type": "code",
   "execution_count": 6,
   "id": "4f0d22fc-a83a-482a-bbb6-4f20aa5aa853",
   "metadata": {},
   "outputs": [
    {
     "data": {
      "text/plain": [
       "order_id        0\n",
       "created_date    0\n",
       "total_paid      5\n",
       "state           0\n",
       "dtype: int64"
      ]
     },
     "execution_count": 6,
     "metadata": {},
     "output_type": "execute_result"
    }
   ],
   "source": [
    "orders.isna().sum()"
   ]
  },
  {
   "cell_type": "code",
   "execution_count": 7,
   "id": "411d1e60-8e33-4388-8b9b-06754144359d",
   "metadata": {},
   "outputs": [
    {
     "data": {
      "text/plain": [
       "0"
      ]
     },
     "execution_count": 7,
     "metadata": {},
     "output_type": "execute_result"
    }
   ],
   "source": [
    "orders.duplicated().sum()"
   ]
  },
  {
   "cell_type": "markdown",
   "id": "1023934c-4b1a-4e66-a5d3-2dc95aed9fd1",
   "metadata": {},
   "source": [
    "<h2> <strong> Data set  </strong>  </h2>"
   ]
  },
  {
   "cell_type": "markdown",
   "id": "b287014f-eb2c-45e6-9375-ad2baeecffa4",
   "metadata": {},
   "source": [
    "<p> Analyzing the data seems like there only one column to be fix: created_date and convert it into a datetime. </p>"
   ]
  },
  {
   "cell_type": "code",
   "execution_count": 8,
   "id": "22b3828e-f628-49dd-9879-76e8b3741b41",
   "metadata": {},
   "outputs": [
    {
     "name": "stdout",
     "output_type": "stream",
     "text": [
      "        order_id         created_date  total_paid            state\n",
      "0         241319  2017-01-02 13:35:40       44.99        Cancelled\n",
      "1         241423  2017-11-06 13:10:02      136.15        Completed\n",
      "2         242832  2017-12-31 17:40:03       15.76        Completed\n",
      "3         243330  2017-02-16 10:59:38       84.98        Completed\n",
      "4         243784  2017-11-24 13:35:19      157.86        Cancelled\n",
      "...          ...                  ...         ...              ...\n",
      "226904    527397  2018-03-14 13:56:38       42.99      Place Order\n",
      "226905    527398  2018-03-14 13:57:25       42.99  Shopping Basket\n",
      "226906    527399  2018-03-14 13:57:34      141.58  Shopping Basket\n",
      "226907    527400  2018-03-14 13:57:41       19.98  Shopping Basket\n",
      "226908    527401  2018-03-14 13:58:36       18.98      Place Order\n",
      "\n",
      "[226909 rows x 4 columns]\n"
     ]
    }
   ],
   "source": [
    "o = orders\n",
    "print(o)"
   ]
  },
  {
   "cell_type": "code",
   "execution_count": 9,
   "id": "f1875d1f-850a-4bf6-b5a4-b41b627d1cbd",
   "metadata": {},
   "outputs": [],
   "source": [
    "o['created_date'] = pd.to_datetime(o['created_date'])"
   ]
  },
  {
   "cell_type": "code",
   "execution_count": 13,
   "id": "b59ca93c-8ea0-4a1f-a47e-7ecf9534ee37",
   "metadata": {},
   "outputs": [
    {
     "name": "stdout",
     "output_type": "stream",
     "text": [
      "<class 'pandas.core.frame.DataFrame'>\n",
      "RangeIndex: 226909 entries, 0 to 226908\n",
      "Data columns (total 4 columns):\n",
      " #   Column        Non-Null Count   Dtype         \n",
      "---  ------        --------------   -----         \n",
      " 0   order_id      226909 non-null  int64         \n",
      " 1   created_date  226909 non-null  datetime64[ns]\n",
      " 2   total_paid    226904 non-null  float64       \n",
      " 3   state         226909 non-null  object        \n",
      "dtypes: datetime64[ns](1), float64(1), int64(1), object(1)\n",
      "memory usage: 6.9+ MB\n"
     ]
    }
   ],
   "source": [
    "o.info()"
   ]
  },
  {
   "cell_type": "markdown",
   "id": "806301f4-739b-4501-905a-2afc8dd2b10c",
   "metadata": {},
   "source": [
    "<h2> <strong> Missing values  </strong>  </h2>"
   ]
  },
  {
   "cell_type": "code",
   "execution_count": 44,
   "id": "6732af25-8cb4-4857-8b71-8918f2df1ac0",
   "metadata": {},
   "outputs": [
    {
     "data": {
      "text/plain": [
       "order_id        0\n",
       "created_date    0\n",
       "total_paid      5\n",
       "state           0\n",
       "dtype: int64"
      ]
     },
     "execution_count": 44,
     "metadata": {},
     "output_type": "execute_result"
    }
   ],
   "source": [
    "o.isna().sum()"
   ]
  },
  {
   "cell_type": "code",
   "execution_count": 45,
   "id": "406b07a3-4b7c-4e78-88ac-8ea98869ee89",
   "metadata": {},
   "outputs": [
    {
     "data": {
      "text/html": [
       "<div>\n",
       "<style scoped>\n",
       "    .dataframe tbody tr th:only-of-type {\n",
       "        vertical-align: middle;\n",
       "    }\n",
       "\n",
       "    .dataframe tbody tr th {\n",
       "        vertical-align: top;\n",
       "    }\n",
       "\n",
       "    .dataframe thead th {\n",
       "        text-align: right;\n",
       "    }\n",
       "</style>\n",
       "<table border=\"1\" class=\"dataframe\">\n",
       "  <thead>\n",
       "    <tr style=\"text-align: right;\">\n",
       "      <th></th>\n",
       "      <th>order_id</th>\n",
       "      <th>created_date</th>\n",
       "      <th>total_paid</th>\n",
       "      <th>state</th>\n",
       "    </tr>\n",
       "  </thead>\n",
       "  <tbody>\n",
       "    <tr>\n",
       "      <th>127701</th>\n",
       "      <td>427314</td>\n",
       "      <td>2017-11-20 18:54:39</td>\n",
       "      <td>NaN</td>\n",
       "      <td>Pending</td>\n",
       "    </tr>\n",
       "    <tr>\n",
       "      <th>132013</th>\n",
       "      <td>431655</td>\n",
       "      <td>2017-11-22 12:15:24</td>\n",
       "      <td>NaN</td>\n",
       "      <td>Pending</td>\n",
       "    </tr>\n",
       "    <tr>\n",
       "      <th>147316</th>\n",
       "      <td>447411</td>\n",
       "      <td>2017-11-27 10:32:37</td>\n",
       "      <td>NaN</td>\n",
       "      <td>Pending</td>\n",
       "    </tr>\n",
       "    <tr>\n",
       "      <th>148833</th>\n",
       "      <td>448966</td>\n",
       "      <td>2017-11-27 18:54:15</td>\n",
       "      <td>NaN</td>\n",
       "      <td>Pending</td>\n",
       "    </tr>\n",
       "    <tr>\n",
       "      <th>149434</th>\n",
       "      <td>449596</td>\n",
       "      <td>2017-11-27 21:52:08</td>\n",
       "      <td>NaN</td>\n",
       "      <td>Pending</td>\n",
       "    </tr>\n",
       "  </tbody>\n",
       "</table>\n",
       "</div>"
      ],
      "text/plain": [
       "        order_id         created_date  total_paid    state\n",
       "127701    427314  2017-11-20 18:54:39         NaN  Pending\n",
       "132013    431655  2017-11-22 12:15:24         NaN  Pending\n",
       "147316    447411  2017-11-27 10:32:37         NaN  Pending\n",
       "148833    448966  2017-11-27 18:54:15         NaN  Pending\n",
       "149434    449596  2017-11-27 21:52:08         NaN  Pending"
      ]
     },
     "execution_count": 45,
     "metadata": {},
     "output_type": "execute_result"
    }
   ],
   "source": [
    "o[o.total_paid.isna()]"
   ]
  },
  {
   "cell_type": "code",
   "execution_count": 46,
   "id": "4d687455-bc05-4776-8a34-a306b9967d87",
   "metadata": {},
   "outputs": [
    {
     "data": {
      "text/plain": [
       "(226909, 4)"
      ]
     },
     "execution_count": 46,
     "metadata": {},
     "output_type": "execute_result"
    }
   ],
   "source": [
    "o.shape"
   ]
  },
  {
   "cell_type": "code",
   "execution_count": 49,
   "id": "67bc2f9f-c317-4b3f-8ee0-fdcc8e4a873f",
   "metadata": {},
   "outputs": [
    {
     "data": {
      "text/plain": [
       "0          44.99\n",
       "1         136.15\n",
       "2          15.76\n",
       "3          84.98\n",
       "4         157.86\n",
       "           ...  \n",
       "226904     42.99\n",
       "226905     42.99\n",
       "226906    141.58\n",
       "226907     19.98\n",
       "226908     18.98\n",
       "Name: total_paid, Length: 226904, dtype: float64"
      ]
     },
     "execution_count": 49,
     "metadata": {},
     "output_type": "execute_result"
    }
   ],
   "source": [
    "o.total_paid.dropna(axis=0)"
   ]
  },
  {
   "cell_type": "code",
   "execution_count": 53,
   "id": "543cb8f3-e504-47cb-afe9-824d8abdb2b0",
   "metadata": {},
   "outputs": [],
   "source": [
    "o = o.dropna()\n"
   ]
  },
  {
   "cell_type": "code",
   "execution_count": 54,
   "id": "f23373e2-50c6-4078-a6eb-4b624bbc8368",
   "metadata": {},
   "outputs": [
    {
     "data": {
      "text/plain": [
       "(226904, 4)"
      ]
     },
     "execution_count": 54,
     "metadata": {},
     "output_type": "execute_result"
    }
   ],
   "source": [
    "o.shape"
   ]
  },
  {
   "cell_type": "markdown",
   "id": "ff79fe72-d64b-46ae-80a9-5fc66d03200e",
   "metadata": {},
   "source": [
    "<h> <strong>Since we don't have duplicates we can save it as a new csv<strong></h>"
   ]
  },
  {
   "cell_type": "code",
   "execution_count": 56,
   "id": "e3880379-1c05-4f8d-aee0-027ffeed616f",
   "metadata": {},
   "outputs": [],
   "source": [
    "o.to_csv('orders_cl.csv', index=False)"
   ]
  }
 ],
 "metadata": {
  "kernelspec": {
   "display_name": "Python 3",
   "language": "python",
   "name": "python3"
  },
  "language_info": {
   "codemirror_mode": {
    "name": "ipython",
    "version": 3
   },
   "file_extension": ".py",
   "mimetype": "text/x-python",
   "name": "python",
   "nbconvert_exporter": "python",
   "pygments_lexer": "ipython3",
   "version": "3.8.8"
  }
 },
 "nbformat": 4,
 "nbformat_minor": 5
}
