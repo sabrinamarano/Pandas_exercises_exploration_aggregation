{
 "cells": [
  {
   "cell_type": "markdown",
   "id": "995eb22b-c8da-4edc-8da8-09c73f03114f",
   "metadata": {
    "tags": []
   },
   "source": [
    "<h1> <strong> EXPLORATION DATABASE ENIAC </strong> <h1>"
   ]
  },
  {
   "cell_type": "markdown",
   "id": "5ded8073-6d2e-458c-9c8c-f9752272546c",
   "metadata": {},
   "source": [
    "<h> <strong> ORDERS DATAFRAME <strong>  </h> "
   ]
  },
  {
   "cell_type": "code",
   "execution_count": null,
   "id": "cf164501-42b7-4932-8a76-a2c0098eb588",
   "metadata": {},
   "outputs": [],
   "source": [
    "import pandas as pd"
   ]
  },
  {
   "cell_type": "code",
   "execution_count": 2,
   "id": "66d32344-3cfc-43f2-948f-2a746d466360",
   "metadata": {},
   "outputs": [
    {
     "name": "stdout",
     "output_type": "stream",
     "text": [
      "        order_id         created_date  total_paid            state\n",
      "0         241319  2017-01-02 13:35:40       44.99        Cancelled\n",
      "1         241423  2017-11-06 13:10:02      136.15        Completed\n",
      "2         242832  2017-12-31 17:40:03       15.76        Completed\n",
      "3         243330  2017-02-16 10:59:38       84.98        Completed\n",
      "4         243784  2017-11-24 13:35:19      157.86        Cancelled\n",
      "...          ...                  ...         ...              ...\n",
      "226904    527397  2018-03-14 13:56:38       42.99      Place Order\n",
      "226905    527398  2018-03-14 13:57:25       42.99  Shopping Basket\n",
      "226906    527399  2018-03-14 13:57:34      141.58  Shopping Basket\n",
      "226907    527400  2018-03-14 13:57:41       19.98  Shopping Basket\n",
      "226908    527401  2018-03-14 13:58:36       18.98      Place Order\n",
      "\n",
      "[226909 rows x 4 columns]\n"
     ]
    }
   ],
   "source": [
    "orders = pd.read_csv(\"orders.csv\")\n",
    "print(orders)"
   ]
  },
  {
   "cell_type": "markdown",
   "id": "3f59d912-3ff8-4116-942b-89dfd06b2ecd",
   "metadata": {},
   "source": [
    "<p> <strong> 1. Initial exploration about orders df </strong>  </p>"
   ]
  },
  {
   "cell_type": "code",
   "execution_count": 12,
   "id": "5a4ac516-3cb9-47f6-b837-1ad510066baa",
   "metadata": {},
   "outputs": [
    {
     "name": "stdout",
     "output_type": "stream",
     "text": [
      "<class 'pandas.core.frame.DataFrame'>\n",
      "RangeIndex: 226909 entries, 0 to 226908\n",
      "Data columns (total 4 columns):\n",
      " #   Column        Non-Null Count   Dtype  \n",
      "---  ------        --------------   -----  \n",
      " 0   order_id      226909 non-null  int64  \n",
      " 1   created_date  226909 non-null  object \n",
      " 2   total_paid    226904 non-null  float64\n",
      " 3   state         226909 non-null  object \n",
      "dtypes: float64(1), int64(1), object(2)\n",
      "memory usage: 6.9+ MB\n"
     ]
    }
   ],
   "source": [
    "orders.info()"
   ]
  },
  {
   "cell_type": "markdown",
   "id": "e636d7e0-4889-4b98-a27f-004e4a778cfd",
   "metadata": {},
   "source": [
    "<p> <strong> Comments: </strong> <br>\n",
    " created_date columns in an object(string) and not datetime format   </p>"
   ]
  },
  {
   "cell_type": "markdown",
   "id": "9eb45265-6b6c-4332-ae7d-f75abd90b98f",
   "metadata": {},
   "source": [
    "<p> <strong> 2. Visualize first 5 and last five rows on orders df </strong>  </p>"
   ]
  },
  {
   "cell_type": "code",
   "execution_count": 4,
   "id": "784b3cbf-b4e9-4d39-9589-50acd4473975",
   "metadata": {},
   "outputs": [
    {
     "data": {
      "text/html": [
       "<div>\n",
       "<style scoped>\n",
       "    .dataframe tbody tr th:only-of-type {\n",
       "        vertical-align: middle;\n",
       "    }\n",
       "\n",
       "    .dataframe tbody tr th {\n",
       "        vertical-align: top;\n",
       "    }\n",
       "\n",
       "    .dataframe thead th {\n",
       "        text-align: right;\n",
       "    }\n",
       "</style>\n",
       "<table border=\"1\" class=\"dataframe\">\n",
       "  <thead>\n",
       "    <tr style=\"text-align: right;\">\n",
       "      <th></th>\n",
       "      <th>order_id</th>\n",
       "      <th>created_date</th>\n",
       "      <th>total_paid</th>\n",
       "      <th>state</th>\n",
       "    </tr>\n",
       "  </thead>\n",
       "  <tbody>\n",
       "    <tr>\n",
       "      <th>0</th>\n",
       "      <td>241319</td>\n",
       "      <td>2017-01-02 13:35:40</td>\n",
       "      <td>44.99</td>\n",
       "      <td>Cancelled</td>\n",
       "    </tr>\n",
       "    <tr>\n",
       "      <th>1</th>\n",
       "      <td>241423</td>\n",
       "      <td>2017-11-06 13:10:02</td>\n",
       "      <td>136.15</td>\n",
       "      <td>Completed</td>\n",
       "    </tr>\n",
       "    <tr>\n",
       "      <th>2</th>\n",
       "      <td>242832</td>\n",
       "      <td>2017-12-31 17:40:03</td>\n",
       "      <td>15.76</td>\n",
       "      <td>Completed</td>\n",
       "    </tr>\n",
       "    <tr>\n",
       "      <th>3</th>\n",
       "      <td>243330</td>\n",
       "      <td>2017-02-16 10:59:38</td>\n",
       "      <td>84.98</td>\n",
       "      <td>Completed</td>\n",
       "    </tr>\n",
       "    <tr>\n",
       "      <th>4</th>\n",
       "      <td>243784</td>\n",
       "      <td>2017-11-24 13:35:19</td>\n",
       "      <td>157.86</td>\n",
       "      <td>Cancelled</td>\n",
       "    </tr>\n",
       "  </tbody>\n",
       "</table>\n",
       "</div>"
      ],
      "text/plain": [
       "   order_id         created_date  total_paid      state\n",
       "0    241319  2017-01-02 13:35:40       44.99  Cancelled\n",
       "1    241423  2017-11-06 13:10:02      136.15  Completed\n",
       "2    242832  2017-12-31 17:40:03       15.76  Completed\n",
       "3    243330  2017-02-16 10:59:38       84.98  Completed\n",
       "4    243784  2017-11-24 13:35:19      157.86  Cancelled"
      ]
     },
     "execution_count": 4,
     "metadata": {},
     "output_type": "execute_result"
    }
   ],
   "source": [
    "orders.head()"
   ]
  },
  {
   "cell_type": "code",
   "execution_count": 5,
   "id": "a049a837-bbb7-4c56-ae9d-63e1ce21d82c",
   "metadata": {},
   "outputs": [
    {
     "data": {
      "text/html": [
       "<div>\n",
       "<style scoped>\n",
       "    .dataframe tbody tr th:only-of-type {\n",
       "        vertical-align: middle;\n",
       "    }\n",
       "\n",
       "    .dataframe tbody tr th {\n",
       "        vertical-align: top;\n",
       "    }\n",
       "\n",
       "    .dataframe thead th {\n",
       "        text-align: right;\n",
       "    }\n",
       "</style>\n",
       "<table border=\"1\" class=\"dataframe\">\n",
       "  <thead>\n",
       "    <tr style=\"text-align: right;\">\n",
       "      <th></th>\n",
       "      <th>order_id</th>\n",
       "      <th>created_date</th>\n",
       "      <th>total_paid</th>\n",
       "      <th>state</th>\n",
       "    </tr>\n",
       "  </thead>\n",
       "  <tbody>\n",
       "    <tr>\n",
       "      <th>226904</th>\n",
       "      <td>527397</td>\n",
       "      <td>2018-03-14 13:56:38</td>\n",
       "      <td>42.99</td>\n",
       "      <td>Place Order</td>\n",
       "    </tr>\n",
       "    <tr>\n",
       "      <th>226905</th>\n",
       "      <td>527398</td>\n",
       "      <td>2018-03-14 13:57:25</td>\n",
       "      <td>42.99</td>\n",
       "      <td>Shopping Basket</td>\n",
       "    </tr>\n",
       "    <tr>\n",
       "      <th>226906</th>\n",
       "      <td>527399</td>\n",
       "      <td>2018-03-14 13:57:34</td>\n",
       "      <td>141.58</td>\n",
       "      <td>Shopping Basket</td>\n",
       "    </tr>\n",
       "    <tr>\n",
       "      <th>226907</th>\n",
       "      <td>527400</td>\n",
       "      <td>2018-03-14 13:57:41</td>\n",
       "      <td>19.98</td>\n",
       "      <td>Shopping Basket</td>\n",
       "    </tr>\n",
       "    <tr>\n",
       "      <th>226908</th>\n",
       "      <td>527401</td>\n",
       "      <td>2018-03-14 13:58:36</td>\n",
       "      <td>18.98</td>\n",
       "      <td>Place Order</td>\n",
       "    </tr>\n",
       "  </tbody>\n",
       "</table>\n",
       "</div>"
      ],
      "text/plain": [
       "        order_id         created_date  total_paid            state\n",
       "226904    527397  2018-03-14 13:56:38       42.99      Place Order\n",
       "226905    527398  2018-03-14 13:57:25       42.99  Shopping Basket\n",
       "226906    527399  2018-03-14 13:57:34      141.58  Shopping Basket\n",
       "226907    527400  2018-03-14 13:57:41       19.98  Shopping Basket\n",
       "226908    527401  2018-03-14 13:58:36       18.98      Place Order"
      ]
     },
     "execution_count": 5,
     "metadata": {},
     "output_type": "execute_result"
    }
   ],
   "source": [
    "orders.tail()"
   ]
  },
  {
   "cell_type": "code",
   "execution_count": 98,
   "id": "58019046-e3fe-4728-aa23-9607e01c7661",
   "metadata": {},
   "outputs": [
    {
     "data": {
      "text/plain": [
       "0"
      ]
     },
     "execution_count": 98,
     "metadata": {},
     "output_type": "execute_result"
    }
   ],
   "source": [
    "orders.duplicated().sum()"
   ]
  },
  {
   "cell_type": "markdown",
   "id": "4373b8a5-75e5-4016-a285-77356ef039b3",
   "metadata": {},
   "source": [
    "<p> <strong> 3.Some basic numerical aggregations </strong>  </p>"
   ]
  },
  {
   "cell_type": "code",
   "execution_count": 6,
   "id": "e53d2a55-2b99-414b-9d36-3c7b77f44ec4",
   "metadata": {},
   "outputs": [
    {
     "data": {
      "text/html": [
       "<div>\n",
       "<style scoped>\n",
       "    .dataframe tbody tr th:only-of-type {\n",
       "        vertical-align: middle;\n",
       "    }\n",
       "\n",
       "    .dataframe tbody tr th {\n",
       "        vertical-align: top;\n",
       "    }\n",
       "\n",
       "    .dataframe thead th {\n",
       "        text-align: right;\n",
       "    }\n",
       "</style>\n",
       "<table border=\"1\" class=\"dataframe\">\n",
       "  <thead>\n",
       "    <tr style=\"text-align: right;\">\n",
       "      <th></th>\n",
       "      <th>order_id</th>\n",
       "      <th>total_paid</th>\n",
       "    </tr>\n",
       "  </thead>\n",
       "  <tbody>\n",
       "    <tr>\n",
       "      <th>count</th>\n",
       "      <td>226909.000000</td>\n",
       "      <td>226904.000000</td>\n",
       "    </tr>\n",
       "    <tr>\n",
       "      <th>mean</th>\n",
       "      <td>413296.482480</td>\n",
       "      <td>569.225818</td>\n",
       "    </tr>\n",
       "    <tr>\n",
       "      <th>std</th>\n",
       "      <td>65919.250331</td>\n",
       "      <td>1761.778002</td>\n",
       "    </tr>\n",
       "    <tr>\n",
       "      <th>min</th>\n",
       "      <td>241319.000000</td>\n",
       "      <td>0.000000</td>\n",
       "    </tr>\n",
       "    <tr>\n",
       "      <th>25%</th>\n",
       "      <td>356263.000000</td>\n",
       "      <td>34.190000</td>\n",
       "    </tr>\n",
       "    <tr>\n",
       "      <th>50%</th>\n",
       "      <td>413040.000000</td>\n",
       "      <td>112.990000</td>\n",
       "    </tr>\n",
       "    <tr>\n",
       "      <th>75%</th>\n",
       "      <td>470553.000000</td>\n",
       "      <td>525.980000</td>\n",
       "    </tr>\n",
       "    <tr>\n",
       "      <th>max</th>\n",
       "      <td>527401.000000</td>\n",
       "      <td>214747.530000</td>\n",
       "    </tr>\n",
       "  </tbody>\n",
       "</table>\n",
       "</div>"
      ],
      "text/plain": [
       "            order_id     total_paid\n",
       "count  226909.000000  226904.000000\n",
       "mean   413296.482480     569.225818\n",
       "std     65919.250331    1761.778002\n",
       "min    241319.000000       0.000000\n",
       "25%    356263.000000      34.190000\n",
       "50%    413040.000000     112.990000\n",
       "75%    470553.000000     525.980000\n",
       "max    527401.000000  214747.530000"
      ]
     },
     "execution_count": 6,
     "metadata": {},
     "output_type": "execute_result"
    }
   ],
   "source": [
    "orders.describe()"
   ]
  },
  {
   "cell_type": "markdown",
   "id": "f65f4aac-2492-4d39-8908-296419018d43",
   "metadata": {},
   "source": [
    "<p> <strong> 4.Highlight which columns contain missing data  </strong>  </p>"
   ]
  },
  {
   "cell_type": "code",
   "execution_count": 7,
   "id": "cdc66a43-2bc7-4249-8321-0cd08613ed19",
   "metadata": {},
   "outputs": [
    {
     "data": {
      "text/plain": [
       "order_id        False\n",
       "created_date    False\n",
       "total_paid       True\n",
       "state           False\n",
       "dtype: bool"
      ]
     },
     "execution_count": 7,
     "metadata": {},
     "output_type": "execute_result"
    }
   ],
   "source": [
    "orders.isna().any()"
   ]
  },
  {
   "cell_type": "code",
   "execution_count": 10,
   "id": "58ea50ae-36d9-44cf-8566-077a35329e3a",
   "metadata": {},
   "outputs": [
    {
     "data": {
      "text/plain": [
       "(226909, 4)"
      ]
     },
     "execution_count": 10,
     "metadata": {},
     "output_type": "execute_result"
    }
   ],
   "source": [
    "orders.shape"
   ]
  },
  {
   "cell_type": "code",
   "execution_count": 11,
   "id": "b13c52a9-c768-48dc-ac69-674e27d9f094",
   "metadata": {},
   "outputs": [
    {
     "data": {
      "text/plain": [
       "Index(['order_id', 'created_date', 'total_paid', 'state'], dtype='object')"
      ]
     },
     "execution_count": 11,
     "metadata": {},
     "output_type": "execute_result"
    }
   ],
   "source": [
    "orders.columns"
   ]
  },
  {
   "cell_type": "markdown",
   "id": "5dd92931-7a3a-489b-84c5-503d83d6d356",
   "metadata": {},
   "source": [
    "<p> <strong> Comment: </strong> <br> Since we have detected a column with missing values, let's see ho many of them are missing  </p>"
   ]
  },
  {
   "cell_type": "code",
   "execution_count": 15,
   "id": "18dbf873-b310-4288-985a-98bad89a25ba",
   "metadata": {},
   "outputs": [
    {
     "data": {
      "text/plain": [
       "5"
      ]
     },
     "execution_count": 15,
     "metadata": {},
     "output_type": "execute_result"
    }
   ],
   "source": [
    "orders.total_paid.isna().sum()"
   ]
  },
  {
   "cell_type": "markdown",
   "id": "219012eb-0e81-4698-8275-9d4866b4dc3b",
   "metadata": {},
   "source": [
    "<p> <strong> 5.Summarise columns.  </strong>  </p>"
   ]
  },
  {
   "cell_type": "code",
   "execution_count": 18,
   "id": "e5c2c25c-9245-429a-b8b9-93d17b33d485",
   "metadata": {},
   "outputs": [
    {
     "data": {
      "text/plain": [
       "order_id  created_date         total_paid  state          \n",
       "241319    2017-01-02 13:35:40  44.99       Cancelled          1\n",
       "451480    2017-11-29 07:56:18  2466.56     Shopping Basket    1\n",
       "451469    2017-12-01 19:56:34  24.98       Completed          1\n",
       "451470    2017-11-29 07:53:58  145.98      Pending            1\n",
       "451471    2017-11-29 07:48:15  3202.57     Shopping Basket    1\n",
       "                                                             ..\n",
       "375183    2017-07-10 09:30:12  394.99      Place Order        1\n",
       "375184    2017-07-10 09:32:05  29.53       Shopping Basket    1\n",
       "375185    2017-07-10 09:34:55  94.99       Shopping Basket    1\n",
       "375186    2017-07-10 09:40:47  14.99       Shopping Basket    1\n",
       "527401    2018-03-14 13:58:36  18.98       Place Order        1\n",
       "Length: 226904, dtype: int64"
      ]
     },
     "execution_count": 18,
     "metadata": {},
     "output_type": "execute_result"
    }
   ],
   "source": [
    "orders.value_counts()"
   ]
  },
  {
   "cell_type": "markdown",
   "id": "6594b987-8536-4f4f-a04c-bcd7e6e565fa",
   "metadata": {},
   "source": [
    "<p> <strong> 6.Visualize numerical  columns.  </strong>  </p>"
   ]
  },
  {
   "cell_type": "code",
   "execution_count": 19,
   "id": "4d9d6b4e-7b5a-4b42-addf-94a43f9de87f",
   "metadata": {},
   "outputs": [
    {
     "data": {
      "text/plain": [
       "array([[<AxesSubplot:title={'center':'order_id'}>,\n",
       "        <AxesSubplot:title={'center':'total_paid'}>]], dtype=object)"
      ]
     },
     "execution_count": 19,
     "metadata": {},
     "output_type": "execute_result"
    },
    {
     "data": {
      "image/png": "[encoded data removed]",
      "text/plain": [
       "<Figure size 432x288 with 2 Axes>"
      ]
     },
     "metadata": {
      "needs_background": "light"
     },
     "output_type": "display_data"
    }
   ],
   "source": [
    "orders.hist()"
   ]
  },
  {
   "cell_type": "markdown",
   "id": "7aa23fa0-fabe-48ba-8670-b4615ddc37e1",
   "metadata": {},
   "source": [
    "<p> <strong> 7.Some insights.  </strong>  </p>"
   ]
  },
  {
   "cell_type": "code",
   "execution_count": 101,
   "id": "6155cce2-f216-40eb-ba95-f3d150dd9f62",
   "metadata": {},
   "outputs": [
    {
     "data": {
      "text/plain": [
       "state\n",
       "Cancelled            7233\n",
       "Completed           46605\n",
       "Pending             14379\n",
       "Place Order         40883\n",
       "Shopping Basket    117809\n",
       "Name: order_id, dtype: int64"
      ]
     },
     "execution_count": 101,
     "metadata": {},
     "output_type": "execute_result"
    }
   ],
   "source": [
    "orders.groupby('state').order_id.count()"
   ]
  },
  {
   "cell_type": "markdown",
   "id": "8680dc69-9bdd-434f-b961-a6e32cfbef91",
   "metadata": {},
   "source": [
    "<h> <strong> ORDERLINES DATAFRAME <strong>  </h> "
   ]
  },
  {
   "cell_type": "code",
   "execution_count": 38,
   "id": "3acb7248-3a61-401c-ab28-ede68817f080",
   "metadata": {},
   "outputs": [
    {
     "name": "stdout",
     "output_type": "stream",
     "text": [
      "             id  id_order  product_id  product_quantity      sku unit_price  \\\n",
      "0       1119109    299539           0                 1  OTT0133      18.99   \n",
      "1       1119110    299540           0                 1  LGE0043     399.00   \n",
      "2       1119111    299541           0                 1  PAR0071     474.05   \n",
      "3       1119112    299542           0                 1  WDT0315      68.39   \n",
      "4       1119113    299543           0                 1  JBL0104      23.74   \n",
      "...         ...       ...         ...               ...      ...        ...   \n",
      "293978  1650199    527398           0                 1  JBL0122      42.99   \n",
      "293979  1650200    527399           0                 1  PAC0653     141.58   \n",
      "293980  1650201    527400           0                 2  APP0698       9.99   \n",
      "293981  1650202    527388           0                 1  BEZ0204      19.99   \n",
      "293982  1650203    527401           0                 1  APP0927      13.99   \n",
      "\n",
      "                       date  \n",
      "0       2017-01-01 00:07:19  \n",
      "1       2017-01-01 00:19:45  \n",
      "2       2017-01-01 00:20:57  \n",
      "3       2017-01-01 00:51:40  \n",
      "4       2017-01-01 01:06:38  \n",
      "...                     ...  \n",
      "293978  2018-03-14 13:57:25  \n",
      "293979  2018-03-14 13:57:34  \n",
      "293980  2018-03-14 13:57:41  \n",
      "293981  2018-03-14 13:58:01  \n",
      "293982  2018-03-14 13:58:36  \n",
      "\n",
      "[293983 rows x 7 columns]\n"
     ]
    }
   ],
   "source": [
    "import pandas as pd\n",
    "\n",
    "orderlines = pd.read_csv(\"orderlines.csv\")\n",
    "print(orderlines)"
   ]
  },
  {
   "cell_type": "markdown",
   "id": "eba643e4-357e-4ff9-b1f4-658385fb8c77",
   "metadata": {},
   "source": [
    "<p> <strong> 1. Initial exploration  </strong>  </p>"
   ]
  },
  {
   "cell_type": "code",
   "execution_count": 39,
   "id": "d916a25c-c991-4da5-af07-a264f323e8ea",
   "metadata": {},
   "outputs": [
    {
     "name": "stdout",
     "output_type": "stream",
     "text": [
      "<class 'pandas.core.frame.DataFrame'>\n",
      "RangeIndex: 293983 entries, 0 to 293982\n",
      "Data columns (total 7 columns):\n",
      " #   Column            Non-Null Count   Dtype \n",
      "---  ------            --------------   ----- \n",
      " 0   id                293983 non-null  int64 \n",
      " 1   id_order          293983 non-null  int64 \n",
      " 2   product_id        293983 non-null  int64 \n",
      " 3   product_quantity  293983 non-null  int64 \n",
      " 4   sku               293983 non-null  object\n",
      " 5   unit_price        293983 non-null  object\n",
      " 6   date              293983 non-null  object\n",
      "dtypes: int64(4), object(3)\n",
      "memory usage: 15.7+ MB\n"
     ]
    }
   ],
   "source": [
    "orderlines.info()"
   ]
  },
  {
   "cell_type": "markdown",
   "id": "840fc3f3-f343-4a7a-8d2e-9be0fec492c5",
   "metadata": {},
   "source": [
    "<p> <strong> Comments: </strong> <br>\n",
    " date and unit_price columns in an object(string) and not datetime format   </p>"
   ]
  },
  {
   "cell_type": "markdown",
   "id": "94db389d-4afc-4c3e-b750-4da996314beb",
   "metadata": {},
   "source": [
    "<p> <strong> 2. Visualize first five and last five rows </strong>  </p>"
   ]
  },
  {
   "cell_type": "code",
   "execution_count": 40,
   "id": "5d0a4dbd-ca55-4b6f-8485-e274610855c5",
   "metadata": {},
   "outputs": [
    {
     "data": {
      "text/html": [
       "<div>\n",
       "<style scoped>\n",
       "    .dataframe tbody tr th:only-of-type {\n",
       "        vertical-align: middle;\n",
       "    }\n",
       "\n",
       "    .dataframe tbody tr th {\n",
       "        vertical-align: top;\n",
       "    }\n",
       "\n",
       "    .dataframe thead th {\n",
       "        text-align: right;\n",
       "    }\n",
       "</style>\n",
       "<table border=\"1\" class=\"dataframe\">\n",
       "  <thead>\n",
       "    <tr style=\"text-align: right;\">\n",
       "      <th></th>\n",
       "      <th>id</th>\n",
       "      <th>id_order</th>\n",
       "      <th>product_id</th>\n",
       "      <th>product_quantity</th>\n",
       "      <th>sku</th>\n",
       "      <th>unit_price</th>\n",
       "      <th>date</th>\n",
       "    </tr>\n",
       "  </thead>\n",
       "  <tbody>\n",
       "    <tr>\n",
       "      <th>0</th>\n",
       "      <td>1119109</td>\n",
       "      <td>299539</td>\n",
       "      <td>0</td>\n",
       "      <td>1</td>\n",
       "      <td>OTT0133</td>\n",
       "      <td>18.99</td>\n",
       "      <td>2017-01-01 00:07:19</td>\n",
       "    </tr>\n",
       "    <tr>\n",
       "      <th>1</th>\n",
       "      <td>1119110</td>\n",
       "      <td>299540</td>\n",
       "      <td>0</td>\n",
       "      <td>1</td>\n",
       "      <td>LGE0043</td>\n",
       "      <td>399.00</td>\n",
       "      <td>2017-01-01 00:19:45</td>\n",
       "    </tr>\n",
       "    <tr>\n",
       "      <th>2</th>\n",
       "      <td>1119111</td>\n",
       "      <td>299541</td>\n",
       "      <td>0</td>\n",
       "      <td>1</td>\n",
       "      <td>PAR0071</td>\n",
       "      <td>474.05</td>\n",
       "      <td>2017-01-01 00:20:57</td>\n",
       "    </tr>\n",
       "    <tr>\n",
       "      <th>3</th>\n",
       "      <td>1119112</td>\n",
       "      <td>299542</td>\n",
       "      <td>0</td>\n",
       "      <td>1</td>\n",
       "      <td>WDT0315</td>\n",
       "      <td>68.39</td>\n",
       "      <td>2017-01-01 00:51:40</td>\n",
       "    </tr>\n",
       "    <tr>\n",
       "      <th>4</th>\n",
       "      <td>1119113</td>\n",
       "      <td>299543</td>\n",
       "      <td>0</td>\n",
       "      <td>1</td>\n",
       "      <td>JBL0104</td>\n",
       "      <td>23.74</td>\n",
       "      <td>2017-01-01 01:06:38</td>\n",
       "    </tr>\n",
       "  </tbody>\n",
       "</table>\n",
       "</div>"
      ],
      "text/plain": [
       "        id  id_order  product_id  product_quantity      sku unit_price  \\\n",
       "0  1119109    299539           0                 1  OTT0133      18.99   \n",
       "1  1119110    299540           0                 1  LGE0043     399.00   \n",
       "2  1119111    299541           0                 1  PAR0071     474.05   \n",
       "3  1119112    299542           0                 1  WDT0315      68.39   \n",
       "4  1119113    299543           0                 1  JBL0104      23.74   \n",
       "\n",
       "                  date  \n",
       "0  2017-01-01 00:07:19  \n",
       "1  2017-01-01 00:19:45  \n",
       "2  2017-01-01 00:20:57  \n",
       "3  2017-01-01 00:51:40  \n",
       "4  2017-01-01 01:06:38  "
      ]
     },
     "execution_count": 40,
     "metadata": {},
     "output_type": "execute_result"
    }
   ],
   "source": [
    "orderlines.head()"
   ]
  },
  {
   "cell_type": "code",
   "execution_count": 41,
   "id": "d53fae48-519a-4ecc-9704-f6697b066070",
   "metadata": {},
   "outputs": [
    {
     "data": {
      "text/html": [
       "<div>\n",
       "<style scoped>\n",
       "    .dataframe tbody tr th:only-of-type {\n",
       "        vertical-align: middle;\n",
       "    }\n",
       "\n",
       "    .dataframe tbody tr th {\n",
       "        vertical-align: top;\n",
       "    }\n",
       "\n",
       "    .dataframe thead th {\n",
       "        text-align: right;\n",
       "    }\n",
       "</style>\n",
       "<table border=\"1\" class=\"dataframe\">\n",
       "  <thead>\n",
       "    <tr style=\"text-align: right;\">\n",
       "      <th></th>\n",
       "      <th>id</th>\n",
       "      <th>id_order</th>\n",
       "      <th>product_id</th>\n",
       "      <th>product_quantity</th>\n",
       "      <th>sku</th>\n",
       "      <th>unit_price</th>\n",
       "      <th>date</th>\n",
       "    </tr>\n",
       "  </thead>\n",
       "  <tbody>\n",
       "    <tr>\n",
       "      <th>293978</th>\n",
       "      <td>1650199</td>\n",
       "      <td>527398</td>\n",
       "      <td>0</td>\n",
       "      <td>1</td>\n",
       "      <td>JBL0122</td>\n",
       "      <td>42.99</td>\n",
       "      <td>2018-03-14 13:57:25</td>\n",
       "    </tr>\n",
       "    <tr>\n",
       "      <th>293979</th>\n",
       "      <td>1650200</td>\n",
       "      <td>527399</td>\n",
       "      <td>0</td>\n",
       "      <td>1</td>\n",
       "      <td>PAC0653</td>\n",
       "      <td>141.58</td>\n",
       "      <td>2018-03-14 13:57:34</td>\n",
       "    </tr>\n",
       "    <tr>\n",
       "      <th>293980</th>\n",
       "      <td>1650201</td>\n",
       "      <td>527400</td>\n",
       "      <td>0</td>\n",
       "      <td>2</td>\n",
       "      <td>APP0698</td>\n",
       "      <td>9.99</td>\n",
       "      <td>2018-03-14 13:57:41</td>\n",
       "    </tr>\n",
       "    <tr>\n",
       "      <th>293981</th>\n",
       "      <td>1650202</td>\n",
       "      <td>527388</td>\n",
       "      <td>0</td>\n",
       "      <td>1</td>\n",
       "      <td>BEZ0204</td>\n",
       "      <td>19.99</td>\n",
       "      <td>2018-03-14 13:58:01</td>\n",
       "    </tr>\n",
       "    <tr>\n",
       "      <th>293982</th>\n",
       "      <td>1650203</td>\n",
       "      <td>527401</td>\n",
       "      <td>0</td>\n",
       "      <td>1</td>\n",
       "      <td>APP0927</td>\n",
       "      <td>13.99</td>\n",
       "      <td>2018-03-14 13:58:36</td>\n",
       "    </tr>\n",
       "  </tbody>\n",
       "</table>\n",
       "</div>"
      ],
      "text/plain": [
       "             id  id_order  product_id  product_quantity      sku unit_price  \\\n",
       "293978  1650199    527398           0                 1  JBL0122      42.99   \n",
       "293979  1650200    527399           0                 1  PAC0653     141.58   \n",
       "293980  1650201    527400           0                 2  APP0698       9.99   \n",
       "293981  1650202    527388           0                 1  BEZ0204      19.99   \n",
       "293982  1650203    527401           0                 1  APP0927      13.99   \n",
       "\n",
       "                       date  \n",
       "293978  2018-03-14 13:57:25  \n",
       "293979  2018-03-14 13:57:34  \n",
       "293980  2018-03-14 13:57:41  \n",
       "293981  2018-03-14 13:58:01  \n",
       "293982  2018-03-14 13:58:36  "
      ]
     },
     "execution_count": 41,
     "metadata": {},
     "output_type": "execute_result"
    }
   ],
   "source": [
    "orderlines.tail()"
   ]
  },
  {
   "cell_type": "code",
   "execution_count": 97,
   "id": "5ba5212d-1ffd-4277-be3c-fe3608248440",
   "metadata": {},
   "outputs": [
    {
     "data": {
      "text/plain": [
       "0"
      ]
     },
     "execution_count": 97,
     "metadata": {},
     "output_type": "execute_result"
    }
   ],
   "source": [
    "orderlines.duplicated().sum()"
   ]
  },
  {
   "cell_type": "markdown",
   "id": "b8dd3627-d452-4a95-9991-4cd141943de9",
   "metadata": {},
   "source": [
    "<p> <strong> 3.Some basic numerical aggregations </strong>  </p>"
   ]
  },
  {
   "cell_type": "code",
   "execution_count": 48,
   "id": "cc0946ac-7140-43c5-a445-302af53cf918",
   "metadata": {},
   "outputs": [
    {
     "data": {
      "text/html": [
       "<div>\n",
       "<style scoped>\n",
       "    .dataframe tbody tr th:only-of-type {\n",
       "        vertical-align: middle;\n",
       "    }\n",
       "\n",
       "    .dataframe tbody tr th {\n",
       "        vertical-align: top;\n",
       "    }\n",
       "\n",
       "    .dataframe thead th {\n",
       "        text-align: right;\n",
       "    }\n",
       "</style>\n",
       "<table border=\"1\" class=\"dataframe\">\n",
       "  <thead>\n",
       "    <tr style=\"text-align: right;\">\n",
       "      <th></th>\n",
       "      <th>id</th>\n",
       "      <th>id_order</th>\n",
       "      <th>product_id</th>\n",
       "      <th>product_quantity</th>\n",
       "    </tr>\n",
       "  </thead>\n",
       "  <tbody>\n",
       "    <tr>\n",
       "      <th>count</th>\n",
       "      <td>2.939830e+05</td>\n",
       "      <td>293983.000000</td>\n",
       "      <td>293983.0</td>\n",
       "      <td>293983.000000</td>\n",
       "    </tr>\n",
       "    <tr>\n",
       "      <th>mean</th>\n",
       "      <td>1.397918e+06</td>\n",
       "      <td>419999.116544</td>\n",
       "      <td>0.0</td>\n",
       "      <td>1.121126</td>\n",
       "    </tr>\n",
       "    <tr>\n",
       "      <th>std</th>\n",
       "      <td>1.530096e+05</td>\n",
       "      <td>66344.486479</td>\n",
       "      <td>0.0</td>\n",
       "      <td>3.396569</td>\n",
       "    </tr>\n",
       "    <tr>\n",
       "      <th>min</th>\n",
       "      <td>1.119109e+06</td>\n",
       "      <td>241319.000000</td>\n",
       "      <td>0.0</td>\n",
       "      <td>1.000000</td>\n",
       "    </tr>\n",
       "    <tr>\n",
       "      <th>25%</th>\n",
       "      <td>1.262542e+06</td>\n",
       "      <td>362258.500000</td>\n",
       "      <td>0.0</td>\n",
       "      <td>1.000000</td>\n",
       "    </tr>\n",
       "    <tr>\n",
       "      <th>50%</th>\n",
       "      <td>1.406940e+06</td>\n",
       "      <td>425956.000000</td>\n",
       "      <td>0.0</td>\n",
       "      <td>1.000000</td>\n",
       "    </tr>\n",
       "    <tr>\n",
       "      <th>75%</th>\n",
       "      <td>1.531322e+06</td>\n",
       "      <td>478657.000000</td>\n",
       "      <td>0.0</td>\n",
       "      <td>1.000000</td>\n",
       "    </tr>\n",
       "    <tr>\n",
       "      <th>max</th>\n",
       "      <td>1.650203e+06</td>\n",
       "      <td>527401.000000</td>\n",
       "      <td>0.0</td>\n",
       "      <td>999.000000</td>\n",
       "    </tr>\n",
       "  </tbody>\n",
       "</table>\n",
       "</div>"
      ],
      "text/plain": [
       "                 id       id_order  product_id  product_quantity\n",
       "count  2.939830e+05  293983.000000    293983.0     293983.000000\n",
       "mean   1.397918e+06  419999.116544         0.0          1.121126\n",
       "std    1.530096e+05   66344.486479         0.0          3.396569\n",
       "min    1.119109e+06  241319.000000         0.0          1.000000\n",
       "25%    1.262542e+06  362258.500000         0.0          1.000000\n",
       "50%    1.406940e+06  425956.000000         0.0          1.000000\n",
       "75%    1.531322e+06  478657.000000         0.0          1.000000\n",
       "max    1.650203e+06  527401.000000         0.0        999.000000"
      ]
     },
     "execution_count": 48,
     "metadata": {},
     "output_type": "execute_result"
    }
   ],
   "source": [
    "orderlines.describe()"
   ]
  },
  {
   "cell_type": "markdown",
   "id": "180fdc55-3702-4cc3-8e6b-357514280766",
   "metadata": {},
   "source": [
    "<p> <strong> 4.Highlight which columns contain missing data  </strong>  </p>"
   ]
  },
  {
   "cell_type": "code",
   "execution_count": 49,
   "id": "b07fd8e3-3c26-4ce7-b584-61b8c51b5c1f",
   "metadata": {},
   "outputs": [
    {
     "data": {
      "text/plain": [
       "id                  False\n",
       "id_order            False\n",
       "product_id          False\n",
       "product_quantity    False\n",
       "sku                 False\n",
       "unit_price          False\n",
       "date                False\n",
       "dtype: bool"
      ]
     },
     "execution_count": 49,
     "metadata": {},
     "output_type": "execute_result"
    }
   ],
   "source": [
    "orderlines.isna().any()"
   ]
  },
  {
   "cell_type": "code",
   "execution_count": 50,
   "id": "916bb432-c871-46b7-a4d0-6219be1323e3",
   "metadata": {},
   "outputs": [
    {
     "data": {
      "text/plain": [
       "(293983, 7)"
      ]
     },
     "execution_count": 50,
     "metadata": {},
     "output_type": "execute_result"
    }
   ],
   "source": [
    "orderlines.shape"
   ]
  },
  {
   "cell_type": "code",
   "execution_count": 51,
   "id": "97446ad2-cb96-49a1-bc27-3275adf1dfa3",
   "metadata": {},
   "outputs": [
    {
     "data": {
      "text/plain": [
       "Index(['id', 'id_order', 'product_id', 'product_quantity', 'sku', 'unit_price',\n",
       "       'date'],\n",
       "      dtype='object')"
      ]
     },
     "execution_count": 51,
     "metadata": {},
     "output_type": "execute_result"
    }
   ],
   "source": [
    "orderlines.columns"
   ]
  },
  {
   "cell_type": "markdown",
   "id": "9950b510-e2e5-4226-b31f-59ae0e56c69d",
   "metadata": {},
   "source": [
    "<p> <strong> 5.Summarise columns.  </strong>  </p>"
   ]
  },
  {
   "cell_type": "code",
   "execution_count": 52,
   "id": "8a2d69d6-5b6c-4dff-ab61-a9355f19cbfb",
   "metadata": {},
   "outputs": [
    {
     "data": {
      "text/plain": [
       "id       id_order  product_id  product_quantity  sku      unit_price  date               \n",
       "1119109  299539    0           1                 OTT0133  18.99       2017-01-01 00:07:19    1\n",
       "1487226  459168    0           1                 MMW0016  22.99       2017-12-10 20:16:55    1\n",
       "1487233  459170    0           1                 APP2274  2.247.59    2017-12-10 20:17:11    1\n",
       "1487232  459169    0           1                 APP0663  199.00      2017-12-10 20:17:03    1\n",
       "1487231  459169    0           1                 MMW0016  22.99       2017-12-10 20:17:03    1\n",
       "                                                                                            ..\n",
       "1306380  383925    0           1                 SPE0164  28.92       2017-07-30 11:56:39    1\n",
       "1306382  383926    0           1                 APP2446  389.00      2017-07-30 12:00:53    1\n",
       "1306387  382323    0           1                 LAC0227  286.79      2017-07-30 12:07:03    1\n",
       "1306388  382323    0           1                 LAC0232  231.79      2017-07-30 12:07:13    1\n",
       "1650203  527401    0           1                 APP0927  13.99       2018-03-14 13:58:36    1\n",
       "Length: 293983, dtype: int64"
      ]
     },
     "execution_count": 52,
     "metadata": {},
     "output_type": "execute_result"
    }
   ],
   "source": [
    "orderlines.value_counts()"
   ]
  },
  {
   "cell_type": "markdown",
   "id": "8fbb4815-7c8b-4cc6-87ef-3ce3adb7813f",
   "metadata": {},
   "source": [
    "<p> <strong> 6.Visualize numerical  columns.  </strong>  </p>"
   ]
  },
  {
   "cell_type": "code",
   "execution_count": 57,
   "id": "c050082e-f42b-4056-b69d-ead364c5b0dd",
   "metadata": {},
   "outputs": [
    {
     "data": {
      "text/plain": [
       "array([[<AxesSubplot:title={'center':'id'}>,\n",
       "        <AxesSubplot:title={'center':'id_order'}>],\n",
       "       [<AxesSubplot:title={'center':'product_id'}>,\n",
       "        <AxesSubplot:title={'center':'product_quantity'}>]], dtype=object)"
      ]
     },
     "execution_count": 57,
     "metadata": {},
     "output_type": "execute_result"
    },
    {
     "data": {
      "image/png": "[encoded data removed]",
      "text/plain": [
       "<Figure size 432x288 with 4 Axes>"
      ]
     },
     "metadata": {
      "needs_background": "light"
     },
     "output_type": "display_data"
    }
   ],
   "source": [
    "orderlines.hist()"
   ]
  },
  {
   "cell_type": "markdown",
   "id": "9efe8bb1-23a1-47b3-b46b-0e5ee37752dd",
   "metadata": {},
   "source": [
    "<p> <strong> 7.Some insights.  </strong>  </p>"
   ]
  },
  {
   "cell_type": "code",
   "execution_count": 66,
   "id": "9d60707f-5de6-48bd-920c-e2c017570d6f",
   "metadata": {},
   "outputs": [
    {
     "data": {
      "text/plain": [
       "sku\n",
       "MIC0036      6282\n",
       "APP1216      5627\n",
       "APP0662      5445\n",
       "APP1190      5039\n",
       "APP0663      3942\n",
       "             ... \n",
       "BOO0086         1\n",
       "BOS0017         1\n",
       "APP2508-A       1\n",
       "APP0695-A       1\n",
       "DLK0059         1\n",
       "Name: id_order, Length: 7951, dtype: int64"
      ]
     },
     "execution_count": 66,
     "metadata": {},
     "output_type": "execute_result"
    }
   ],
   "source": [
    "orderlines.groupby('sku').id_order.count().sort_values(ascending=False)"
   ]
  },
  {
   "cell_type": "code",
   "execution_count": 67,
   "id": "b39a741e-ca89-4623-8667-df5cf7a8a396",
   "metadata": {},
   "outputs": [
    {
     "data": {
      "text/plain": [
       "0    2018-03-05 10:36:05\n",
       "dtype: object"
      ]
     },
     "execution_count": 67,
     "metadata": {},
     "output_type": "execute_result"
    }
   ],
   "source": [
    "orderlines.date.mode()"
   ]
  },
  {
   "cell_type": "code",
   "execution_count": 68,
   "id": "88f543c2-977e-4c8a-aa8b-f32095c94c80",
   "metadata": {},
   "outputs": [
    {
     "data": {
      "text/plain": [
       "0    MIC0036\n",
       "dtype: object"
      ]
     },
     "execution_count": 68,
     "metadata": {},
     "output_type": "execute_result"
    }
   ],
   "source": [
    "orderlines.sku.mode()"
   ]
  },
  {
   "cell_type": "markdown",
   "id": "a73ee509-f51a-4008-80c2-f395f5cbf031",
   "metadata": {},
   "source": [
    "<h> <strong> PRODUCTS DATAFRAME <strong>  </h> "
   ]
  },
  {
   "cell_type": "code",
   "execution_count": 71,
   "id": "c7ffd60b-12c4-4408-b03c-c9a24d9d217e",
   "metadata": {},
   "outputs": [
    {
     "name": "stdout",
     "output_type": "stream",
     "text": [
      "           sku                                           name  \\\n",
      "0      RAI0007              Silver Rain Design mStand Support   \n",
      "1      APP0023              Apple Mac Keyboard Keypad Spanish   \n",
      "2      APP0025               Mighty Mouse Apple Mouse for Mac   \n",
      "3      APP0072  Apple Dock to USB Cable iPhone and iPod white   \n",
      "4      KIN0007    Mac Memory Kingston 2GB 667MHz DDR2 SO-DIMM   \n",
      "...        ...                                            ...   \n",
      "19321  BEL0376        Belkin Travel Support Apple Watch Black   \n",
      "19322  THU0060   Enroute Thule 14L Backpack MacBook 13 \"Black   \n",
      "19323  THU0061    Enroute Thule 14L Backpack MacBook 13 \"Blue   \n",
      "19324  THU0062     Enroute Thule 14L Backpack MacBook 13 \"Red   \n",
      "19325  THU0063   Enroute Thule 14L Backpack MacBook 13 \"Green   \n",
      "\n",
      "                                                    desc  price promo_price  \\\n",
      "0           Aluminum support compatible with all MacBook  59.99     499.899   \n",
      "1              USB ultrathin keyboard Apple Mac Spanish.     59     589.996   \n",
      "2                                 mouse Apple USB cable.     59     569.898   \n",
      "3                  IPhone dock and USB Cable Apple iPod.     25     229.997   \n",
      "4      2GB RAM Mac mini and iMac (2006/07) MacBook Pr...  34.99       31.99   \n",
      "...                                                  ...    ...         ...   \n",
      "19321  compact and portable stand vertically or horiz...  29.99     269.903   \n",
      "19322  Backpack with capacity of 14 liter compartment...  69.95     649.903   \n",
      "19323  Backpack with capacity of 14 liter compartment...  69.95     649.903   \n",
      "19324  Backpack with capacity of 14 liter compartment...  69.95     649.903   \n",
      "19325  Backpack with capacity of 14 liter compartment...  69.95     649.903   \n",
      "\n",
      "       in_stock      type  \n",
      "0             1      8696  \n",
      "1             0  13855401  \n",
      "2             0      1387  \n",
      "3             0      1230  \n",
      "4             1      1364  \n",
      "...         ...       ...  \n",
      "19321         1     12282  \n",
      "19322         1      1392  \n",
      "19323         1      1392  \n",
      "19324         0      1392  \n",
      "19325         1      1392  \n",
      "\n",
      "[19326 rows x 7 columns]\n"
     ]
    }
   ],
   "source": [
    "import pandas as pd\n",
    "\n",
    "products = pd.read_csv(\"products.csv\")\n",
    "print(products)"
   ]
  },
  {
   "cell_type": "markdown",
   "id": "c029bf25-d853-4bff-8b7a-a26951280e14",
   "metadata": {},
   "source": [
    "<p> <strong> 1. Initial exploration  </strong>  </p>"
   ]
  },
  {
   "cell_type": "code",
   "execution_count": 72,
   "id": "4268d9a3-87ac-4b5e-9daf-2a4ba8eedcc8",
   "metadata": {},
   "outputs": [
    {
     "name": "stdout",
     "output_type": "stream",
     "text": [
      "<class 'pandas.core.frame.DataFrame'>\n",
      "RangeIndex: 19326 entries, 0 to 19325\n",
      "Data columns (total 7 columns):\n",
      " #   Column       Non-Null Count  Dtype \n",
      "---  ------       --------------  ----- \n",
      " 0   sku          19326 non-null  object\n",
      " 1   name         19326 non-null  object\n",
      " 2   desc         19319 non-null  object\n",
      " 3   price        19280 non-null  object\n",
      " 4   promo_price  19326 non-null  object\n",
      " 5   in_stock     19326 non-null  int64 \n",
      " 6   type         19276 non-null  object\n",
      "dtypes: int64(1), object(6)\n",
      "memory usage: 1.0+ MB\n"
     ]
    }
   ],
   "source": [
    "products.info()"
   ]
  },
  {
   "cell_type": "markdown",
   "id": "1add0d62-b66a-4f5f-bf51-c45eb59ec739",
   "metadata": {},
   "source": [
    "<p> <strong> Comment: </strong> <br> Price and promo prices are objects and not float/int </p>"
   ]
  },
  {
   "cell_type": "markdown",
   "id": "3c6fc7f2-918d-4664-8033-80c3f09161d8",
   "metadata": {},
   "source": [
    "<p> <strong> 2. Visualize first five and last five rows </strong>  </p>"
   ]
  },
  {
   "cell_type": "code",
   "execution_count": 73,
   "id": "fdba6066-acd3-4b69-a6e0-a709215f358d",
   "metadata": {},
   "outputs": [
    {
     "data": {
      "text/html": [
       "<div>\n",
       "<style scoped>\n",
       "    .dataframe tbody tr th:only-of-type {\n",
       "        vertical-align: middle;\n",
       "    }\n",
       "\n",
       "    .dataframe tbody tr th {\n",
       "        vertical-align: top;\n",
       "    }\n",
       "\n",
       "    .dataframe thead th {\n",
       "        text-align: right;\n",
       "    }\n",
       "</style>\n",
       "<table border=\"1\" class=\"dataframe\">\n",
       "  <thead>\n",
       "    <tr style=\"text-align: right;\">\n",
       "      <th></th>\n",
       "      <th>sku</th>\n",
       "      <th>name</th>\n",
       "      <th>desc</th>\n",
       "      <th>price</th>\n",
       "      <th>promo_price</th>\n",
       "      <th>in_stock</th>\n",
       "      <th>type</th>\n",
       "    </tr>\n",
       "  </thead>\n",
       "  <tbody>\n",
       "    <tr>\n",
       "      <th>0</th>\n",
       "      <td>RAI0007</td>\n",
       "      <td>Silver Rain Design mStand Support</td>\n",
       "      <td>Aluminum support compatible with all MacBook</td>\n",
       "      <td>59.99</td>\n",
       "      <td>499.899</td>\n",
       "      <td>1</td>\n",
       "      <td>8696</td>\n",
       "    </tr>\n",
       "    <tr>\n",
       "      <th>1</th>\n",
       "      <td>APP0023</td>\n",
       "      <td>Apple Mac Keyboard Keypad Spanish</td>\n",
       "      <td>USB ultrathin keyboard Apple Mac Spanish.</td>\n",
       "      <td>59</td>\n",
       "      <td>589.996</td>\n",
       "      <td>0</td>\n",
       "      <td>13855401</td>\n",
       "    </tr>\n",
       "    <tr>\n",
       "      <th>2</th>\n",
       "      <td>APP0025</td>\n",
       "      <td>Mighty Mouse Apple Mouse for Mac</td>\n",
       "      <td>mouse Apple USB cable.</td>\n",
       "      <td>59</td>\n",
       "      <td>569.898</td>\n",
       "      <td>0</td>\n",
       "      <td>1387</td>\n",
       "    </tr>\n",
       "    <tr>\n",
       "      <th>3</th>\n",
       "      <td>APP0072</td>\n",
       "      <td>Apple Dock to USB Cable iPhone and iPod white</td>\n",
       "      <td>IPhone dock and USB Cable Apple iPod.</td>\n",
       "      <td>25</td>\n",
       "      <td>229.997</td>\n",
       "      <td>0</td>\n",
       "      <td>1230</td>\n",
       "    </tr>\n",
       "    <tr>\n",
       "      <th>4</th>\n",
       "      <td>KIN0007</td>\n",
       "      <td>Mac Memory Kingston 2GB 667MHz DDR2 SO-DIMM</td>\n",
       "      <td>2GB RAM Mac mini and iMac (2006/07) MacBook Pr...</td>\n",
       "      <td>34.99</td>\n",
       "      <td>31.99</td>\n",
       "      <td>1</td>\n",
       "      <td>1364</td>\n",
       "    </tr>\n",
       "  </tbody>\n",
       "</table>\n",
       "</div>"
      ],
      "text/plain": [
       "       sku                                           name  \\\n",
       "0  RAI0007              Silver Rain Design mStand Support   \n",
       "1  APP0023              Apple Mac Keyboard Keypad Spanish   \n",
       "2  APP0025               Mighty Mouse Apple Mouse for Mac   \n",
       "3  APP0072  Apple Dock to USB Cable iPhone and iPod white   \n",
       "4  KIN0007    Mac Memory Kingston 2GB 667MHz DDR2 SO-DIMM   \n",
       "\n",
       "                                                desc  price promo_price  \\\n",
       "0       Aluminum support compatible with all MacBook  59.99     499.899   \n",
       "1          USB ultrathin keyboard Apple Mac Spanish.     59     589.996   \n",
       "2                             mouse Apple USB cable.     59     569.898   \n",
       "3              IPhone dock and USB Cable Apple iPod.     25     229.997   \n",
       "4  2GB RAM Mac mini and iMac (2006/07) MacBook Pr...  34.99       31.99   \n",
       "\n",
       "   in_stock      type  \n",
       "0         1      8696  \n",
       "1         0  13855401  \n",
       "2         0      1387  \n",
       "3         0      1230  \n",
       "4         1      1364  "
      ]
     },
     "execution_count": 73,
     "metadata": {},
     "output_type": "execute_result"
    }
   ],
   "source": [
    "products.head()"
   ]
  },
  {
   "cell_type": "code",
   "execution_count": 84,
   "id": "e10685a2-e87b-4d0a-9162-1c67bec1c217",
   "metadata": {},
   "outputs": [
    {
     "data": {
      "text/html": [
       "<div>\n",
       "<style scoped>\n",
       "    .dataframe tbody tr th:only-of-type {\n",
       "        vertical-align: middle;\n",
       "    }\n",
       "\n",
       "    .dataframe tbody tr th {\n",
       "        vertical-align: top;\n",
       "    }\n",
       "\n",
       "    .dataframe thead th {\n",
       "        text-align: right;\n",
       "    }\n",
       "</style>\n",
       "<table border=\"1\" class=\"dataframe\">\n",
       "  <thead>\n",
       "    <tr style=\"text-align: right;\">\n",
       "      <th></th>\n",
       "      <th>sku</th>\n",
       "      <th>name</th>\n",
       "      <th>desc</th>\n",
       "      <th>price</th>\n",
       "      <th>promo_price</th>\n",
       "      <th>in_stock</th>\n",
       "      <th>type</th>\n",
       "    </tr>\n",
       "  </thead>\n",
       "  <tbody>\n",
       "    <tr>\n",
       "      <th>19321</th>\n",
       "      <td>BEL0376</td>\n",
       "      <td>Belkin Travel Support Apple Watch Black</td>\n",
       "      <td>compact and portable stand vertically or horiz...</td>\n",
       "      <td>29.99</td>\n",
       "      <td>269.903</td>\n",
       "      <td>1</td>\n",
       "      <td>12282</td>\n",
       "    </tr>\n",
       "    <tr>\n",
       "      <th>19322</th>\n",
       "      <td>THU0060</td>\n",
       "      <td>Enroute Thule 14L Backpack MacBook 13 \"Black</td>\n",
       "      <td>Backpack with capacity of 14 liter compartment...</td>\n",
       "      <td>69.95</td>\n",
       "      <td>649.903</td>\n",
       "      <td>1</td>\n",
       "      <td>1392</td>\n",
       "    </tr>\n",
       "    <tr>\n",
       "      <th>19323</th>\n",
       "      <td>THU0061</td>\n",
       "      <td>Enroute Thule 14L Backpack MacBook 13 \"Blue</td>\n",
       "      <td>Backpack with capacity of 14 liter compartment...</td>\n",
       "      <td>69.95</td>\n",
       "      <td>649.903</td>\n",
       "      <td>1</td>\n",
       "      <td>1392</td>\n",
       "    </tr>\n",
       "    <tr>\n",
       "      <th>19324</th>\n",
       "      <td>THU0062</td>\n",
       "      <td>Enroute Thule 14L Backpack MacBook 13 \"Red</td>\n",
       "      <td>Backpack with capacity of 14 liter compartment...</td>\n",
       "      <td>69.95</td>\n",
       "      <td>649.903</td>\n",
       "      <td>0</td>\n",
       "      <td>1392</td>\n",
       "    </tr>\n",
       "    <tr>\n",
       "      <th>19325</th>\n",
       "      <td>THU0063</td>\n",
       "      <td>Enroute Thule 14L Backpack MacBook 13 \"Green</td>\n",
       "      <td>Backpack with capacity of 14 liter compartment...</td>\n",
       "      <td>69.95</td>\n",
       "      <td>649.903</td>\n",
       "      <td>1</td>\n",
       "      <td>1392</td>\n",
       "    </tr>\n",
       "  </tbody>\n",
       "</table>\n",
       "</div>"
      ],
      "text/plain": [
       "           sku                                          name  \\\n",
       "19321  BEL0376       Belkin Travel Support Apple Watch Black   \n",
       "19322  THU0060  Enroute Thule 14L Backpack MacBook 13 \"Black   \n",
       "19323  THU0061   Enroute Thule 14L Backpack MacBook 13 \"Blue   \n",
       "19324  THU0062    Enroute Thule 14L Backpack MacBook 13 \"Red   \n",
       "19325  THU0063  Enroute Thule 14L Backpack MacBook 13 \"Green   \n",
       "\n",
       "                                                    desc  price promo_price  \\\n",
       "19321  compact and portable stand vertically or horiz...  29.99     269.903   \n",
       "19322  Backpack with capacity of 14 liter compartment...  69.95     649.903   \n",
       "19323  Backpack with capacity of 14 liter compartment...  69.95     649.903   \n",
       "19324  Backpack with capacity of 14 liter compartment...  69.95     649.903   \n",
       "19325  Backpack with capacity of 14 liter compartment...  69.95     649.903   \n",
       "\n",
       "       in_stock   type  \n",
       "19321         1  12282  \n",
       "19322         1   1392  \n",
       "19323         1   1392  \n",
       "19324         0   1392  \n",
       "19325         1   1392  "
      ]
     },
     "execution_count": 84,
     "metadata": {},
     "output_type": "execute_result"
    }
   ],
   "source": [
    "products.tail()"
   ]
  },
  {
   "cell_type": "code",
   "execution_count": 96,
   "id": "7b9488fc-2574-4e8d-84ff-ad6f5eff62d2",
   "metadata": {},
   "outputs": [
    {
     "data": {
      "text/plain": [
       "8746"
      ]
     },
     "execution_count": 96,
     "metadata": {},
     "output_type": "execute_result"
    }
   ],
   "source": [
    "products.duplicated().sum()"
   ]
  },
  {
   "cell_type": "markdown",
   "id": "179f546a-2a0a-4903-851a-42c1f64edb2c",
   "metadata": {},
   "source": [
    "<p> <strong> 3.Some basic numerical aggregations </strong>  </p>"
   ]
  },
  {
   "cell_type": "code",
   "execution_count": 75,
   "id": "c8910cf9-ac5f-4014-abaf-7c4433b42f2f",
   "metadata": {},
   "outputs": [
    {
     "data": {
      "text/html": [
       "<div>\n",
       "<style scoped>\n",
       "    .dataframe tbody tr th:only-of-type {\n",
       "        vertical-align: middle;\n",
       "    }\n",
       "\n",
       "    .dataframe tbody tr th {\n",
       "        vertical-align: top;\n",
       "    }\n",
       "\n",
       "    .dataframe thead th {\n",
       "        text-align: right;\n",
       "    }\n",
       "</style>\n",
       "<table border=\"1\" class=\"dataframe\">\n",
       "  <thead>\n",
       "    <tr style=\"text-align: right;\">\n",
       "      <th></th>\n",
       "      <th>in_stock</th>\n",
       "    </tr>\n",
       "  </thead>\n",
       "  <tbody>\n",
       "    <tr>\n",
       "      <th>count</th>\n",
       "      <td>19326.000000</td>\n",
       "    </tr>\n",
       "    <tr>\n",
       "      <th>mean</th>\n",
       "      <td>0.109593</td>\n",
       "    </tr>\n",
       "    <tr>\n",
       "      <th>std</th>\n",
       "      <td>0.312390</td>\n",
       "    </tr>\n",
       "    <tr>\n",
       "      <th>min</th>\n",
       "      <td>0.000000</td>\n",
       "    </tr>\n",
       "    <tr>\n",
       "      <th>25%</th>\n",
       "      <td>0.000000</td>\n",
       "    </tr>\n",
       "    <tr>\n",
       "      <th>50%</th>\n",
       "      <td>0.000000</td>\n",
       "    </tr>\n",
       "    <tr>\n",
       "      <th>75%</th>\n",
       "      <td>0.000000</td>\n",
       "    </tr>\n",
       "    <tr>\n",
       "      <th>max</th>\n",
       "      <td>1.000000</td>\n",
       "    </tr>\n",
       "  </tbody>\n",
       "</table>\n",
       "</div>"
      ],
      "text/plain": [
       "           in_stock\n",
       "count  19326.000000\n",
       "mean       0.109593\n",
       "std        0.312390\n",
       "min        0.000000\n",
       "25%        0.000000\n",
       "50%        0.000000\n",
       "75%        0.000000\n",
       "max        1.000000"
      ]
     },
     "execution_count": 75,
     "metadata": {},
     "output_type": "execute_result"
    }
   ],
   "source": [
    "products.describe()"
   ]
  },
  {
   "cell_type": "markdown",
   "id": "ac51465f-642c-497c-9315-1f1725f101eb",
   "metadata": {},
   "source": [
    "<p> <strong> 4.Highlight which columns contain missing data  </strong>  </p>"
   ]
  },
  {
   "cell_type": "code",
   "execution_count": 76,
   "id": "5df16194-500a-40b2-a890-0b28ea0cfcd0",
   "metadata": {},
   "outputs": [
    {
     "data": {
      "text/plain": [
       "(19326, 7)"
      ]
     },
     "execution_count": 76,
     "metadata": {},
     "output_type": "execute_result"
    }
   ],
   "source": [
    "products.shape"
   ]
  },
  {
   "cell_type": "code",
   "execution_count": 77,
   "id": "a70ec663-c485-4e1f-ad0c-9e7c46672c05",
   "metadata": {},
   "outputs": [
    {
     "data": {
      "text/plain": [
       "sku            False\n",
       "name           False\n",
       "desc            True\n",
       "price           True\n",
       "promo_price    False\n",
       "in_stock       False\n",
       "type            True\n",
       "dtype: bool"
      ]
     },
     "execution_count": 77,
     "metadata": {},
     "output_type": "execute_result"
    }
   ],
   "source": [
    "products.isna().any()"
   ]
  },
  {
   "cell_type": "code",
   "execution_count": 78,
   "id": "56568d22-6930-44bb-b1b6-1e03f172e575",
   "metadata": {},
   "outputs": [
    {
     "data": {
      "text/plain": [
       "7"
      ]
     },
     "execution_count": 78,
     "metadata": {},
     "output_type": "execute_result"
    }
   ],
   "source": [
    "products.desc.isna().sum()"
   ]
  },
  {
   "cell_type": "code",
   "execution_count": 79,
   "id": "911ac4f7-1a8c-43b7-8dd3-f039898e3048",
   "metadata": {},
   "outputs": [
    {
     "data": {
      "text/plain": [
       "46"
      ]
     },
     "execution_count": 79,
     "metadata": {},
     "output_type": "execute_result"
    }
   ],
   "source": [
    "products.price.isna().sum()"
   ]
  },
  {
   "cell_type": "code",
   "execution_count": 80,
   "id": "b49cfa61-05c2-4e32-b088-e2926a0e0628",
   "metadata": {},
   "outputs": [
    {
     "data": {
      "text/plain": [
       "50"
      ]
     },
     "execution_count": 80,
     "metadata": {},
     "output_type": "execute_result"
    }
   ],
   "source": [
    "products.type.isna().sum()"
   ]
  },
  {
   "cell_type": "markdown",
   "id": "b43968b5-b659-4409-aeea-6dca1533534e",
   "metadata": {},
   "source": [
    "<p> There are a lot of missing values in the products df </p>"
   ]
  },
  {
   "cell_type": "code",
   "execution_count": 81,
   "id": "a0ac081b-25e3-4195-b302-b65fc18bd50f",
   "metadata": {},
   "outputs": [
    {
     "data": {
      "text/plain": [
       "Index(['id', 'id_order', 'product_id', 'product_quantity', 'sku', 'unit_price',\n",
       "       'date'],\n",
       "      dtype='object')"
      ]
     },
     "execution_count": 81,
     "metadata": {},
     "output_type": "execute_result"
    }
   ],
   "source": [
    "orderlines.columns"
   ]
  },
  {
   "cell_type": "markdown",
   "id": "f3be8d03-933c-44aa-a58c-af7e4a1f5d73",
   "metadata": {},
   "source": [
    "<p> <strong> 5.Summarise columns.  </strong>  </p>"
   ]
  },
  {
   "cell_type": "code",
   "execution_count": 82,
   "id": "3327573a-0dd4-4401-ab74-d1a8a5f91a74",
   "metadata": {},
   "outputs": [
    {
     "data": {
      "text/plain": [
       "sku      name                                                                      desc                                                                                   price  promo_price  in_stock  type    \n",
       "PAC1032  Apple iMac 27 \"Core i5 3.3GHz Retina 5K | 16GB | 2TB Fusion               IMac desktop computer 27 inch 5K Retina i5 3.3GHz RAM 16GB 2TB Fusion (MK482Y / A).    2869   23.055.848   0         5,74E+15    58\n",
       "PAC1033  Apple iMac 27 \"Core i7 Retina 5K 4GHz | 16GB | 2TB Fusion                 IMac desktop computer 27 inch 5K Retina 4GHz i7 RAM 16GB 2TB Fusion (MK482Y / A).      3169   28.739.896   0         5,74E+15    58\n",
       "PAC1034  Apple iMac 27 \"Core i5 3.3GHz Retina 5K | 32GB | 2TB Fusion               IMac desktop computer 27 inch 5K Retina i5 3.3GHz RAM 32GB 2TB Fusion (MK482Y / A).    3349   24.065.847   0         5,74E+15    58\n",
       "PAC1035  Apple iMac 27 \"Core i7 Retina 5K 4GHz | 32GB | 2TB Fusion                 IMac desktop computer 27 inch 5K Retina 4GHz i7 RAM 32GB 2TB Fusion (MK482Y / A).      3649   30.809.903   0         5,74E+15    58\n",
       "PAC1036  Apple iMac 27 \"Core i5 3.3GHz Retina 5K | 16GB | 3TB Fusion               IMac desktop computer 27 inch 5K Retina i5 3.3GHz RAM 16GB 3TB Fusion (MK482Y / A).    2989   2630         0         5,74E+15    58\n",
       "                                                                                                                                                                                                                    ..\n",
       "ICA0059  Incase Snap Case Halo Case iPhone 6 Plus Rosa                             Cover for iPhone 6 Plus ultra light polycarbonate.                                     34.95  269.903      0         11865403     1\n",
       "ICA0061  Incase Sling Sleeve Macbook Pro Deluxe briefcase / Retina 13 \"Black       briefcase removable straps and dual compartment Macbook Pro / Retina 13 inches         59.95  449.902      0         10230        1\n",
       "ICA0065  Incase Neoprene Sleeve Case Classic Macbook Air 11 \"Black                 Neoprene sheath light flexibe macbook 11 inches.                                       39.95  264.869      0         13835403     1\n",
       "ICA0066  Incase Neoprene Sleeve Case Classic Macbook Pro / Air / Retina 13 \"Black  Flexibe light cover and neoprene.                                                      39.95  299.003      0         13835403     1\n",
       "par0072  Parrot AR Drone 2.0 Elite Edition cuadricóptero Black                     Drone cuadricóptero HD video recording autonomous 12â \"for iPhone iPad and iPod Touch  349    2.099.895    1         11905404     1\n",
       "Length: 10477, dtype: int64"
      ]
     },
     "execution_count": 82,
     "metadata": {},
     "output_type": "execute_result"
    }
   ],
   "source": [
    "products.value_counts()"
   ]
  },
  {
   "cell_type": "markdown",
   "id": "bdda80d9-83fa-4f1e-91f8-a30ad290b0d4",
   "metadata": {},
   "source": [
    "<p> <strong> 6.Visualize numerical  columns.  </strong>  </p>"
   ]
  },
  {
   "cell_type": "code",
   "execution_count": 83,
   "id": "5a023e47-205d-4ee2-8d65-2ac3a00d4118",
   "metadata": {},
   "outputs": [
    {
     "data": {
      "text/plain": [
       "array([[<AxesSubplot:title={'center':'in_stock'}>]], dtype=object)"
      ]
     },
     "execution_count": 83,
     "metadata": {},
     "output_type": "execute_result"
    },
    {
     "data": {
      "image/png": "[encoded data removed]",
      "text/plain": [
       "<Figure size 432x288 with 1 Axes>"
      ]
     },
     "metadata": {
      "needs_background": "light"
     },
     "output_type": "display_data"
    }
   ],
   "source": [
    "products.hist()"
   ]
  },
  {
   "cell_type": "markdown",
   "id": "90219e66-b091-49ad-826d-67a69edcac18",
   "metadata": {},
   "source": [
    "<p> <strong> 7.Some insights.  </strong>  </p>"
   ]
  },
  {
   "cell_type": "markdown",
   "id": "edf19599-8618-47c3-8bdc-40340505c1bf",
   "metadata": {},
   "source": [
    "<h> <strong> BRANDS DATAFRAME <strong>  </h> "
   ]
  },
  {
   "cell_type": "code",
   "execution_count": 87,
   "id": "f1676b25-f04c-44d1-9adf-eec07f8ae25a",
   "metadata": {},
   "outputs": [
    {
     "name": "stdout",
     "output_type": "stream",
     "text": [
      "    short       long\n",
      "0     8MO  8Mobility\n",
      "1     ACM       Acme\n",
      "2     ADN     Adonit\n",
      "3     AII      Aiino\n",
      "4     AKI     Akitio\n",
      "..    ...        ...\n",
      "182   XOO     Xoopar\n",
      "183   XRI     X-Rite\n",
      "184   XTO      Xtorm\n",
      "185   ZAG   ZaggKeys\n",
      "186   ZEP       Zepp\n",
      "\n",
      "[187 rows x 2 columns]\n"
     ]
    }
   ],
   "source": [
    "import pandas as pd\n",
    "\n",
    "brands = pd.read_csv(\"brands.csv\")\n",
    "print(brands)"
   ]
  },
  {
   "cell_type": "markdown",
   "id": "87b4f565-7b26-4c21-b958-0ec17c710bfc",
   "metadata": {},
   "source": [
    "<p> <strong> 1. Initial exploration  </strong>  </p>"
   ]
  },
  {
   "cell_type": "code",
   "execution_count": 88,
   "id": "20b2855f-df71-48cf-8970-4769dfe2e510",
   "metadata": {},
   "outputs": [
    {
     "name": "stdout",
     "output_type": "stream",
     "text": [
      "<class 'pandas.core.frame.DataFrame'>\n",
      "RangeIndex: 187 entries, 0 to 186\n",
      "Data columns (total 2 columns):\n",
      " #   Column  Non-Null Count  Dtype \n",
      "---  ------  --------------  ----- \n",
      " 0   short   187 non-null    object\n",
      " 1   long    187 non-null    object\n",
      "dtypes: object(2)\n",
      "memory usage: 3.0+ KB\n"
     ]
    }
   ],
   "source": [
    "brands.info()"
   ]
  },
  {
   "cell_type": "markdown",
   "id": "8eabcd5d-9931-486d-8c43-15b3a535e8ed",
   "metadata": {},
   "source": [
    "<p> <strong> 2. Visualize first five and last five rows </strong>  </p>"
   ]
  },
  {
   "cell_type": "code",
   "execution_count": 89,
   "id": "3bff7941-39a6-4e22-922c-89f737d17428",
   "metadata": {},
   "outputs": [
    {
     "data": {
      "text/html": [
       "<div>\n",
       "<style scoped>\n",
       "    .dataframe tbody tr th:only-of-type {\n",
       "        vertical-align: middle;\n",
       "    }\n",
       "\n",
       "    .dataframe tbody tr th {\n",
       "        vertical-align: top;\n",
       "    }\n",
       "\n",
       "    .dataframe thead th {\n",
       "        text-align: right;\n",
       "    }\n",
       "</style>\n",
       "<table border=\"1\" class=\"dataframe\">\n",
       "  <thead>\n",
       "    <tr style=\"text-align: right;\">\n",
       "      <th></th>\n",
       "      <th>short</th>\n",
       "      <th>long</th>\n",
       "    </tr>\n",
       "  </thead>\n",
       "  <tbody>\n",
       "    <tr>\n",
       "      <th>0</th>\n",
       "      <td>8MO</td>\n",
       "      <td>8Mobility</td>\n",
       "    </tr>\n",
       "    <tr>\n",
       "      <th>1</th>\n",
       "      <td>ACM</td>\n",
       "      <td>Acme</td>\n",
       "    </tr>\n",
       "    <tr>\n",
       "      <th>2</th>\n",
       "      <td>ADN</td>\n",
       "      <td>Adonit</td>\n",
       "    </tr>\n",
       "    <tr>\n",
       "      <th>3</th>\n",
       "      <td>AII</td>\n",
       "      <td>Aiino</td>\n",
       "    </tr>\n",
       "    <tr>\n",
       "      <th>4</th>\n",
       "      <td>AKI</td>\n",
       "      <td>Akitio</td>\n",
       "    </tr>\n",
       "  </tbody>\n",
       "</table>\n",
       "</div>"
      ],
      "text/plain": [
       "  short       long\n",
       "0   8MO  8Mobility\n",
       "1   ACM       Acme\n",
       "2   ADN     Adonit\n",
       "3   AII      Aiino\n",
       "4   AKI     Akitio"
      ]
     },
     "execution_count": 89,
     "metadata": {},
     "output_type": "execute_result"
    }
   ],
   "source": [
    "brands.head()"
   ]
  },
  {
   "cell_type": "code",
   "execution_count": 90,
   "id": "ed59f9e9-0237-436a-baac-47708b100974",
   "metadata": {},
   "outputs": [
    {
     "data": {
      "text/html": [
       "<div>\n",
       "<style scoped>\n",
       "    .dataframe tbody tr th:only-of-type {\n",
       "        vertical-align: middle;\n",
       "    }\n",
       "\n",
       "    .dataframe tbody tr th {\n",
       "        vertical-align: top;\n",
       "    }\n",
       "\n",
       "    .dataframe thead th {\n",
       "        text-align: right;\n",
       "    }\n",
       "</style>\n",
       "<table border=\"1\" class=\"dataframe\">\n",
       "  <thead>\n",
       "    <tr style=\"text-align: right;\">\n",
       "      <th></th>\n",
       "      <th>short</th>\n",
       "      <th>long</th>\n",
       "    </tr>\n",
       "  </thead>\n",
       "  <tbody>\n",
       "    <tr>\n",
       "      <th>182</th>\n",
       "      <td>XOO</td>\n",
       "      <td>Xoopar</td>\n",
       "    </tr>\n",
       "    <tr>\n",
       "      <th>183</th>\n",
       "      <td>XRI</td>\n",
       "      <td>X-Rite</td>\n",
       "    </tr>\n",
       "    <tr>\n",
       "      <th>184</th>\n",
       "      <td>XTO</td>\n",
       "      <td>Xtorm</td>\n",
       "    </tr>\n",
       "    <tr>\n",
       "      <th>185</th>\n",
       "      <td>ZAG</td>\n",
       "      <td>ZaggKeys</td>\n",
       "    </tr>\n",
       "    <tr>\n",
       "      <th>186</th>\n",
       "      <td>ZEP</td>\n",
       "      <td>Zepp</td>\n",
       "    </tr>\n",
       "  </tbody>\n",
       "</table>\n",
       "</div>"
      ],
      "text/plain": [
       "    short      long\n",
       "182   XOO    Xoopar\n",
       "183   XRI    X-Rite\n",
       "184   XTO     Xtorm\n",
       "185   ZAG  ZaggKeys\n",
       "186   ZEP      Zepp"
      ]
     },
     "execution_count": 90,
     "metadata": {},
     "output_type": "execute_result"
    }
   ],
   "source": [
    "brands.tail()"
   ]
  },
  {
   "cell_type": "code",
   "execution_count": 99,
   "id": "fee91292-d73c-4e4b-8526-e010092b63a1",
   "metadata": {},
   "outputs": [
    {
     "data": {
      "text/plain": [
       "0"
      ]
     },
     "execution_count": 99,
     "metadata": {},
     "output_type": "execute_result"
    }
   ],
   "source": [
    "brands.duplicated().sum()"
   ]
  },
  {
   "cell_type": "markdown",
   "id": "4fd04c42-7d4a-4143-927d-2339786cf98e",
   "metadata": {},
   "source": [
    "<p> <strong> 3.Some basic numerical aggregations </strong>  </p>"
   ]
  },
  {
   "cell_type": "code",
   "execution_count": 92,
   "id": "3bb4bedc-b4ed-49fd-b002-6ab5eb303c4e",
   "metadata": {},
   "outputs": [
    {
     "data": {
      "text/html": [
       "<div>\n",
       "<style scoped>\n",
       "    .dataframe tbody tr th:only-of-type {\n",
       "        vertical-align: middle;\n",
       "    }\n",
       "\n",
       "    .dataframe tbody tr th {\n",
       "        vertical-align: top;\n",
       "    }\n",
       "\n",
       "    .dataframe thead th {\n",
       "        text-align: right;\n",
       "    }\n",
       "</style>\n",
       "<table border=\"1\" class=\"dataframe\">\n",
       "  <thead>\n",
       "    <tr style=\"text-align: right;\">\n",
       "      <th></th>\n",
       "      <th>short</th>\n",
       "      <th>long</th>\n",
       "    </tr>\n",
       "  </thead>\n",
       "  <tbody>\n",
       "    <tr>\n",
       "      <th>count</th>\n",
       "      <td>187</td>\n",
       "      <td>187</td>\n",
       "    </tr>\n",
       "    <tr>\n",
       "      <th>unique</th>\n",
       "      <td>187</td>\n",
       "      <td>181</td>\n",
       "    </tr>\n",
       "    <tr>\n",
       "      <th>top</th>\n",
       "      <td>FCM</td>\n",
       "      <td>Jaybird</td>\n",
       "    </tr>\n",
       "    <tr>\n",
       "      <th>freq</th>\n",
       "      <td>1</td>\n",
       "      <td>2</td>\n",
       "    </tr>\n",
       "  </tbody>\n",
       "</table>\n",
       "</div>"
      ],
      "text/plain": [
       "       short     long\n",
       "count    187      187\n",
       "unique   187      181\n",
       "top      FCM  Jaybird\n",
       "freq       1        2"
      ]
     },
     "execution_count": 92,
     "metadata": {},
     "output_type": "execute_result"
    }
   ],
   "source": [
    "brands.describe()"
   ]
  },
  {
   "cell_type": "markdown",
   "id": "785962a9-b24e-482d-8a5e-0c3db4c6b5ab",
   "metadata": {},
   "source": [
    "<p> <strong> 4.Highlight which columns contain missing data  </strong>  </p>"
   ]
  },
  {
   "cell_type": "code",
   "execution_count": 93,
   "id": "0309e24f-c54c-4b3d-9d4f-20b20de9b286",
   "metadata": {},
   "outputs": [
    {
     "data": {
      "text/plain": [
       "(187, 2)"
      ]
     },
     "execution_count": 93,
     "metadata": {},
     "output_type": "execute_result"
    }
   ],
   "source": [
    "brands.shape"
   ]
  },
  {
   "cell_type": "code",
   "execution_count": 94,
   "id": "cb55a2e1-009a-4941-9d39-10774a1f3254",
   "metadata": {},
   "outputs": [
    {
     "data": {
      "text/plain": [
       "short    False\n",
       "long     False\n",
       "dtype: bool"
      ]
     },
     "execution_count": 94,
     "metadata": {},
     "output_type": "execute_result"
    }
   ],
   "source": [
    "brands.isna().any()"
   ]
  },
  {
   "cell_type": "code",
   "execution_count": 95,
   "id": "f0467e6e-a8b4-411a-aca1-25b5338e6c5a",
   "metadata": {},
   "outputs": [
    {
     "data": {
      "text/plain": [
       "Index(['short', 'long'], dtype='object')"
      ]
     },
     "execution_count": 95,
     "metadata": {},
     "output_type": "execute_result"
    }
   ],
   "source": [
    "brands.columns"
   ]
  },
  {
   "cell_type": "markdown",
   "id": "c8d3e165-a048-4f4e-9159-19afcee7facd",
   "metadata": {},
   "source": [
    "<p> <strong> 5.Some insights.  </strong>  </p>"
   ]
  },
  {
   "cell_type": "markdown",
   "id": "8ddee2bc-3941-4976-b37c-ee574d6b7eeb",
   "metadata": {},
   "source": [
    "<p> DF useful to merge with other dataframes in order to see for each sku the name of the product </p>"
   ]
  },
  {
   "cell_type": "code",
   "execution_count": null,
   "id": "f84a70e0-24e4-418f-afed-a9bf9cbccc9a",
   "metadata": {},
   "outputs": [],
   "source": []
  }
 ],
 "metadata": {
  "kernelspec": {
   "display_name": "Python 3",
   "language": "python",
   "name": "python3"
  },
  "language_info": {
   "codemirror_mode": {
    "name": "ipython",
    "version": 3
   },
   "file_extension": ".py",
   "mimetype": "text/x-python",
   "name": "python",
   "nbconvert_exporter": "python",
   "pygments_lexer": "ipython3",
   "version": "3.8.8"
  },
  "toc-autonumbering": false,
  "toc-showmarkdowntxt": true
 },
 "nbformat": 4,
 "nbformat_minor": 5
}
