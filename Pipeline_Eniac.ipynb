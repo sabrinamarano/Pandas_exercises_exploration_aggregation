{
 "cells": [
  {
   "cell_type": "markdown",
   "id": "f8e0ebae-c033-4573-997a-6ba5dc995532",
   "metadata": {},
   "source": [
    "<h1>Eniac Pipeline</h1>"
   ]
  },
  {
   "cell_type": "markdown",
   "id": "3e3da377-5ded-458c-b20c-86bca5d2a465",
   "metadata": {},
   "source": [
    "<h>Data exploration</h>"
   ]
  },
  {
   "cell_type": "code",
   "execution_count": 17,
   "id": "9c27e884-d37d-4d5a-98cc-10f341131a54",
   "metadata": {},
   "outputs": [],
   "source": [
    "import pandas as pd\n",
    "\n",
    "orders = pd.read_csv(\"orders.csv\")\n",
    "orderlines = pd.read_csv(\"orderlines.csv\")\n",
    "\n",
    "def start_pipeline(data): \n",
    "    return data.copy()\n",
    "\n",
    "def sku_check(ordelines, sku='JBL0104'):\n",
    "    return(df[df['sku'].isin(['JBL0104'])].unit_price.unique())\n",
    "\n",
    "\n",
    "\n",
    "def id_order_check(ordelines, id_order=385921):\n",
    "    return(df[df['id_order'] == 385921].sku.unique())\n",
    "\n",
    "\n",
    "def n_sku_order_check(ordelines, sku='APP2431'):\n",
    "    return(df[df['sku'].isin(['APP2431','APP2348'])].id_order.nunique())\n",
    "\n",
    "\n",
    "\n",
    "def sku_product_quantity(ordelines):\n",
    "    return(df.query('product_quantity > 500').copy())\n",
    "\n",
    "\n",
    "def product_count(ordelines, sku='XDO0047'):\n",
    "    return(df[df['sku'].isin(['XDO0047'])].sort_values(by= ['product_quantity'], ascending=False))\n",
    "\n"
   ]
  },
  {
   "cell_type": "markdown",
   "id": "528d5187-32a6-466a-80ff-97df15bd2592",
   "metadata": {},
   "source": [
    "<h>Data aggregation</h>"
   ]
  },
  {
   "cell_type": "code",
   "execution_count": 30,
   "id": "6224318a-2c90-47b3-ac3d-274757f7acca",
   "metadata": {},
   "outputs": [
    {
     "ename": "AttributeError",
     "evalue": "Can only use .dt accessor with datetimelike values",
     "output_type": "error",
     "traceback": [
      "\u001b[0;31m---------------------------------------------------------------------------\u001b[0m",
      "\u001b[0;31mAttributeError\u001b[0m                            Traceback (most recent call last)",
      "\u001b[0;32m<ipython-input-30-2aa143b7da4d>\u001b[0m in \u001b[0;36m<module>\u001b[0;34m\u001b[0m\n\u001b[1;32m     49\u001b[0m     .head(1))\n\u001b[1;32m     50\u001b[0m \u001b[0;34m\u001b[0m\u001b[0m\n\u001b[0;32m---> 51\u001b[0;31m \u001b[0morderlines\u001b[0m\u001b[0;34m.\u001b[0m\u001b[0mpipe\u001b[0m\u001b[0;34m(\u001b[0m\u001b[0mdate\u001b[0m\u001b[0;34m)\u001b[0m\u001b[0;34m\u001b[0m\u001b[0;34m\u001b[0m\u001b[0m\n\u001b[0m",
      "\u001b[0;32m~/opt/anaconda3/lib/python3.8/site-packages/pandas/core/generic.py\u001b[0m in \u001b[0;36mpipe\u001b[0;34m(self, func, *args, **kwargs)\u001b[0m\n\u001b[1;32m   5404\u001b[0m         ...  )  # doctest: +SKIP\n\u001b[1;32m   5405\u001b[0m         \"\"\"\n\u001b[0;32m-> 5406\u001b[0;31m         \u001b[0;32mreturn\u001b[0m \u001b[0mcom\u001b[0m\u001b[0;34m.\u001b[0m\u001b[0mpipe\u001b[0m\u001b[0;34m(\u001b[0m\u001b[0mself\u001b[0m\u001b[0;34m,\u001b[0m \u001b[0mfunc\u001b[0m\u001b[0;34m,\u001b[0m \u001b[0;34m*\u001b[0m\u001b[0margs\u001b[0m\u001b[0;34m,\u001b[0m \u001b[0;34m**\u001b[0m\u001b[0mkwargs\u001b[0m\u001b[0;34m)\u001b[0m\u001b[0;34m\u001b[0m\u001b[0;34m\u001b[0m\u001b[0m\n\u001b[0m\u001b[1;32m   5407\u001b[0m \u001b[0;34m\u001b[0m\u001b[0m\n\u001b[1;32m   5408\u001b[0m     \u001b[0;31m# ----------------------------------------------------------------------\u001b[0m\u001b[0;34m\u001b[0m\u001b[0;34m\u001b[0m\u001b[0;34m\u001b[0m\u001b[0m\n",
      "\u001b[0;32m~/opt/anaconda3/lib/python3.8/site-packages/pandas/core/common.py\u001b[0m in \u001b[0;36mpipe\u001b[0;34m(obj, func, *args, **kwargs)\u001b[0m\n\u001b[1;32m    438\u001b[0m         \u001b[0;32mreturn\u001b[0m \u001b[0mfunc\u001b[0m\u001b[0;34m(\u001b[0m\u001b[0;34m*\u001b[0m\u001b[0margs\u001b[0m\u001b[0;34m,\u001b[0m \u001b[0;34m**\u001b[0m\u001b[0mkwargs\u001b[0m\u001b[0;34m)\u001b[0m\u001b[0;34m\u001b[0m\u001b[0;34m\u001b[0m\u001b[0m\n\u001b[1;32m    439\u001b[0m     \u001b[0;32melse\u001b[0m\u001b[0;34m:\u001b[0m\u001b[0;34m\u001b[0m\u001b[0;34m\u001b[0m\u001b[0m\n\u001b[0;32m--> 440\u001b[0;31m         \u001b[0;32mreturn\u001b[0m \u001b[0mfunc\u001b[0m\u001b[0;34m(\u001b[0m\u001b[0mobj\u001b[0m\u001b[0;34m,\u001b[0m \u001b[0;34m*\u001b[0m\u001b[0margs\u001b[0m\u001b[0;34m,\u001b[0m \u001b[0;34m**\u001b[0m\u001b[0mkwargs\u001b[0m\u001b[0;34m)\u001b[0m\u001b[0;34m\u001b[0m\u001b[0;34m\u001b[0m\u001b[0m\n\u001b[0m\u001b[1;32m    441\u001b[0m \u001b[0;34m\u001b[0m\u001b[0m\n\u001b[1;32m    442\u001b[0m \u001b[0;34m\u001b[0m\u001b[0m\n",
      "\u001b[0;32m<ipython-input-30-2aa143b7da4d>\u001b[0m in \u001b[0;36mdate\u001b[0;34m(orderlines)\u001b[0m\n\u001b[1;32m     14\u001b[0m \u001b[0;34m\u001b[0m\u001b[0m\n\u001b[1;32m     15\u001b[0m \u001b[0;32mdef\u001b[0m \u001b[0mdate\u001b[0m\u001b[0;34m(\u001b[0m\u001b[0morderlines\u001b[0m\u001b[0;34m)\u001b[0m\u001b[0;34m:\u001b[0m\u001b[0;34m\u001b[0m\u001b[0;34m\u001b[0m\u001b[0m\n\u001b[0;32m---> 16\u001b[0;31m     \u001b[0;32mreturn\u001b[0m\u001b[0;34m(\u001b[0m\u001b[0morderlines\u001b[0m\u001b[0;34m.\u001b[0m\u001b[0massign\u001b[0m\u001b[0;34m(\u001b[0m\u001b[0mdates\u001b[0m \u001b[0;34m=\u001b[0m \u001b[0morderlines\u001b[0m\u001b[0;34m[\u001b[0m\u001b[0;34m'date'\u001b[0m\u001b[0;34m]\u001b[0m\u001b[0;34m.\u001b[0m\u001b[0mdt\u001b[0m\u001b[0;34m.\u001b[0m\u001b[0mdate\u001b[0m\u001b[0;34m)\u001b[0m\u001b[0;34m)\u001b[0m\u001b[0;34m\u001b[0m\u001b[0;34m\u001b[0m\u001b[0m\n\u001b[0m\u001b[1;32m     17\u001b[0m \u001b[0;34m\u001b[0m\u001b[0m\n\u001b[1;32m     18\u001b[0m \u001b[0;32mdef\u001b[0m \u001b[0mspecific_time\u001b[0m\u001b[0;34m(\u001b[0m\u001b[0morderlines\u001b[0m\u001b[0;34m)\u001b[0m\u001b[0;34m:\u001b[0m\u001b[0;34m\u001b[0m\u001b[0;34m\u001b[0m\u001b[0m\n",
      "\u001b[0;32m~/opt/anaconda3/lib/python3.8/site-packages/pandas/core/generic.py\u001b[0m in \u001b[0;36m__getattr__\u001b[0;34m(self, name)\u001b[0m\n\u001b[1;32m   5459\u001b[0m             \u001b[0;32mor\u001b[0m \u001b[0mname\u001b[0m \u001b[0;32min\u001b[0m \u001b[0mself\u001b[0m\u001b[0;34m.\u001b[0m\u001b[0m_accessors\u001b[0m\u001b[0;34m\u001b[0m\u001b[0;34m\u001b[0m\u001b[0m\n\u001b[1;32m   5460\u001b[0m         ):\n\u001b[0;32m-> 5461\u001b[0;31m             \u001b[0;32mreturn\u001b[0m \u001b[0mobject\u001b[0m\u001b[0;34m.\u001b[0m\u001b[0m__getattribute__\u001b[0m\u001b[0;34m(\u001b[0m\u001b[0mself\u001b[0m\u001b[0;34m,\u001b[0m \u001b[0mname\u001b[0m\u001b[0;34m)\u001b[0m\u001b[0;34m\u001b[0m\u001b[0;34m\u001b[0m\u001b[0m\n\u001b[0m\u001b[1;32m   5462\u001b[0m         \u001b[0;32melse\u001b[0m\u001b[0;34m:\u001b[0m\u001b[0;34m\u001b[0m\u001b[0;34m\u001b[0m\u001b[0m\n\u001b[1;32m   5463\u001b[0m             \u001b[0;32mif\u001b[0m \u001b[0mself\u001b[0m\u001b[0;34m.\u001b[0m\u001b[0m_info_axis\u001b[0m\u001b[0;34m.\u001b[0m\u001b[0m_can_hold_identifiers_and_holds_name\u001b[0m\u001b[0;34m(\u001b[0m\u001b[0mname\u001b[0m\u001b[0;34m)\u001b[0m\u001b[0;34m:\u001b[0m\u001b[0;34m\u001b[0m\u001b[0;34m\u001b[0m\u001b[0m\n",
      "\u001b[0;32m~/opt/anaconda3/lib/python3.8/site-packages/pandas/core/accessor.py\u001b[0m in \u001b[0;36m__get__\u001b[0;34m(self, obj, cls)\u001b[0m\n\u001b[1;32m    178\u001b[0m             \u001b[0;31m# we're accessing the attribute of the class, i.e., Dataset.geo\u001b[0m\u001b[0;34m\u001b[0m\u001b[0;34m\u001b[0m\u001b[0;34m\u001b[0m\u001b[0m\n\u001b[1;32m    179\u001b[0m             \u001b[0;32mreturn\u001b[0m \u001b[0mself\u001b[0m\u001b[0;34m.\u001b[0m\u001b[0m_accessor\u001b[0m\u001b[0;34m\u001b[0m\u001b[0;34m\u001b[0m\u001b[0m\n\u001b[0;32m--> 180\u001b[0;31m         \u001b[0maccessor_obj\u001b[0m \u001b[0;34m=\u001b[0m \u001b[0mself\u001b[0m\u001b[0;34m.\u001b[0m\u001b[0m_accessor\u001b[0m\u001b[0;34m(\u001b[0m\u001b[0mobj\u001b[0m\u001b[0;34m)\u001b[0m\u001b[0;34m\u001b[0m\u001b[0;34m\u001b[0m\u001b[0m\n\u001b[0m\u001b[1;32m    181\u001b[0m         \u001b[0;31m# Replace the property with the accessor object. Inspired by:\u001b[0m\u001b[0;34m\u001b[0m\u001b[0;34m\u001b[0m\u001b[0;34m\u001b[0m\u001b[0m\n\u001b[1;32m    182\u001b[0m         \u001b[0;31m# https://www.pydanny.com/cached-property.html\u001b[0m\u001b[0;34m\u001b[0m\u001b[0;34m\u001b[0m\u001b[0;34m\u001b[0m\u001b[0m\n",
      "\u001b[0;32m~/opt/anaconda3/lib/python3.8/site-packages/pandas/core/indexes/accessors.py\u001b[0m in \u001b[0;36m__new__\u001b[0;34m(cls, data)\u001b[0m\n\u001b[1;32m    492\u001b[0m             \u001b[0;32mreturn\u001b[0m \u001b[0mPeriodProperties\u001b[0m\u001b[0;34m(\u001b[0m\u001b[0mdata\u001b[0m\u001b[0;34m,\u001b[0m \u001b[0morig\u001b[0m\u001b[0;34m)\u001b[0m\u001b[0;34m\u001b[0m\u001b[0;34m\u001b[0m\u001b[0m\n\u001b[1;32m    493\u001b[0m \u001b[0;34m\u001b[0m\u001b[0m\n\u001b[0;32m--> 494\u001b[0;31m         \u001b[0;32mraise\u001b[0m \u001b[0mAttributeError\u001b[0m\u001b[0;34m(\u001b[0m\u001b[0;34m\"Can only use .dt accessor with datetimelike values\"\u001b[0m\u001b[0;34m)\u001b[0m\u001b[0;34m\u001b[0m\u001b[0;34m\u001b[0m\u001b[0m\n\u001b[0m",
      "\u001b[0;31mAttributeError\u001b[0m: Can only use .dt accessor with datetimelike values"
     ]
    }
   ],
   "source": [
    "import pandas as pd\n",
    "\n",
    "orders = pd.read_csv(\"orders.csv\")\n",
    "orderlines = pd.read_csv(\"orderlines.csv\")\n",
    "\n",
    "def start_pipeline(data): \n",
    "    return data.copy()\n",
    "\n",
    "def top_6_orders(orderlines):\n",
    "    return(orderlines.groupby('id_order')['product_quantity'].sum().sort_values(ascending=False).head(6))\n",
    "\n",
    "def convert_time(orderlines):\n",
    "    return(pd.to_datetime(orderlines['date']))\n",
    "\n",
    "def date(orderlines):\n",
    "    return(orderlines.assign(dates = orderlines['date'].dt.date))\n",
    "\n",
    "def specific_time(orderlines):\n",
    "    return(order_2017[order_2017['dates'] == pd.to_datetime('2017-07-01')])\n",
    "\n",
    "def order_date (orderlines):\n",
    "    return(order_july_2017.groupby('id_order')['product_quantity'].sum().sort_values(ascending=False).head(6))\n",
    "\n",
    "\n",
    "def extract_month(orderlines):\n",
    "    return(orderlines['date'].dt.strftime('%B'))\n",
    "\n",
    "\n",
    "def extract_year(orderlines):\n",
    "    return(orderlines['date'].dt.strftime('%Y'))\n",
    "\n",
    "def extract_day(orderlines):\n",
    "    return(orderlines['date'].dt.strftime('%A'))\n",
    "\n",
    "\n",
    "def new_df_year (orderlines):\n",
    "    return (orderlines[orderlines['year'] == '2017'])\n",
    "\n",
    "def orders_year(orderlines):\n",
    "    return(month_order_2017.groupby('month').agg({'product_quantity':'sum'}).sort_values(by= 'product_quantity', ascending=False))\n",
    "\n",
    "def orders_day_month_year(orderlines):\n",
    "    return(month_order_2017\n",
    "    .groupby(['month', 'day', 'year'])\n",
    "    .agg({'product_quantity':'sum'})\n",
    "    .sort_values('product_quantity', ascending=False)\n",
    "    .reset_index()\n",
    "    .groupby('month')\n",
    "    .head(1))\n",
    "\n",
    "orderlines.pipe(date)"
   ]
  },
  {
   "cell_type": "markdown",
   "id": "6f775c65-5445-43af-81bc-0234f84b55d1",
   "metadata": {},
   "source": [
    "<h>Orders/Ordelines</h>"
   ]
  },
  {
   "cell_type": "code",
   "execution_count": 32,
   "id": "9a7d1111-973b-4c74-b353-ae6ffa0739cc",
   "metadata": {},
   "outputs": [],
   "source": [
    "import pandas as pd\n",
    "\n",
    "orders = pd.read_csv(\"orders.csv\")\n",
    "orderlines = pd.read_csv(\"orderlines.csv\")\n",
    "\n",
    "def start_pipeline(data): \n",
    "    return data.copy()\n",
    "\n",
    "def orders_info(orders,ordelines):\n",
    "    return (orderlines\n",
    "    .groupby('id_order')\n",
    "    .agg({'total_price':'sum'})\n",
    "    .merge(orders, how='left', left_on='id_order', right_on='order_id')\n",
    "    \n",
    ")\n",
    "\n",
    "def price_difference(orders_info):\n",
    "    return(orders_info['total_paid'] - orders_info['total_price'])\n",
    "\n",
    "def remove_outliers(orders_info):\n",
    "    return(orders_info.query('0<=price_difference<150'))\n",
    "\n"
   ]
  },
  {
   "cell_type": "markdown",
   "id": "8c65a183-d132-42ad-95ee-309e8b7b75cc",
   "metadata": {},
   "source": [
    "<h>Products</h>"
   ]
  },
  {
   "cell_type": "code",
   "execution_count": 36,
   "id": "a9fff018-a4b7-48e8-992d-fcf2e4ed33db",
   "metadata": {},
   "outputs": [],
   "source": [
    "import pandas as pd\n",
    "\n",
    "products = pd.read_csv(\"products.csv\")\n",
    "\n",
    "def start_pipeline(data): \n",
    "    return data.copy()\n",
    "\n",
    "def remove_duplicates(products):\n",
    "    return(products.drop_duplicates('sku'))\n",
    "\n",
    "def correct_prices(products,columns):\n",
    "    for c in columns:\n",
    "        products[c] = products.c.apply(lambda x : x +'.00' if x.count('.') == 0 else x)\n",
    "        products[c] = products.c.apply(lambda x: x  + '0' if x[-2]=='.' else x)\n",
    "        products[c] = products.c.apply(lambda x: str(float(x.replace('.',''))/1000) if ( (x[-4]=='.') & (x.count('.')==2)) else x)\n",
    "        products[c] = products.c.apply(lambda x: str(float(x.replace('.',''))/10000) if ( (x[-4]=='.') & (x.count('.')==1)) else x)\n",
    "        products[c] = products.c.astype(float)\n",
    "        products[c] = products.c.round(decimals = 2)\n",
    "    return products\n",
    "\n",
    "def missing_values(desc):\n",
    "    return(products.desc.fillna('See the product name'))\n",
    "\n",
    "def compare_prices(products,ordelines):\n",
    "    return((\n",
    "products\n",
    "    .assign(check_sku = products['sku'].isin(orderlines['sku']))\n",
    ")['check_sku'].sum())"
   ]
  },
  {
   "cell_type": "code",
   "execution_count": null,
   "id": "2b3883b5-04b6-4f00-881e-beb6b30e45cd",
   "metadata": {},
   "outputs": [],
   "source": []
  },
  {
   "cell_type": "code",
   "execution_count": null,
   "id": "b7a1314b-dfc3-4d5f-ac95-96a44db664b3",
   "metadata": {},
   "outputs": [],
   "source": []
  }
 ],
 "metadata": {
  "kernelspec": {
   "display_name": "Python 3",
   "language": "python",
   "name": "python3"
  },
  "language_info": {
   "codemirror_mode": {
    "name": "ipython",
    "version": 3
   },
   "file_extension": ".py",
   "mimetype": "text/x-python",
   "name": "python",
   "nbconvert_exporter": "python",
   "pygments_lexer": "ipython3",
   "version": "3.8.8"
  }
 },
 "nbformat": 4,
 "nbformat_minor": 5
}
